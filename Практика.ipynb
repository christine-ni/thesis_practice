{
  "nbformat": 4,
  "nbformat_minor": 0,
  "metadata": {
    "colab": {
      "provenance": []
    },
    "kernelspec": {
      "name": "python3",
      "display_name": "Python 3"
    },
    "language_info": {
      "name": "python"
    },
    "widgets": {
      "application/vnd.jupyter.widget-state+json": {
        "26774ce360ac4d1b8e25cb7da795e2d7": {
          "model_module": "@jupyter-widgets/controls",
          "model_name": "HBoxModel",
          "model_module_version": "1.5.0",
          "state": {
            "_dom_classes": [],
            "_model_module": "@jupyter-widgets/controls",
            "_model_module_version": "1.5.0",
            "_model_name": "HBoxModel",
            "_view_count": null,
            "_view_module": "@jupyter-widgets/controls",
            "_view_module_version": "1.5.0",
            "_view_name": "HBoxView",
            "box_style": "",
            "children": [
              "IPY_MODEL_531bdb3d112f424281497c70d14a7803",
              "IPY_MODEL_bd53f443b98142c598a33649e5ff0afe",
              "IPY_MODEL_a2982671f878406c88a2d7e13d86afcb"
            ],
            "layout": "IPY_MODEL_b54ce1b4c8ee4933af56db45eceb6d6d"
          }
        },
        "531bdb3d112f424281497c70d14a7803": {
          "model_module": "@jupyter-widgets/controls",
          "model_name": "HTMLModel",
          "model_module_version": "1.5.0",
          "state": {
            "_dom_classes": [],
            "_model_module": "@jupyter-widgets/controls",
            "_model_module_version": "1.5.0",
            "_model_name": "HTMLModel",
            "_view_count": null,
            "_view_module": "@jupyter-widgets/controls",
            "_view_module_version": "1.5.0",
            "_view_name": "HTMLView",
            "description": "",
            "description_tooltip": null,
            "layout": "IPY_MODEL_3a4d52468ae34cec8b8d4a8f9d37f2ec",
            "placeholder": "​",
            "style": "IPY_MODEL_7769cfc6bae146d6950928c6ed83921a",
            "value": "Map: 100%"
          }
        },
        "bd53f443b98142c598a33649e5ff0afe": {
          "model_module": "@jupyter-widgets/controls",
          "model_name": "FloatProgressModel",
          "model_module_version": "1.5.0",
          "state": {
            "_dom_classes": [],
            "_model_module": "@jupyter-widgets/controls",
            "_model_module_version": "1.5.0",
            "_model_name": "FloatProgressModel",
            "_view_count": null,
            "_view_module": "@jupyter-widgets/controls",
            "_view_module_version": "1.5.0",
            "_view_name": "ProgressView",
            "bar_style": "success",
            "description": "",
            "description_tooltip": null,
            "layout": "IPY_MODEL_3fc034cf863b4a09a24170835da80605",
            "max": 3127,
            "min": 0,
            "orientation": "horizontal",
            "style": "IPY_MODEL_ec11734621e245ae92fae6e50aa7e303",
            "value": 3127
          }
        },
        "a2982671f878406c88a2d7e13d86afcb": {
          "model_module": "@jupyter-widgets/controls",
          "model_name": "HTMLModel",
          "model_module_version": "1.5.0",
          "state": {
            "_dom_classes": [],
            "_model_module": "@jupyter-widgets/controls",
            "_model_module_version": "1.5.0",
            "_model_name": "HTMLModel",
            "_view_count": null,
            "_view_module": "@jupyter-widgets/controls",
            "_view_module_version": "1.5.0",
            "_view_name": "HTMLView",
            "description": "",
            "description_tooltip": null,
            "layout": "IPY_MODEL_fbcc1fd3b36d4cd2b3e07b6dc132ac94",
            "placeholder": "​",
            "style": "IPY_MODEL_98b5c2b7339d4cceb66b285baf8d4f05",
            "value": " 3127/3127 [00:00&lt;00:00, 4129.69 examples/s]"
          }
        },
        "b54ce1b4c8ee4933af56db45eceb6d6d": {
          "model_module": "@jupyter-widgets/base",
          "model_name": "LayoutModel",
          "model_module_version": "1.2.0",
          "state": {
            "_model_module": "@jupyter-widgets/base",
            "_model_module_version": "1.2.0",
            "_model_name": "LayoutModel",
            "_view_count": null,
            "_view_module": "@jupyter-widgets/base",
            "_view_module_version": "1.2.0",
            "_view_name": "LayoutView",
            "align_content": null,
            "align_items": null,
            "align_self": null,
            "border": null,
            "bottom": null,
            "display": null,
            "flex": null,
            "flex_flow": null,
            "grid_area": null,
            "grid_auto_columns": null,
            "grid_auto_flow": null,
            "grid_auto_rows": null,
            "grid_column": null,
            "grid_gap": null,
            "grid_row": null,
            "grid_template_areas": null,
            "grid_template_columns": null,
            "grid_template_rows": null,
            "height": null,
            "justify_content": null,
            "justify_items": null,
            "left": null,
            "margin": null,
            "max_height": null,
            "max_width": null,
            "min_height": null,
            "min_width": null,
            "object_fit": null,
            "object_position": null,
            "order": null,
            "overflow": null,
            "overflow_x": null,
            "overflow_y": null,
            "padding": null,
            "right": null,
            "top": null,
            "visibility": null,
            "width": null
          }
        },
        "3a4d52468ae34cec8b8d4a8f9d37f2ec": {
          "model_module": "@jupyter-widgets/base",
          "model_name": "LayoutModel",
          "model_module_version": "1.2.0",
          "state": {
            "_model_module": "@jupyter-widgets/base",
            "_model_module_version": "1.2.0",
            "_model_name": "LayoutModel",
            "_view_count": null,
            "_view_module": "@jupyter-widgets/base",
            "_view_module_version": "1.2.0",
            "_view_name": "LayoutView",
            "align_content": null,
            "align_items": null,
            "align_self": null,
            "border": null,
            "bottom": null,
            "display": null,
            "flex": null,
            "flex_flow": null,
            "grid_area": null,
            "grid_auto_columns": null,
            "grid_auto_flow": null,
            "grid_auto_rows": null,
            "grid_column": null,
            "grid_gap": null,
            "grid_row": null,
            "grid_template_areas": null,
            "grid_template_columns": null,
            "grid_template_rows": null,
            "height": null,
            "justify_content": null,
            "justify_items": null,
            "left": null,
            "margin": null,
            "max_height": null,
            "max_width": null,
            "min_height": null,
            "min_width": null,
            "object_fit": null,
            "object_position": null,
            "order": null,
            "overflow": null,
            "overflow_x": null,
            "overflow_y": null,
            "padding": null,
            "right": null,
            "top": null,
            "visibility": null,
            "width": null
          }
        },
        "7769cfc6bae146d6950928c6ed83921a": {
          "model_module": "@jupyter-widgets/controls",
          "model_name": "DescriptionStyleModel",
          "model_module_version": "1.5.0",
          "state": {
            "_model_module": "@jupyter-widgets/controls",
            "_model_module_version": "1.5.0",
            "_model_name": "DescriptionStyleModel",
            "_view_count": null,
            "_view_module": "@jupyter-widgets/base",
            "_view_module_version": "1.2.0",
            "_view_name": "StyleView",
            "description_width": ""
          }
        },
        "3fc034cf863b4a09a24170835da80605": {
          "model_module": "@jupyter-widgets/base",
          "model_name": "LayoutModel",
          "model_module_version": "1.2.0",
          "state": {
            "_model_module": "@jupyter-widgets/base",
            "_model_module_version": "1.2.0",
            "_model_name": "LayoutModel",
            "_view_count": null,
            "_view_module": "@jupyter-widgets/base",
            "_view_module_version": "1.2.0",
            "_view_name": "LayoutView",
            "align_content": null,
            "align_items": null,
            "align_self": null,
            "border": null,
            "bottom": null,
            "display": null,
            "flex": null,
            "flex_flow": null,
            "grid_area": null,
            "grid_auto_columns": null,
            "grid_auto_flow": null,
            "grid_auto_rows": null,
            "grid_column": null,
            "grid_gap": null,
            "grid_row": null,
            "grid_template_areas": null,
            "grid_template_columns": null,
            "grid_template_rows": null,
            "height": null,
            "justify_content": null,
            "justify_items": null,
            "left": null,
            "margin": null,
            "max_height": null,
            "max_width": null,
            "min_height": null,
            "min_width": null,
            "object_fit": null,
            "object_position": null,
            "order": null,
            "overflow": null,
            "overflow_x": null,
            "overflow_y": null,
            "padding": null,
            "right": null,
            "top": null,
            "visibility": null,
            "width": null
          }
        },
        "ec11734621e245ae92fae6e50aa7e303": {
          "model_module": "@jupyter-widgets/controls",
          "model_name": "ProgressStyleModel",
          "model_module_version": "1.5.0",
          "state": {
            "_model_module": "@jupyter-widgets/controls",
            "_model_module_version": "1.5.0",
            "_model_name": "ProgressStyleModel",
            "_view_count": null,
            "_view_module": "@jupyter-widgets/base",
            "_view_module_version": "1.2.0",
            "_view_name": "StyleView",
            "bar_color": null,
            "description_width": ""
          }
        },
        "fbcc1fd3b36d4cd2b3e07b6dc132ac94": {
          "model_module": "@jupyter-widgets/base",
          "model_name": "LayoutModel",
          "model_module_version": "1.2.0",
          "state": {
            "_model_module": "@jupyter-widgets/base",
            "_model_module_version": "1.2.0",
            "_model_name": "LayoutModel",
            "_view_count": null,
            "_view_module": "@jupyter-widgets/base",
            "_view_module_version": "1.2.0",
            "_view_name": "LayoutView",
            "align_content": null,
            "align_items": null,
            "align_self": null,
            "border": null,
            "bottom": null,
            "display": null,
            "flex": null,
            "flex_flow": null,
            "grid_area": null,
            "grid_auto_columns": null,
            "grid_auto_flow": null,
            "grid_auto_rows": null,
            "grid_column": null,
            "grid_gap": null,
            "grid_row": null,
            "grid_template_areas": null,
            "grid_template_columns": null,
            "grid_template_rows": null,
            "height": null,
            "justify_content": null,
            "justify_items": null,
            "left": null,
            "margin": null,
            "max_height": null,
            "max_width": null,
            "min_height": null,
            "min_width": null,
            "object_fit": null,
            "object_position": null,
            "order": null,
            "overflow": null,
            "overflow_x": null,
            "overflow_y": null,
            "padding": null,
            "right": null,
            "top": null,
            "visibility": null,
            "width": null
          }
        },
        "98b5c2b7339d4cceb66b285baf8d4f05": {
          "model_module": "@jupyter-widgets/controls",
          "model_name": "DescriptionStyleModel",
          "model_module_version": "1.5.0",
          "state": {
            "_model_module": "@jupyter-widgets/controls",
            "_model_module_version": "1.5.0",
            "_model_name": "DescriptionStyleModel",
            "_view_count": null,
            "_view_module": "@jupyter-widgets/base",
            "_view_module_version": "1.2.0",
            "_view_name": "StyleView",
            "description_width": ""
          }
        },
        "3a93153bbc5a4d1abcb2274ab39241ad": {
          "model_module": "@jupyter-widgets/controls",
          "model_name": "HBoxModel",
          "model_module_version": "1.5.0",
          "state": {
            "_dom_classes": [],
            "_model_module": "@jupyter-widgets/controls",
            "_model_module_version": "1.5.0",
            "_model_name": "HBoxModel",
            "_view_count": null,
            "_view_module": "@jupyter-widgets/controls",
            "_view_module_version": "1.5.0",
            "_view_name": "HBoxView",
            "box_style": "",
            "children": [
              "IPY_MODEL_35cd68c6ded1402689a7aecbbb4f4293",
              "IPY_MODEL_6f413691c3fd4e24a08d9970b6cbbd3b",
              "IPY_MODEL_8a5ab9e3433f49f3b1c9d291ea409886"
            ],
            "layout": "IPY_MODEL_155ced7b75f446feb1d067bd0b737533"
          }
        },
        "35cd68c6ded1402689a7aecbbb4f4293": {
          "model_module": "@jupyter-widgets/controls",
          "model_name": "HTMLModel",
          "model_module_version": "1.5.0",
          "state": {
            "_dom_classes": [],
            "_model_module": "@jupyter-widgets/controls",
            "_model_module_version": "1.5.0",
            "_model_name": "HTMLModel",
            "_view_count": null,
            "_view_module": "@jupyter-widgets/controls",
            "_view_module_version": "1.5.0",
            "_view_name": "HTMLView",
            "description": "",
            "description_tooltip": null,
            "layout": "IPY_MODEL_8d5fb481e1954a36a5308c5259d5fe0d",
            "placeholder": "​",
            "style": "IPY_MODEL_2bcf24f2849e4728ad4da6fa3cb2646a",
            "value": "Map: 100%"
          }
        },
        "6f413691c3fd4e24a08d9970b6cbbd3b": {
          "model_module": "@jupyter-widgets/controls",
          "model_name": "FloatProgressModel",
          "model_module_version": "1.5.0",
          "state": {
            "_dom_classes": [],
            "_model_module": "@jupyter-widgets/controls",
            "_model_module_version": "1.5.0",
            "_model_name": "FloatProgressModel",
            "_view_count": null,
            "_view_module": "@jupyter-widgets/controls",
            "_view_module_version": "1.5.0",
            "_view_name": "ProgressView",
            "bar_style": "success",
            "description": "",
            "description_tooltip": null,
            "layout": "IPY_MODEL_18ade527b55648b48c8cb9411fd1f2bc",
            "max": 671,
            "min": 0,
            "orientation": "horizontal",
            "style": "IPY_MODEL_969f69095684444a8821db96b871acce",
            "value": 671
          }
        },
        "8a5ab9e3433f49f3b1c9d291ea409886": {
          "model_module": "@jupyter-widgets/controls",
          "model_name": "HTMLModel",
          "model_module_version": "1.5.0",
          "state": {
            "_dom_classes": [],
            "_model_module": "@jupyter-widgets/controls",
            "_model_module_version": "1.5.0",
            "_model_name": "HTMLModel",
            "_view_count": null,
            "_view_module": "@jupyter-widgets/controls",
            "_view_module_version": "1.5.0",
            "_view_name": "HTMLView",
            "description": "",
            "description_tooltip": null,
            "layout": "IPY_MODEL_602c12d59e6a4d6c873748b078f4002d",
            "placeholder": "​",
            "style": "IPY_MODEL_2a627458630d421ea78c638f1bb74b23",
            "value": " 671/671 [00:00&lt;00:00, 2292.19 examples/s]"
          }
        },
        "155ced7b75f446feb1d067bd0b737533": {
          "model_module": "@jupyter-widgets/base",
          "model_name": "LayoutModel",
          "model_module_version": "1.2.0",
          "state": {
            "_model_module": "@jupyter-widgets/base",
            "_model_module_version": "1.2.0",
            "_model_name": "LayoutModel",
            "_view_count": null,
            "_view_module": "@jupyter-widgets/base",
            "_view_module_version": "1.2.0",
            "_view_name": "LayoutView",
            "align_content": null,
            "align_items": null,
            "align_self": null,
            "border": null,
            "bottom": null,
            "display": null,
            "flex": null,
            "flex_flow": null,
            "grid_area": null,
            "grid_auto_columns": null,
            "grid_auto_flow": null,
            "grid_auto_rows": null,
            "grid_column": null,
            "grid_gap": null,
            "grid_row": null,
            "grid_template_areas": null,
            "grid_template_columns": null,
            "grid_template_rows": null,
            "height": null,
            "justify_content": null,
            "justify_items": null,
            "left": null,
            "margin": null,
            "max_height": null,
            "max_width": null,
            "min_height": null,
            "min_width": null,
            "object_fit": null,
            "object_position": null,
            "order": null,
            "overflow": null,
            "overflow_x": null,
            "overflow_y": null,
            "padding": null,
            "right": null,
            "top": null,
            "visibility": null,
            "width": null
          }
        },
        "8d5fb481e1954a36a5308c5259d5fe0d": {
          "model_module": "@jupyter-widgets/base",
          "model_name": "LayoutModel",
          "model_module_version": "1.2.0",
          "state": {
            "_model_module": "@jupyter-widgets/base",
            "_model_module_version": "1.2.0",
            "_model_name": "LayoutModel",
            "_view_count": null,
            "_view_module": "@jupyter-widgets/base",
            "_view_module_version": "1.2.0",
            "_view_name": "LayoutView",
            "align_content": null,
            "align_items": null,
            "align_self": null,
            "border": null,
            "bottom": null,
            "display": null,
            "flex": null,
            "flex_flow": null,
            "grid_area": null,
            "grid_auto_columns": null,
            "grid_auto_flow": null,
            "grid_auto_rows": null,
            "grid_column": null,
            "grid_gap": null,
            "grid_row": null,
            "grid_template_areas": null,
            "grid_template_columns": null,
            "grid_template_rows": null,
            "height": null,
            "justify_content": null,
            "justify_items": null,
            "left": null,
            "margin": null,
            "max_height": null,
            "max_width": null,
            "min_height": null,
            "min_width": null,
            "object_fit": null,
            "object_position": null,
            "order": null,
            "overflow": null,
            "overflow_x": null,
            "overflow_y": null,
            "padding": null,
            "right": null,
            "top": null,
            "visibility": null,
            "width": null
          }
        },
        "2bcf24f2849e4728ad4da6fa3cb2646a": {
          "model_module": "@jupyter-widgets/controls",
          "model_name": "DescriptionStyleModel",
          "model_module_version": "1.5.0",
          "state": {
            "_model_module": "@jupyter-widgets/controls",
            "_model_module_version": "1.5.0",
            "_model_name": "DescriptionStyleModel",
            "_view_count": null,
            "_view_module": "@jupyter-widgets/base",
            "_view_module_version": "1.2.0",
            "_view_name": "StyleView",
            "description_width": ""
          }
        },
        "18ade527b55648b48c8cb9411fd1f2bc": {
          "model_module": "@jupyter-widgets/base",
          "model_name": "LayoutModel",
          "model_module_version": "1.2.0",
          "state": {
            "_model_module": "@jupyter-widgets/base",
            "_model_module_version": "1.2.0",
            "_model_name": "LayoutModel",
            "_view_count": null,
            "_view_module": "@jupyter-widgets/base",
            "_view_module_version": "1.2.0",
            "_view_name": "LayoutView",
            "align_content": null,
            "align_items": null,
            "align_self": null,
            "border": null,
            "bottom": null,
            "display": null,
            "flex": null,
            "flex_flow": null,
            "grid_area": null,
            "grid_auto_columns": null,
            "grid_auto_flow": null,
            "grid_auto_rows": null,
            "grid_column": null,
            "grid_gap": null,
            "grid_row": null,
            "grid_template_areas": null,
            "grid_template_columns": null,
            "grid_template_rows": null,
            "height": null,
            "justify_content": null,
            "justify_items": null,
            "left": null,
            "margin": null,
            "max_height": null,
            "max_width": null,
            "min_height": null,
            "min_width": null,
            "object_fit": null,
            "object_position": null,
            "order": null,
            "overflow": null,
            "overflow_x": null,
            "overflow_y": null,
            "padding": null,
            "right": null,
            "top": null,
            "visibility": null,
            "width": null
          }
        },
        "969f69095684444a8821db96b871acce": {
          "model_module": "@jupyter-widgets/controls",
          "model_name": "ProgressStyleModel",
          "model_module_version": "1.5.0",
          "state": {
            "_model_module": "@jupyter-widgets/controls",
            "_model_module_version": "1.5.0",
            "_model_name": "ProgressStyleModel",
            "_view_count": null,
            "_view_module": "@jupyter-widgets/base",
            "_view_module_version": "1.2.0",
            "_view_name": "StyleView",
            "bar_color": null,
            "description_width": ""
          }
        },
        "602c12d59e6a4d6c873748b078f4002d": {
          "model_module": "@jupyter-widgets/base",
          "model_name": "LayoutModel",
          "model_module_version": "1.2.0",
          "state": {
            "_model_module": "@jupyter-widgets/base",
            "_model_module_version": "1.2.0",
            "_model_name": "LayoutModel",
            "_view_count": null,
            "_view_module": "@jupyter-widgets/base",
            "_view_module_version": "1.2.0",
            "_view_name": "LayoutView",
            "align_content": null,
            "align_items": null,
            "align_self": null,
            "border": null,
            "bottom": null,
            "display": null,
            "flex": null,
            "flex_flow": null,
            "grid_area": null,
            "grid_auto_columns": null,
            "grid_auto_flow": null,
            "grid_auto_rows": null,
            "grid_column": null,
            "grid_gap": null,
            "grid_row": null,
            "grid_template_areas": null,
            "grid_template_columns": null,
            "grid_template_rows": null,
            "height": null,
            "justify_content": null,
            "justify_items": null,
            "left": null,
            "margin": null,
            "max_height": null,
            "max_width": null,
            "min_height": null,
            "min_width": null,
            "object_fit": null,
            "object_position": null,
            "order": null,
            "overflow": null,
            "overflow_x": null,
            "overflow_y": null,
            "padding": null,
            "right": null,
            "top": null,
            "visibility": null,
            "width": null
          }
        },
        "2a627458630d421ea78c638f1bb74b23": {
          "model_module": "@jupyter-widgets/controls",
          "model_name": "DescriptionStyleModel",
          "model_module_version": "1.5.0",
          "state": {
            "_model_module": "@jupyter-widgets/controls",
            "_model_module_version": "1.5.0",
            "_model_name": "DescriptionStyleModel",
            "_view_count": null,
            "_view_module": "@jupyter-widgets/base",
            "_view_module_version": "1.2.0",
            "_view_name": "StyleView",
            "description_width": ""
          }
        },
        "9fcd87b47ec04ebb8fbb16af0a23c9e6": {
          "model_module": "@jupyter-widgets/controls",
          "model_name": "HBoxModel",
          "model_module_version": "1.5.0",
          "state": {
            "_dom_classes": [],
            "_model_module": "@jupyter-widgets/controls",
            "_model_module_version": "1.5.0",
            "_model_name": "HBoxModel",
            "_view_count": null,
            "_view_module": "@jupyter-widgets/controls",
            "_view_module_version": "1.5.0",
            "_view_name": "HBoxView",
            "box_style": "",
            "children": [
              "IPY_MODEL_03908fa3784a46f2afa2c374f80565f2",
              "IPY_MODEL_60ce6324c603430cb452db49424ff7dc",
              "IPY_MODEL_b3d74e2f8a644238bfb6dc50b49d7c68"
            ],
            "layout": "IPY_MODEL_7a5986f2c3fd40d2b94e4be47e6ea6a1"
          }
        },
        "03908fa3784a46f2afa2c374f80565f2": {
          "model_module": "@jupyter-widgets/controls",
          "model_name": "HTMLModel",
          "model_module_version": "1.5.0",
          "state": {
            "_dom_classes": [],
            "_model_module": "@jupyter-widgets/controls",
            "_model_module_version": "1.5.0",
            "_model_name": "HTMLModel",
            "_view_count": null,
            "_view_module": "@jupyter-widgets/controls",
            "_view_module_version": "1.5.0",
            "_view_name": "HTMLView",
            "description": "",
            "description_tooltip": null,
            "layout": "IPY_MODEL_6d97052396884e9aa6dc78c29d31ce27",
            "placeholder": "​",
            "style": "IPY_MODEL_e684e81ac53541c1bc71659afe2abca5",
            "value": "Map: 100%"
          }
        },
        "60ce6324c603430cb452db49424ff7dc": {
          "model_module": "@jupyter-widgets/controls",
          "model_name": "FloatProgressModel",
          "model_module_version": "1.5.0",
          "state": {
            "_dom_classes": [],
            "_model_module": "@jupyter-widgets/controls",
            "_model_module_version": "1.5.0",
            "_model_name": "FloatProgressModel",
            "_view_count": null,
            "_view_module": "@jupyter-widgets/controls",
            "_view_module_version": "1.5.0",
            "_view_name": "ProgressView",
            "bar_style": "success",
            "description": "",
            "description_tooltip": null,
            "layout": "IPY_MODEL_5b88e615f49a42f58071e9260a688e9b",
            "max": 670,
            "min": 0,
            "orientation": "horizontal",
            "style": "IPY_MODEL_bf196e4a327942db9e2b7c8b45a37347",
            "value": 670
          }
        },
        "b3d74e2f8a644238bfb6dc50b49d7c68": {
          "model_module": "@jupyter-widgets/controls",
          "model_name": "HTMLModel",
          "model_module_version": "1.5.0",
          "state": {
            "_dom_classes": [],
            "_model_module": "@jupyter-widgets/controls",
            "_model_module_version": "1.5.0",
            "_model_name": "HTMLModel",
            "_view_count": null,
            "_view_module": "@jupyter-widgets/controls",
            "_view_module_version": "1.5.0",
            "_view_name": "HTMLView",
            "description": "",
            "description_tooltip": null,
            "layout": "IPY_MODEL_b7015613f4d04231abd1b07d9bbcfa3b",
            "placeholder": "​",
            "style": "IPY_MODEL_cd33aded051a4ce3a2e9a443f2eff2f1",
            "value": " 670/670 [00:00&lt;00:00, 2252.91 examples/s]"
          }
        },
        "7a5986f2c3fd40d2b94e4be47e6ea6a1": {
          "model_module": "@jupyter-widgets/base",
          "model_name": "LayoutModel",
          "model_module_version": "1.2.0",
          "state": {
            "_model_module": "@jupyter-widgets/base",
            "_model_module_version": "1.2.0",
            "_model_name": "LayoutModel",
            "_view_count": null,
            "_view_module": "@jupyter-widgets/base",
            "_view_module_version": "1.2.0",
            "_view_name": "LayoutView",
            "align_content": null,
            "align_items": null,
            "align_self": null,
            "border": null,
            "bottom": null,
            "display": null,
            "flex": null,
            "flex_flow": null,
            "grid_area": null,
            "grid_auto_columns": null,
            "grid_auto_flow": null,
            "grid_auto_rows": null,
            "grid_column": null,
            "grid_gap": null,
            "grid_row": null,
            "grid_template_areas": null,
            "grid_template_columns": null,
            "grid_template_rows": null,
            "height": null,
            "justify_content": null,
            "justify_items": null,
            "left": null,
            "margin": null,
            "max_height": null,
            "max_width": null,
            "min_height": null,
            "min_width": null,
            "object_fit": null,
            "object_position": null,
            "order": null,
            "overflow": null,
            "overflow_x": null,
            "overflow_y": null,
            "padding": null,
            "right": null,
            "top": null,
            "visibility": null,
            "width": null
          }
        },
        "6d97052396884e9aa6dc78c29d31ce27": {
          "model_module": "@jupyter-widgets/base",
          "model_name": "LayoutModel",
          "model_module_version": "1.2.0",
          "state": {
            "_model_module": "@jupyter-widgets/base",
            "_model_module_version": "1.2.0",
            "_model_name": "LayoutModel",
            "_view_count": null,
            "_view_module": "@jupyter-widgets/base",
            "_view_module_version": "1.2.0",
            "_view_name": "LayoutView",
            "align_content": null,
            "align_items": null,
            "align_self": null,
            "border": null,
            "bottom": null,
            "display": null,
            "flex": null,
            "flex_flow": null,
            "grid_area": null,
            "grid_auto_columns": null,
            "grid_auto_flow": null,
            "grid_auto_rows": null,
            "grid_column": null,
            "grid_gap": null,
            "grid_row": null,
            "grid_template_areas": null,
            "grid_template_columns": null,
            "grid_template_rows": null,
            "height": null,
            "justify_content": null,
            "justify_items": null,
            "left": null,
            "margin": null,
            "max_height": null,
            "max_width": null,
            "min_height": null,
            "min_width": null,
            "object_fit": null,
            "object_position": null,
            "order": null,
            "overflow": null,
            "overflow_x": null,
            "overflow_y": null,
            "padding": null,
            "right": null,
            "top": null,
            "visibility": null,
            "width": null
          }
        },
        "e684e81ac53541c1bc71659afe2abca5": {
          "model_module": "@jupyter-widgets/controls",
          "model_name": "DescriptionStyleModel",
          "model_module_version": "1.5.0",
          "state": {
            "_model_module": "@jupyter-widgets/controls",
            "_model_module_version": "1.5.0",
            "_model_name": "DescriptionStyleModel",
            "_view_count": null,
            "_view_module": "@jupyter-widgets/base",
            "_view_module_version": "1.2.0",
            "_view_name": "StyleView",
            "description_width": ""
          }
        },
        "5b88e615f49a42f58071e9260a688e9b": {
          "model_module": "@jupyter-widgets/base",
          "model_name": "LayoutModel",
          "model_module_version": "1.2.0",
          "state": {
            "_model_module": "@jupyter-widgets/base",
            "_model_module_version": "1.2.0",
            "_model_name": "LayoutModel",
            "_view_count": null,
            "_view_module": "@jupyter-widgets/base",
            "_view_module_version": "1.2.0",
            "_view_name": "LayoutView",
            "align_content": null,
            "align_items": null,
            "align_self": null,
            "border": null,
            "bottom": null,
            "display": null,
            "flex": null,
            "flex_flow": null,
            "grid_area": null,
            "grid_auto_columns": null,
            "grid_auto_flow": null,
            "grid_auto_rows": null,
            "grid_column": null,
            "grid_gap": null,
            "grid_row": null,
            "grid_template_areas": null,
            "grid_template_columns": null,
            "grid_template_rows": null,
            "height": null,
            "justify_content": null,
            "justify_items": null,
            "left": null,
            "margin": null,
            "max_height": null,
            "max_width": null,
            "min_height": null,
            "min_width": null,
            "object_fit": null,
            "object_position": null,
            "order": null,
            "overflow": null,
            "overflow_x": null,
            "overflow_y": null,
            "padding": null,
            "right": null,
            "top": null,
            "visibility": null,
            "width": null
          }
        },
        "bf196e4a327942db9e2b7c8b45a37347": {
          "model_module": "@jupyter-widgets/controls",
          "model_name": "ProgressStyleModel",
          "model_module_version": "1.5.0",
          "state": {
            "_model_module": "@jupyter-widgets/controls",
            "_model_module_version": "1.5.0",
            "_model_name": "ProgressStyleModel",
            "_view_count": null,
            "_view_module": "@jupyter-widgets/base",
            "_view_module_version": "1.2.0",
            "_view_name": "StyleView",
            "bar_color": null,
            "description_width": ""
          }
        },
        "b7015613f4d04231abd1b07d9bbcfa3b": {
          "model_module": "@jupyter-widgets/base",
          "model_name": "LayoutModel",
          "model_module_version": "1.2.0",
          "state": {
            "_model_module": "@jupyter-widgets/base",
            "_model_module_version": "1.2.0",
            "_model_name": "LayoutModel",
            "_view_count": null,
            "_view_module": "@jupyter-widgets/base",
            "_view_module_version": "1.2.0",
            "_view_name": "LayoutView",
            "align_content": null,
            "align_items": null,
            "align_self": null,
            "border": null,
            "bottom": null,
            "display": null,
            "flex": null,
            "flex_flow": null,
            "grid_area": null,
            "grid_auto_columns": null,
            "grid_auto_flow": null,
            "grid_auto_rows": null,
            "grid_column": null,
            "grid_gap": null,
            "grid_row": null,
            "grid_template_areas": null,
            "grid_template_columns": null,
            "grid_template_rows": null,
            "height": null,
            "justify_content": null,
            "justify_items": null,
            "left": null,
            "margin": null,
            "max_height": null,
            "max_width": null,
            "min_height": null,
            "min_width": null,
            "object_fit": null,
            "object_position": null,
            "order": null,
            "overflow": null,
            "overflow_x": null,
            "overflow_y": null,
            "padding": null,
            "right": null,
            "top": null,
            "visibility": null,
            "width": null
          }
        },
        "cd33aded051a4ce3a2e9a443f2eff2f1": {
          "model_module": "@jupyter-widgets/controls",
          "model_name": "DescriptionStyleModel",
          "model_module_version": "1.5.0",
          "state": {
            "_model_module": "@jupyter-widgets/controls",
            "_model_module_version": "1.5.0",
            "_model_name": "DescriptionStyleModel",
            "_view_count": null,
            "_view_module": "@jupyter-widgets/base",
            "_view_module_version": "1.2.0",
            "_view_name": "StyleView",
            "description_width": ""
          }
        },
        "f82bc08095604e9c946c5466ab38281c": {
          "model_module": "@jupyter-widgets/controls",
          "model_name": "HBoxModel",
          "model_module_version": "1.5.0",
          "state": {
            "_dom_classes": [],
            "_model_module": "@jupyter-widgets/controls",
            "_model_module_version": "1.5.0",
            "_model_name": "HBoxModel",
            "_view_count": null,
            "_view_module": "@jupyter-widgets/controls",
            "_view_module_version": "1.5.0",
            "_view_name": "HBoxView",
            "box_style": "",
            "children": [
              "IPY_MODEL_c003803b783147e390c1225fe8ffae09",
              "IPY_MODEL_28e51a98e88b4354afdc759a5553a355",
              "IPY_MODEL_973864cd15e0439db842e4a813f07e03"
            ],
            "layout": "IPY_MODEL_f4ceee1e34d84ee1b8617a568fa35466"
          }
        },
        "c003803b783147e390c1225fe8ffae09": {
          "model_module": "@jupyter-widgets/controls",
          "model_name": "HTMLModel",
          "model_module_version": "1.5.0",
          "state": {
            "_dom_classes": [],
            "_model_module": "@jupyter-widgets/controls",
            "_model_module_version": "1.5.0",
            "_model_name": "HTMLModel",
            "_view_count": null,
            "_view_module": "@jupyter-widgets/controls",
            "_view_module_version": "1.5.0",
            "_view_name": "HTMLView",
            "description": "",
            "description_tooltip": null,
            "layout": "IPY_MODEL_0312255fcbf9404cbd1f5cfb3a7712f9",
            "placeholder": "​",
            "style": "IPY_MODEL_a9b352d9edad4750b2ad7e62bbb5a3ca",
            "value": "Downloading builder script: 100%"
          }
        },
        "28e51a98e88b4354afdc759a5553a355": {
          "model_module": "@jupyter-widgets/controls",
          "model_name": "FloatProgressModel",
          "model_module_version": "1.5.0",
          "state": {
            "_dom_classes": [],
            "_model_module": "@jupyter-widgets/controls",
            "_model_module_version": "1.5.0",
            "_model_name": "FloatProgressModel",
            "_view_count": null,
            "_view_module": "@jupyter-widgets/controls",
            "_view_module_version": "1.5.0",
            "_view_name": "ProgressView",
            "bar_style": "success",
            "description": "",
            "description_tooltip": null,
            "layout": "IPY_MODEL_5bba3e3c0e494623b5290c150ba350d8",
            "max": 4203,
            "min": 0,
            "orientation": "horizontal",
            "style": "IPY_MODEL_83c94e3d536f401697cc3f7d63b30034",
            "value": 4203
          }
        },
        "973864cd15e0439db842e4a813f07e03": {
          "model_module": "@jupyter-widgets/controls",
          "model_name": "HTMLModel",
          "model_module_version": "1.5.0",
          "state": {
            "_dom_classes": [],
            "_model_module": "@jupyter-widgets/controls",
            "_model_module_version": "1.5.0",
            "_model_name": "HTMLModel",
            "_view_count": null,
            "_view_module": "@jupyter-widgets/controls",
            "_view_module_version": "1.5.0",
            "_view_name": "HTMLView",
            "description": "",
            "description_tooltip": null,
            "layout": "IPY_MODEL_0182ad92c0544cebb0937881874dfb94",
            "placeholder": "​",
            "style": "IPY_MODEL_7ae8e2889f3c4f2fb674d12fb486ea5d",
            "value": " 4.20k/4.20k [00:00&lt;00:00, 163kB/s]"
          }
        },
        "f4ceee1e34d84ee1b8617a568fa35466": {
          "model_module": "@jupyter-widgets/base",
          "model_name": "LayoutModel",
          "model_module_version": "1.2.0",
          "state": {
            "_model_module": "@jupyter-widgets/base",
            "_model_module_version": "1.2.0",
            "_model_name": "LayoutModel",
            "_view_count": null,
            "_view_module": "@jupyter-widgets/base",
            "_view_module_version": "1.2.0",
            "_view_name": "LayoutView",
            "align_content": null,
            "align_items": null,
            "align_self": null,
            "border": null,
            "bottom": null,
            "display": null,
            "flex": null,
            "flex_flow": null,
            "grid_area": null,
            "grid_auto_columns": null,
            "grid_auto_flow": null,
            "grid_auto_rows": null,
            "grid_column": null,
            "grid_gap": null,
            "grid_row": null,
            "grid_template_areas": null,
            "grid_template_columns": null,
            "grid_template_rows": null,
            "height": null,
            "justify_content": null,
            "justify_items": null,
            "left": null,
            "margin": null,
            "max_height": null,
            "max_width": null,
            "min_height": null,
            "min_width": null,
            "object_fit": null,
            "object_position": null,
            "order": null,
            "overflow": null,
            "overflow_x": null,
            "overflow_y": null,
            "padding": null,
            "right": null,
            "top": null,
            "visibility": null,
            "width": null
          }
        },
        "0312255fcbf9404cbd1f5cfb3a7712f9": {
          "model_module": "@jupyter-widgets/base",
          "model_name": "LayoutModel",
          "model_module_version": "1.2.0",
          "state": {
            "_model_module": "@jupyter-widgets/base",
            "_model_module_version": "1.2.0",
            "_model_name": "LayoutModel",
            "_view_count": null,
            "_view_module": "@jupyter-widgets/base",
            "_view_module_version": "1.2.0",
            "_view_name": "LayoutView",
            "align_content": null,
            "align_items": null,
            "align_self": null,
            "border": null,
            "bottom": null,
            "display": null,
            "flex": null,
            "flex_flow": null,
            "grid_area": null,
            "grid_auto_columns": null,
            "grid_auto_flow": null,
            "grid_auto_rows": null,
            "grid_column": null,
            "grid_gap": null,
            "grid_row": null,
            "grid_template_areas": null,
            "grid_template_columns": null,
            "grid_template_rows": null,
            "height": null,
            "justify_content": null,
            "justify_items": null,
            "left": null,
            "margin": null,
            "max_height": null,
            "max_width": null,
            "min_height": null,
            "min_width": null,
            "object_fit": null,
            "object_position": null,
            "order": null,
            "overflow": null,
            "overflow_x": null,
            "overflow_y": null,
            "padding": null,
            "right": null,
            "top": null,
            "visibility": null,
            "width": null
          }
        },
        "a9b352d9edad4750b2ad7e62bbb5a3ca": {
          "model_module": "@jupyter-widgets/controls",
          "model_name": "DescriptionStyleModel",
          "model_module_version": "1.5.0",
          "state": {
            "_model_module": "@jupyter-widgets/controls",
            "_model_module_version": "1.5.0",
            "_model_name": "DescriptionStyleModel",
            "_view_count": null,
            "_view_module": "@jupyter-widgets/base",
            "_view_module_version": "1.2.0",
            "_view_name": "StyleView",
            "description_width": ""
          }
        },
        "5bba3e3c0e494623b5290c150ba350d8": {
          "model_module": "@jupyter-widgets/base",
          "model_name": "LayoutModel",
          "model_module_version": "1.2.0",
          "state": {
            "_model_module": "@jupyter-widgets/base",
            "_model_module_version": "1.2.0",
            "_model_name": "LayoutModel",
            "_view_count": null,
            "_view_module": "@jupyter-widgets/base",
            "_view_module_version": "1.2.0",
            "_view_name": "LayoutView",
            "align_content": null,
            "align_items": null,
            "align_self": null,
            "border": null,
            "bottom": null,
            "display": null,
            "flex": null,
            "flex_flow": null,
            "grid_area": null,
            "grid_auto_columns": null,
            "grid_auto_flow": null,
            "grid_auto_rows": null,
            "grid_column": null,
            "grid_gap": null,
            "grid_row": null,
            "grid_template_areas": null,
            "grid_template_columns": null,
            "grid_template_rows": null,
            "height": null,
            "justify_content": null,
            "justify_items": null,
            "left": null,
            "margin": null,
            "max_height": null,
            "max_width": null,
            "min_height": null,
            "min_width": null,
            "object_fit": null,
            "object_position": null,
            "order": null,
            "overflow": null,
            "overflow_x": null,
            "overflow_y": null,
            "padding": null,
            "right": null,
            "top": null,
            "visibility": null,
            "width": null
          }
        },
        "83c94e3d536f401697cc3f7d63b30034": {
          "model_module": "@jupyter-widgets/controls",
          "model_name": "ProgressStyleModel",
          "model_module_version": "1.5.0",
          "state": {
            "_model_module": "@jupyter-widgets/controls",
            "_model_module_version": "1.5.0",
            "_model_name": "ProgressStyleModel",
            "_view_count": null,
            "_view_module": "@jupyter-widgets/base",
            "_view_module_version": "1.2.0",
            "_view_name": "StyleView",
            "bar_color": null,
            "description_width": ""
          }
        },
        "0182ad92c0544cebb0937881874dfb94": {
          "model_module": "@jupyter-widgets/base",
          "model_name": "LayoutModel",
          "model_module_version": "1.2.0",
          "state": {
            "_model_module": "@jupyter-widgets/base",
            "_model_module_version": "1.2.0",
            "_model_name": "LayoutModel",
            "_view_count": null,
            "_view_module": "@jupyter-widgets/base",
            "_view_module_version": "1.2.0",
            "_view_name": "LayoutView",
            "align_content": null,
            "align_items": null,
            "align_self": null,
            "border": null,
            "bottom": null,
            "display": null,
            "flex": null,
            "flex_flow": null,
            "grid_area": null,
            "grid_auto_columns": null,
            "grid_auto_flow": null,
            "grid_auto_rows": null,
            "grid_column": null,
            "grid_gap": null,
            "grid_row": null,
            "grid_template_areas": null,
            "grid_template_columns": null,
            "grid_template_rows": null,
            "height": null,
            "justify_content": null,
            "justify_items": null,
            "left": null,
            "margin": null,
            "max_height": null,
            "max_width": null,
            "min_height": null,
            "min_width": null,
            "object_fit": null,
            "object_position": null,
            "order": null,
            "overflow": null,
            "overflow_x": null,
            "overflow_y": null,
            "padding": null,
            "right": null,
            "top": null,
            "visibility": null,
            "width": null
          }
        },
        "7ae8e2889f3c4f2fb674d12fb486ea5d": {
          "model_module": "@jupyter-widgets/controls",
          "model_name": "DescriptionStyleModel",
          "model_module_version": "1.5.0",
          "state": {
            "_model_module": "@jupyter-widgets/controls",
            "_model_module_version": "1.5.0",
            "_model_name": "DescriptionStyleModel",
            "_view_count": null,
            "_view_module": "@jupyter-widgets/base",
            "_view_module_version": "1.2.0",
            "_view_name": "StyleView",
            "description_width": ""
          }
        },
        "b165fdcd39b74219987e4e844a02bca6": {
          "model_module": "@jupyter-widgets/controls",
          "model_name": "HBoxModel",
          "model_module_version": "1.5.0",
          "state": {
            "_dom_classes": [],
            "_model_module": "@jupyter-widgets/controls",
            "_model_module_version": "1.5.0",
            "_model_name": "HBoxModel",
            "_view_count": null,
            "_view_module": "@jupyter-widgets/controls",
            "_view_module_version": "1.5.0",
            "_view_name": "HBoxView",
            "box_style": "",
            "children": [
              "IPY_MODEL_29a5ecf848ce4d25847b78bbd68573d5",
              "IPY_MODEL_48cca7293a2a4970b79246fc09035b81",
              "IPY_MODEL_229226542df84f26ad03b6071e71296d"
            ],
            "layout": "IPY_MODEL_e832e00347794f85ab4a4b9e336ebb2e"
          }
        },
        "29a5ecf848ce4d25847b78bbd68573d5": {
          "model_module": "@jupyter-widgets/controls",
          "model_name": "HTMLModel",
          "model_module_version": "1.5.0",
          "state": {
            "_dom_classes": [],
            "_model_module": "@jupyter-widgets/controls",
            "_model_module_version": "1.5.0",
            "_model_name": "HTMLModel",
            "_view_count": null,
            "_view_module": "@jupyter-widgets/controls",
            "_view_module_version": "1.5.0",
            "_view_name": "HTMLView",
            "description": "",
            "description_tooltip": null,
            "layout": "IPY_MODEL_c8f8e440562d41968a68f0dac19ef2a1",
            "placeholder": "​",
            "style": "IPY_MODEL_137bbb93e33046cb9363ff2eb8b2044d",
            "value": "Downloading builder script: 100%"
          }
        },
        "48cca7293a2a4970b79246fc09035b81": {
          "model_module": "@jupyter-widgets/controls",
          "model_name": "FloatProgressModel",
          "model_module_version": "1.5.0",
          "state": {
            "_dom_classes": [],
            "_model_module": "@jupyter-widgets/controls",
            "_model_module_version": "1.5.0",
            "_model_name": "FloatProgressModel",
            "_view_count": null,
            "_view_module": "@jupyter-widgets/controls",
            "_view_module_version": "1.5.0",
            "_view_name": "ProgressView",
            "bar_style": "success",
            "description": "",
            "description_tooltip": null,
            "layout": "IPY_MODEL_363b37bd2b444a78a01b5aa140eed199",
            "max": 7560,
            "min": 0,
            "orientation": "horizontal",
            "style": "IPY_MODEL_481101584b6446b8ad1df39c5b9103a7",
            "value": 7560
          }
        },
        "229226542df84f26ad03b6071e71296d": {
          "model_module": "@jupyter-widgets/controls",
          "model_name": "HTMLModel",
          "model_module_version": "1.5.0",
          "state": {
            "_dom_classes": [],
            "_model_module": "@jupyter-widgets/controls",
            "_model_module_version": "1.5.0",
            "_model_name": "HTMLModel",
            "_view_count": null,
            "_view_module": "@jupyter-widgets/controls",
            "_view_module_version": "1.5.0",
            "_view_name": "HTMLView",
            "description": "",
            "description_tooltip": null,
            "layout": "IPY_MODEL_45907c99c8eb4b0ab2a6eec43cf9f48a",
            "placeholder": "​",
            "style": "IPY_MODEL_b1da20031155407494bf56b7d37c647a",
            "value": " 7.56k/7.56k [00:00&lt;00:00, 562kB/s]"
          }
        },
        "e832e00347794f85ab4a4b9e336ebb2e": {
          "model_module": "@jupyter-widgets/base",
          "model_name": "LayoutModel",
          "model_module_version": "1.2.0",
          "state": {
            "_model_module": "@jupyter-widgets/base",
            "_model_module_version": "1.2.0",
            "_model_name": "LayoutModel",
            "_view_count": null,
            "_view_module": "@jupyter-widgets/base",
            "_view_module_version": "1.2.0",
            "_view_name": "LayoutView",
            "align_content": null,
            "align_items": null,
            "align_self": null,
            "border": null,
            "bottom": null,
            "display": null,
            "flex": null,
            "flex_flow": null,
            "grid_area": null,
            "grid_auto_columns": null,
            "grid_auto_flow": null,
            "grid_auto_rows": null,
            "grid_column": null,
            "grid_gap": null,
            "grid_row": null,
            "grid_template_areas": null,
            "grid_template_columns": null,
            "grid_template_rows": null,
            "height": null,
            "justify_content": null,
            "justify_items": null,
            "left": null,
            "margin": null,
            "max_height": null,
            "max_width": null,
            "min_height": null,
            "min_width": null,
            "object_fit": null,
            "object_position": null,
            "order": null,
            "overflow": null,
            "overflow_x": null,
            "overflow_y": null,
            "padding": null,
            "right": null,
            "top": null,
            "visibility": null,
            "width": null
          }
        },
        "c8f8e440562d41968a68f0dac19ef2a1": {
          "model_module": "@jupyter-widgets/base",
          "model_name": "LayoutModel",
          "model_module_version": "1.2.0",
          "state": {
            "_model_module": "@jupyter-widgets/base",
            "_model_module_version": "1.2.0",
            "_model_name": "LayoutModel",
            "_view_count": null,
            "_view_module": "@jupyter-widgets/base",
            "_view_module_version": "1.2.0",
            "_view_name": "LayoutView",
            "align_content": null,
            "align_items": null,
            "align_self": null,
            "border": null,
            "bottom": null,
            "display": null,
            "flex": null,
            "flex_flow": null,
            "grid_area": null,
            "grid_auto_columns": null,
            "grid_auto_flow": null,
            "grid_auto_rows": null,
            "grid_column": null,
            "grid_gap": null,
            "grid_row": null,
            "grid_template_areas": null,
            "grid_template_columns": null,
            "grid_template_rows": null,
            "height": null,
            "justify_content": null,
            "justify_items": null,
            "left": null,
            "margin": null,
            "max_height": null,
            "max_width": null,
            "min_height": null,
            "min_width": null,
            "object_fit": null,
            "object_position": null,
            "order": null,
            "overflow": null,
            "overflow_x": null,
            "overflow_y": null,
            "padding": null,
            "right": null,
            "top": null,
            "visibility": null,
            "width": null
          }
        },
        "137bbb93e33046cb9363ff2eb8b2044d": {
          "model_module": "@jupyter-widgets/controls",
          "model_name": "DescriptionStyleModel",
          "model_module_version": "1.5.0",
          "state": {
            "_model_module": "@jupyter-widgets/controls",
            "_model_module_version": "1.5.0",
            "_model_name": "DescriptionStyleModel",
            "_view_count": null,
            "_view_module": "@jupyter-widgets/base",
            "_view_module_version": "1.2.0",
            "_view_name": "StyleView",
            "description_width": ""
          }
        },
        "363b37bd2b444a78a01b5aa140eed199": {
          "model_module": "@jupyter-widgets/base",
          "model_name": "LayoutModel",
          "model_module_version": "1.2.0",
          "state": {
            "_model_module": "@jupyter-widgets/base",
            "_model_module_version": "1.2.0",
            "_model_name": "LayoutModel",
            "_view_count": null,
            "_view_module": "@jupyter-widgets/base",
            "_view_module_version": "1.2.0",
            "_view_name": "LayoutView",
            "align_content": null,
            "align_items": null,
            "align_self": null,
            "border": null,
            "bottom": null,
            "display": null,
            "flex": null,
            "flex_flow": null,
            "grid_area": null,
            "grid_auto_columns": null,
            "grid_auto_flow": null,
            "grid_auto_rows": null,
            "grid_column": null,
            "grid_gap": null,
            "grid_row": null,
            "grid_template_areas": null,
            "grid_template_columns": null,
            "grid_template_rows": null,
            "height": null,
            "justify_content": null,
            "justify_items": null,
            "left": null,
            "margin": null,
            "max_height": null,
            "max_width": null,
            "min_height": null,
            "min_width": null,
            "object_fit": null,
            "object_position": null,
            "order": null,
            "overflow": null,
            "overflow_x": null,
            "overflow_y": null,
            "padding": null,
            "right": null,
            "top": null,
            "visibility": null,
            "width": null
          }
        },
        "481101584b6446b8ad1df39c5b9103a7": {
          "model_module": "@jupyter-widgets/controls",
          "model_name": "ProgressStyleModel",
          "model_module_version": "1.5.0",
          "state": {
            "_model_module": "@jupyter-widgets/controls",
            "_model_module_version": "1.5.0",
            "_model_name": "ProgressStyleModel",
            "_view_count": null,
            "_view_module": "@jupyter-widgets/base",
            "_view_module_version": "1.2.0",
            "_view_name": "StyleView",
            "bar_color": null,
            "description_width": ""
          }
        },
        "45907c99c8eb4b0ab2a6eec43cf9f48a": {
          "model_module": "@jupyter-widgets/base",
          "model_name": "LayoutModel",
          "model_module_version": "1.2.0",
          "state": {
            "_model_module": "@jupyter-widgets/base",
            "_model_module_version": "1.2.0",
            "_model_name": "LayoutModel",
            "_view_count": null,
            "_view_module": "@jupyter-widgets/base",
            "_view_module_version": "1.2.0",
            "_view_name": "LayoutView",
            "align_content": null,
            "align_items": null,
            "align_self": null,
            "border": null,
            "bottom": null,
            "display": null,
            "flex": null,
            "flex_flow": null,
            "grid_area": null,
            "grid_auto_columns": null,
            "grid_auto_flow": null,
            "grid_auto_rows": null,
            "grid_column": null,
            "grid_gap": null,
            "grid_row": null,
            "grid_template_areas": null,
            "grid_template_columns": null,
            "grid_template_rows": null,
            "height": null,
            "justify_content": null,
            "justify_items": null,
            "left": null,
            "margin": null,
            "max_height": null,
            "max_width": null,
            "min_height": null,
            "min_width": null,
            "object_fit": null,
            "object_position": null,
            "order": null,
            "overflow": null,
            "overflow_x": null,
            "overflow_y": null,
            "padding": null,
            "right": null,
            "top": null,
            "visibility": null,
            "width": null
          }
        },
        "b1da20031155407494bf56b7d37c647a": {
          "model_module": "@jupyter-widgets/controls",
          "model_name": "DescriptionStyleModel",
          "model_module_version": "1.5.0",
          "state": {
            "_model_module": "@jupyter-widgets/controls",
            "_model_module_version": "1.5.0",
            "_model_name": "DescriptionStyleModel",
            "_view_count": null,
            "_view_module": "@jupyter-widgets/base",
            "_view_module_version": "1.2.0",
            "_view_name": "StyleView",
            "description_width": ""
          }
        },
        "1199269a34b646b9973ef9fd727716a5": {
          "model_module": "@jupyter-widgets/controls",
          "model_name": "HBoxModel",
          "model_module_version": "1.5.0",
          "state": {
            "_dom_classes": [],
            "_model_module": "@jupyter-widgets/controls",
            "_model_module_version": "1.5.0",
            "_model_name": "HBoxModel",
            "_view_count": null,
            "_view_module": "@jupyter-widgets/controls",
            "_view_module_version": "1.5.0",
            "_view_name": "HBoxView",
            "box_style": "",
            "children": [
              "IPY_MODEL_426989dce0ac42629b01d1eaa36f3599",
              "IPY_MODEL_1de67e3927a2466295adcc440e9858eb",
              "IPY_MODEL_9c2b0fe35d0b4fb9b0c2673960922c1b"
            ],
            "layout": "IPY_MODEL_a84dcabfd76c4e50b648f5205df29038"
          }
        },
        "426989dce0ac42629b01d1eaa36f3599": {
          "model_module": "@jupyter-widgets/controls",
          "model_name": "HTMLModel",
          "model_module_version": "1.5.0",
          "state": {
            "_dom_classes": [],
            "_model_module": "@jupyter-widgets/controls",
            "_model_module_version": "1.5.0",
            "_model_name": "HTMLModel",
            "_view_count": null,
            "_view_module": "@jupyter-widgets/controls",
            "_view_module_version": "1.5.0",
            "_view_name": "HTMLView",
            "description": "",
            "description_tooltip": null,
            "layout": "IPY_MODEL_99cd19786b254555a01b5b9ce08e0e44",
            "placeholder": "​",
            "style": "IPY_MODEL_39e6d1fc6624455cbd8a0d80e2adad4e",
            "value": "Downloading builder script: 100%"
          }
        },
        "1de67e3927a2466295adcc440e9858eb": {
          "model_module": "@jupyter-widgets/controls",
          "model_name": "FloatProgressModel",
          "model_module_version": "1.5.0",
          "state": {
            "_dom_classes": [],
            "_model_module": "@jupyter-widgets/controls",
            "_model_module_version": "1.5.0",
            "_model_name": "FloatProgressModel",
            "_view_count": null,
            "_view_module": "@jupyter-widgets/controls",
            "_view_module_version": "1.5.0",
            "_view_name": "ProgressView",
            "bar_style": "success",
            "description": "",
            "description_tooltip": null,
            "layout": "IPY_MODEL_684d80c758fd4a6e8aec7607d17736c3",
            "max": 7377,
            "min": 0,
            "orientation": "horizontal",
            "style": "IPY_MODEL_371ee08149664c95bbc4669ca7a346cc",
            "value": 7377
          }
        },
        "9c2b0fe35d0b4fb9b0c2673960922c1b": {
          "model_module": "@jupyter-widgets/controls",
          "model_name": "HTMLModel",
          "model_module_version": "1.5.0",
          "state": {
            "_dom_classes": [],
            "_model_module": "@jupyter-widgets/controls",
            "_model_module_version": "1.5.0",
            "_model_name": "HTMLModel",
            "_view_count": null,
            "_view_module": "@jupyter-widgets/controls",
            "_view_module_version": "1.5.0",
            "_view_name": "HTMLView",
            "description": "",
            "description_tooltip": null,
            "layout": "IPY_MODEL_479e0ed639664511846e2f08a663b0a5",
            "placeholder": "​",
            "style": "IPY_MODEL_eb076313811e471f8523e6f2122b9bdc",
            "value": " 7.38k/7.38k [00:00&lt;00:00, 530kB/s]"
          }
        },
        "a84dcabfd76c4e50b648f5205df29038": {
          "model_module": "@jupyter-widgets/base",
          "model_name": "LayoutModel",
          "model_module_version": "1.2.0",
          "state": {
            "_model_module": "@jupyter-widgets/base",
            "_model_module_version": "1.2.0",
            "_model_name": "LayoutModel",
            "_view_count": null,
            "_view_module": "@jupyter-widgets/base",
            "_view_module_version": "1.2.0",
            "_view_name": "LayoutView",
            "align_content": null,
            "align_items": null,
            "align_self": null,
            "border": null,
            "bottom": null,
            "display": null,
            "flex": null,
            "flex_flow": null,
            "grid_area": null,
            "grid_auto_columns": null,
            "grid_auto_flow": null,
            "grid_auto_rows": null,
            "grid_column": null,
            "grid_gap": null,
            "grid_row": null,
            "grid_template_areas": null,
            "grid_template_columns": null,
            "grid_template_rows": null,
            "height": null,
            "justify_content": null,
            "justify_items": null,
            "left": null,
            "margin": null,
            "max_height": null,
            "max_width": null,
            "min_height": null,
            "min_width": null,
            "object_fit": null,
            "object_position": null,
            "order": null,
            "overflow": null,
            "overflow_x": null,
            "overflow_y": null,
            "padding": null,
            "right": null,
            "top": null,
            "visibility": null,
            "width": null
          }
        },
        "99cd19786b254555a01b5b9ce08e0e44": {
          "model_module": "@jupyter-widgets/base",
          "model_name": "LayoutModel",
          "model_module_version": "1.2.0",
          "state": {
            "_model_module": "@jupyter-widgets/base",
            "_model_module_version": "1.2.0",
            "_model_name": "LayoutModel",
            "_view_count": null,
            "_view_module": "@jupyter-widgets/base",
            "_view_module_version": "1.2.0",
            "_view_name": "LayoutView",
            "align_content": null,
            "align_items": null,
            "align_self": null,
            "border": null,
            "bottom": null,
            "display": null,
            "flex": null,
            "flex_flow": null,
            "grid_area": null,
            "grid_auto_columns": null,
            "grid_auto_flow": null,
            "grid_auto_rows": null,
            "grid_column": null,
            "grid_gap": null,
            "grid_row": null,
            "grid_template_areas": null,
            "grid_template_columns": null,
            "grid_template_rows": null,
            "height": null,
            "justify_content": null,
            "justify_items": null,
            "left": null,
            "margin": null,
            "max_height": null,
            "max_width": null,
            "min_height": null,
            "min_width": null,
            "object_fit": null,
            "object_position": null,
            "order": null,
            "overflow": null,
            "overflow_x": null,
            "overflow_y": null,
            "padding": null,
            "right": null,
            "top": null,
            "visibility": null,
            "width": null
          }
        },
        "39e6d1fc6624455cbd8a0d80e2adad4e": {
          "model_module": "@jupyter-widgets/controls",
          "model_name": "DescriptionStyleModel",
          "model_module_version": "1.5.0",
          "state": {
            "_model_module": "@jupyter-widgets/controls",
            "_model_module_version": "1.5.0",
            "_model_name": "DescriptionStyleModel",
            "_view_count": null,
            "_view_module": "@jupyter-widgets/base",
            "_view_module_version": "1.2.0",
            "_view_name": "StyleView",
            "description_width": ""
          }
        },
        "684d80c758fd4a6e8aec7607d17736c3": {
          "model_module": "@jupyter-widgets/base",
          "model_name": "LayoutModel",
          "model_module_version": "1.2.0",
          "state": {
            "_model_module": "@jupyter-widgets/base",
            "_model_module_version": "1.2.0",
            "_model_name": "LayoutModel",
            "_view_count": null,
            "_view_module": "@jupyter-widgets/base",
            "_view_module_version": "1.2.0",
            "_view_name": "LayoutView",
            "align_content": null,
            "align_items": null,
            "align_self": null,
            "border": null,
            "bottom": null,
            "display": null,
            "flex": null,
            "flex_flow": null,
            "grid_area": null,
            "grid_auto_columns": null,
            "grid_auto_flow": null,
            "grid_auto_rows": null,
            "grid_column": null,
            "grid_gap": null,
            "grid_row": null,
            "grid_template_areas": null,
            "grid_template_columns": null,
            "grid_template_rows": null,
            "height": null,
            "justify_content": null,
            "justify_items": null,
            "left": null,
            "margin": null,
            "max_height": null,
            "max_width": null,
            "min_height": null,
            "min_width": null,
            "object_fit": null,
            "object_position": null,
            "order": null,
            "overflow": null,
            "overflow_x": null,
            "overflow_y": null,
            "padding": null,
            "right": null,
            "top": null,
            "visibility": null,
            "width": null
          }
        },
        "371ee08149664c95bbc4669ca7a346cc": {
          "model_module": "@jupyter-widgets/controls",
          "model_name": "ProgressStyleModel",
          "model_module_version": "1.5.0",
          "state": {
            "_model_module": "@jupyter-widgets/controls",
            "_model_module_version": "1.5.0",
            "_model_name": "ProgressStyleModel",
            "_view_count": null,
            "_view_module": "@jupyter-widgets/base",
            "_view_module_version": "1.2.0",
            "_view_name": "StyleView",
            "bar_color": null,
            "description_width": ""
          }
        },
        "479e0ed639664511846e2f08a663b0a5": {
          "model_module": "@jupyter-widgets/base",
          "model_name": "LayoutModel",
          "model_module_version": "1.2.0",
          "state": {
            "_model_module": "@jupyter-widgets/base",
            "_model_module_version": "1.2.0",
            "_model_name": "LayoutModel",
            "_view_count": null,
            "_view_module": "@jupyter-widgets/base",
            "_view_module_version": "1.2.0",
            "_view_name": "LayoutView",
            "align_content": null,
            "align_items": null,
            "align_self": null,
            "border": null,
            "bottom": null,
            "display": null,
            "flex": null,
            "flex_flow": null,
            "grid_area": null,
            "grid_auto_columns": null,
            "grid_auto_flow": null,
            "grid_auto_rows": null,
            "grid_column": null,
            "grid_gap": null,
            "grid_row": null,
            "grid_template_areas": null,
            "grid_template_columns": null,
            "grid_template_rows": null,
            "height": null,
            "justify_content": null,
            "justify_items": null,
            "left": null,
            "margin": null,
            "max_height": null,
            "max_width": null,
            "min_height": null,
            "min_width": null,
            "object_fit": null,
            "object_position": null,
            "order": null,
            "overflow": null,
            "overflow_x": null,
            "overflow_y": null,
            "padding": null,
            "right": null,
            "top": null,
            "visibility": null,
            "width": null
          }
        },
        "eb076313811e471f8523e6f2122b9bdc": {
          "model_module": "@jupyter-widgets/controls",
          "model_name": "DescriptionStyleModel",
          "model_module_version": "1.5.0",
          "state": {
            "_model_module": "@jupyter-widgets/controls",
            "_model_module_version": "1.5.0",
            "_model_name": "DescriptionStyleModel",
            "_view_count": null,
            "_view_module": "@jupyter-widgets/base",
            "_view_module_version": "1.2.0",
            "_view_name": "StyleView",
            "description_width": ""
          }
        },
        "9b83247752cc43299e0f363dd07c87fa": {
          "model_module": "@jupyter-widgets/controls",
          "model_name": "HBoxModel",
          "model_module_version": "1.5.0",
          "state": {
            "_dom_classes": [],
            "_model_module": "@jupyter-widgets/controls",
            "_model_module_version": "1.5.0",
            "_model_name": "HBoxModel",
            "_view_count": null,
            "_view_module": "@jupyter-widgets/controls",
            "_view_module_version": "1.5.0",
            "_view_name": "HBoxView",
            "box_style": "",
            "children": [
              "IPY_MODEL_9a25bc738aa94e61bb750fa61a0f5fc7",
              "IPY_MODEL_403901caafd04d3d89e7a1dae188ea1f",
              "IPY_MODEL_f41807dcc5864280827d5beda876c57e"
            ],
            "layout": "IPY_MODEL_058fef5bb6b6460db6d9d87d9597abe7"
          }
        },
        "9a25bc738aa94e61bb750fa61a0f5fc7": {
          "model_module": "@jupyter-widgets/controls",
          "model_name": "HTMLModel",
          "model_module_version": "1.5.0",
          "state": {
            "_dom_classes": [],
            "_model_module": "@jupyter-widgets/controls",
            "_model_module_version": "1.5.0",
            "_model_name": "HTMLModel",
            "_view_count": null,
            "_view_module": "@jupyter-widgets/controls",
            "_view_module_version": "1.5.0",
            "_view_name": "HTMLView",
            "description": "",
            "description_tooltip": null,
            "layout": "IPY_MODEL_bf7fd05bf1e245d38855c43d1315fe2a",
            "placeholder": "​",
            "style": "IPY_MODEL_08b5886fbf4646c3bf9f6c6cb3bce58c",
            "value": "Downloading builder script: 100%"
          }
        },
        "403901caafd04d3d89e7a1dae188ea1f": {
          "model_module": "@jupyter-widgets/controls",
          "model_name": "FloatProgressModel",
          "model_module_version": "1.5.0",
          "state": {
            "_dom_classes": [],
            "_model_module": "@jupyter-widgets/controls",
            "_model_module_version": "1.5.0",
            "_model_name": "FloatProgressModel",
            "_view_count": null,
            "_view_module": "@jupyter-widgets/controls",
            "_view_module_version": "1.5.0",
            "_view_name": "ProgressView",
            "bar_style": "success",
            "description": "",
            "description_tooltip": null,
            "layout": "IPY_MODEL_030a9d6037d44754b2a65695ccb860f6",
            "max": 6785,
            "min": 0,
            "orientation": "horizontal",
            "style": "IPY_MODEL_fbdf7cde69ee42ae818cc0b3204402af",
            "value": 6785
          }
        },
        "f41807dcc5864280827d5beda876c57e": {
          "model_module": "@jupyter-widgets/controls",
          "model_name": "HTMLModel",
          "model_module_version": "1.5.0",
          "state": {
            "_dom_classes": [],
            "_model_module": "@jupyter-widgets/controls",
            "_model_module_version": "1.5.0",
            "_model_name": "HTMLModel",
            "_view_count": null,
            "_view_module": "@jupyter-widgets/controls",
            "_view_module_version": "1.5.0",
            "_view_name": "HTMLView",
            "description": "",
            "description_tooltip": null,
            "layout": "IPY_MODEL_266201071b194cafa402a4984a42fa1b",
            "placeholder": "​",
            "style": "IPY_MODEL_9dd5698182a84f2ba80a75080e80465d",
            "value": " 6.79k/6.79k [00:00&lt;00:00, 475kB/s]"
          }
        },
        "058fef5bb6b6460db6d9d87d9597abe7": {
          "model_module": "@jupyter-widgets/base",
          "model_name": "LayoutModel",
          "model_module_version": "1.2.0",
          "state": {
            "_model_module": "@jupyter-widgets/base",
            "_model_module_version": "1.2.0",
            "_model_name": "LayoutModel",
            "_view_count": null,
            "_view_module": "@jupyter-widgets/base",
            "_view_module_version": "1.2.0",
            "_view_name": "LayoutView",
            "align_content": null,
            "align_items": null,
            "align_self": null,
            "border": null,
            "bottom": null,
            "display": null,
            "flex": null,
            "flex_flow": null,
            "grid_area": null,
            "grid_auto_columns": null,
            "grid_auto_flow": null,
            "grid_auto_rows": null,
            "grid_column": null,
            "grid_gap": null,
            "grid_row": null,
            "grid_template_areas": null,
            "grid_template_columns": null,
            "grid_template_rows": null,
            "height": null,
            "justify_content": null,
            "justify_items": null,
            "left": null,
            "margin": null,
            "max_height": null,
            "max_width": null,
            "min_height": null,
            "min_width": null,
            "object_fit": null,
            "object_position": null,
            "order": null,
            "overflow": null,
            "overflow_x": null,
            "overflow_y": null,
            "padding": null,
            "right": null,
            "top": null,
            "visibility": null,
            "width": null
          }
        },
        "bf7fd05bf1e245d38855c43d1315fe2a": {
          "model_module": "@jupyter-widgets/base",
          "model_name": "LayoutModel",
          "model_module_version": "1.2.0",
          "state": {
            "_model_module": "@jupyter-widgets/base",
            "_model_module_version": "1.2.0",
            "_model_name": "LayoutModel",
            "_view_count": null,
            "_view_module": "@jupyter-widgets/base",
            "_view_module_version": "1.2.0",
            "_view_name": "LayoutView",
            "align_content": null,
            "align_items": null,
            "align_self": null,
            "border": null,
            "bottom": null,
            "display": null,
            "flex": null,
            "flex_flow": null,
            "grid_area": null,
            "grid_auto_columns": null,
            "grid_auto_flow": null,
            "grid_auto_rows": null,
            "grid_column": null,
            "grid_gap": null,
            "grid_row": null,
            "grid_template_areas": null,
            "grid_template_columns": null,
            "grid_template_rows": null,
            "height": null,
            "justify_content": null,
            "justify_items": null,
            "left": null,
            "margin": null,
            "max_height": null,
            "max_width": null,
            "min_height": null,
            "min_width": null,
            "object_fit": null,
            "object_position": null,
            "order": null,
            "overflow": null,
            "overflow_x": null,
            "overflow_y": null,
            "padding": null,
            "right": null,
            "top": null,
            "visibility": null,
            "width": null
          }
        },
        "08b5886fbf4646c3bf9f6c6cb3bce58c": {
          "model_module": "@jupyter-widgets/controls",
          "model_name": "DescriptionStyleModel",
          "model_module_version": "1.5.0",
          "state": {
            "_model_module": "@jupyter-widgets/controls",
            "_model_module_version": "1.5.0",
            "_model_name": "DescriptionStyleModel",
            "_view_count": null,
            "_view_module": "@jupyter-widgets/base",
            "_view_module_version": "1.2.0",
            "_view_name": "StyleView",
            "description_width": ""
          }
        },
        "030a9d6037d44754b2a65695ccb860f6": {
          "model_module": "@jupyter-widgets/base",
          "model_name": "LayoutModel",
          "model_module_version": "1.2.0",
          "state": {
            "_model_module": "@jupyter-widgets/base",
            "_model_module_version": "1.2.0",
            "_model_name": "LayoutModel",
            "_view_count": null,
            "_view_module": "@jupyter-widgets/base",
            "_view_module_version": "1.2.0",
            "_view_name": "LayoutView",
            "align_content": null,
            "align_items": null,
            "align_self": null,
            "border": null,
            "bottom": null,
            "display": null,
            "flex": null,
            "flex_flow": null,
            "grid_area": null,
            "grid_auto_columns": null,
            "grid_auto_flow": null,
            "grid_auto_rows": null,
            "grid_column": null,
            "grid_gap": null,
            "grid_row": null,
            "grid_template_areas": null,
            "grid_template_columns": null,
            "grid_template_rows": null,
            "height": null,
            "justify_content": null,
            "justify_items": null,
            "left": null,
            "margin": null,
            "max_height": null,
            "max_width": null,
            "min_height": null,
            "min_width": null,
            "object_fit": null,
            "object_position": null,
            "order": null,
            "overflow": null,
            "overflow_x": null,
            "overflow_y": null,
            "padding": null,
            "right": null,
            "top": null,
            "visibility": null,
            "width": null
          }
        },
        "fbdf7cde69ee42ae818cc0b3204402af": {
          "model_module": "@jupyter-widgets/controls",
          "model_name": "ProgressStyleModel",
          "model_module_version": "1.5.0",
          "state": {
            "_model_module": "@jupyter-widgets/controls",
            "_model_module_version": "1.5.0",
            "_model_name": "ProgressStyleModel",
            "_view_count": null,
            "_view_module": "@jupyter-widgets/base",
            "_view_module_version": "1.2.0",
            "_view_name": "StyleView",
            "bar_color": null,
            "description_width": ""
          }
        },
        "266201071b194cafa402a4984a42fa1b": {
          "model_module": "@jupyter-widgets/base",
          "model_name": "LayoutModel",
          "model_module_version": "1.2.0",
          "state": {
            "_model_module": "@jupyter-widgets/base",
            "_model_module_version": "1.2.0",
            "_model_name": "LayoutModel",
            "_view_count": null,
            "_view_module": "@jupyter-widgets/base",
            "_view_module_version": "1.2.0",
            "_view_name": "LayoutView",
            "align_content": null,
            "align_items": null,
            "align_self": null,
            "border": null,
            "bottom": null,
            "display": null,
            "flex": null,
            "flex_flow": null,
            "grid_area": null,
            "grid_auto_columns": null,
            "grid_auto_flow": null,
            "grid_auto_rows": null,
            "grid_column": null,
            "grid_gap": null,
            "grid_row": null,
            "grid_template_areas": null,
            "grid_template_columns": null,
            "grid_template_rows": null,
            "height": null,
            "justify_content": null,
            "justify_items": null,
            "left": null,
            "margin": null,
            "max_height": null,
            "max_width": null,
            "min_height": null,
            "min_width": null,
            "object_fit": null,
            "object_position": null,
            "order": null,
            "overflow": null,
            "overflow_x": null,
            "overflow_y": null,
            "padding": null,
            "right": null,
            "top": null,
            "visibility": null,
            "width": null
          }
        },
        "9dd5698182a84f2ba80a75080e80465d": {
          "model_module": "@jupyter-widgets/controls",
          "model_name": "DescriptionStyleModel",
          "model_module_version": "1.5.0",
          "state": {
            "_model_module": "@jupyter-widgets/controls",
            "_model_module_version": "1.5.0",
            "_model_name": "DescriptionStyleModel",
            "_view_count": null,
            "_view_module": "@jupyter-widgets/base",
            "_view_module_version": "1.2.0",
            "_view_name": "StyleView",
            "description_width": ""
          }
        },
        "16b8833ab6404d7e9b143417b21294e7": {
          "model_module": "@jupyter-widgets/controls",
          "model_name": "HBoxModel",
          "model_module_version": "1.5.0",
          "state": {
            "_dom_classes": [],
            "_model_module": "@jupyter-widgets/controls",
            "_model_module_version": "1.5.0",
            "_model_name": "HBoxModel",
            "_view_count": null,
            "_view_module": "@jupyter-widgets/controls",
            "_view_module_version": "1.5.0",
            "_view_name": "HBoxView",
            "box_style": "",
            "children": [
              "IPY_MODEL_79994498120c44f0a7a9f17e11958f14",
              "IPY_MODEL_5dbfcf503991421db4f13f4f140750cc",
              "IPY_MODEL_aa2fc96f93a9447fbeb8a4cb03570406"
            ],
            "layout": "IPY_MODEL_be64d8ce21524a51924bd5bd3cbc85b0"
          }
        },
        "79994498120c44f0a7a9f17e11958f14": {
          "model_module": "@jupyter-widgets/controls",
          "model_name": "HTMLModel",
          "model_module_version": "1.5.0",
          "state": {
            "_dom_classes": [],
            "_model_module": "@jupyter-widgets/controls",
            "_model_module_version": "1.5.0",
            "_model_name": "HTMLModel",
            "_view_count": null,
            "_view_module": "@jupyter-widgets/controls",
            "_view_module_version": "1.5.0",
            "_view_name": "HTMLView",
            "description": "",
            "description_tooltip": null,
            "layout": "IPY_MODEL_e044d60d926c4d59887e129fef4d30fb",
            "placeholder": "​",
            "style": "IPY_MODEL_18f9b7c1d91941ae9921ad7a2143c398",
            "value": "Map: 100%"
          }
        },
        "5dbfcf503991421db4f13f4f140750cc": {
          "model_module": "@jupyter-widgets/controls",
          "model_name": "FloatProgressModel",
          "model_module_version": "1.5.0",
          "state": {
            "_dom_classes": [],
            "_model_module": "@jupyter-widgets/controls",
            "_model_module_version": "1.5.0",
            "_model_name": "FloatProgressModel",
            "_view_count": null,
            "_view_module": "@jupyter-widgets/controls",
            "_view_module_version": "1.5.0",
            "_view_name": "ProgressView",
            "bar_style": "success",
            "description": "",
            "description_tooltip": null,
            "layout": "IPY_MODEL_db46d0d2ae8a4d69baf2046723eacef0",
            "max": 670,
            "min": 0,
            "orientation": "horizontal",
            "style": "IPY_MODEL_d8bc79a85e9240f58d54e110a90da523",
            "value": 670
          }
        },
        "aa2fc96f93a9447fbeb8a4cb03570406": {
          "model_module": "@jupyter-widgets/controls",
          "model_name": "HTMLModel",
          "model_module_version": "1.5.0",
          "state": {
            "_dom_classes": [],
            "_model_module": "@jupyter-widgets/controls",
            "_model_module_version": "1.5.0",
            "_model_name": "HTMLModel",
            "_view_count": null,
            "_view_module": "@jupyter-widgets/controls",
            "_view_module_version": "1.5.0",
            "_view_name": "HTMLView",
            "description": "",
            "description_tooltip": null,
            "layout": "IPY_MODEL_28e048c1934547fb8def2b397cc6b8b1",
            "placeholder": "​",
            "style": "IPY_MODEL_d6c8d9e3264e4e109d619c416077bbca",
            "value": " 670/670 [00:00&lt;00:00, 3494.03 examples/s]"
          }
        },
        "be64d8ce21524a51924bd5bd3cbc85b0": {
          "model_module": "@jupyter-widgets/base",
          "model_name": "LayoutModel",
          "model_module_version": "1.2.0",
          "state": {
            "_model_module": "@jupyter-widgets/base",
            "_model_module_version": "1.2.0",
            "_model_name": "LayoutModel",
            "_view_count": null,
            "_view_module": "@jupyter-widgets/base",
            "_view_module_version": "1.2.0",
            "_view_name": "LayoutView",
            "align_content": null,
            "align_items": null,
            "align_self": null,
            "border": null,
            "bottom": null,
            "display": null,
            "flex": null,
            "flex_flow": null,
            "grid_area": null,
            "grid_auto_columns": null,
            "grid_auto_flow": null,
            "grid_auto_rows": null,
            "grid_column": null,
            "grid_gap": null,
            "grid_row": null,
            "grid_template_areas": null,
            "grid_template_columns": null,
            "grid_template_rows": null,
            "height": null,
            "justify_content": null,
            "justify_items": null,
            "left": null,
            "margin": null,
            "max_height": null,
            "max_width": null,
            "min_height": null,
            "min_width": null,
            "object_fit": null,
            "object_position": null,
            "order": null,
            "overflow": null,
            "overflow_x": null,
            "overflow_y": null,
            "padding": null,
            "right": null,
            "top": null,
            "visibility": null,
            "width": null
          }
        },
        "e044d60d926c4d59887e129fef4d30fb": {
          "model_module": "@jupyter-widgets/base",
          "model_name": "LayoutModel",
          "model_module_version": "1.2.0",
          "state": {
            "_model_module": "@jupyter-widgets/base",
            "_model_module_version": "1.2.0",
            "_model_name": "LayoutModel",
            "_view_count": null,
            "_view_module": "@jupyter-widgets/base",
            "_view_module_version": "1.2.0",
            "_view_name": "LayoutView",
            "align_content": null,
            "align_items": null,
            "align_self": null,
            "border": null,
            "bottom": null,
            "display": null,
            "flex": null,
            "flex_flow": null,
            "grid_area": null,
            "grid_auto_columns": null,
            "grid_auto_flow": null,
            "grid_auto_rows": null,
            "grid_column": null,
            "grid_gap": null,
            "grid_row": null,
            "grid_template_areas": null,
            "grid_template_columns": null,
            "grid_template_rows": null,
            "height": null,
            "justify_content": null,
            "justify_items": null,
            "left": null,
            "margin": null,
            "max_height": null,
            "max_width": null,
            "min_height": null,
            "min_width": null,
            "object_fit": null,
            "object_position": null,
            "order": null,
            "overflow": null,
            "overflow_x": null,
            "overflow_y": null,
            "padding": null,
            "right": null,
            "top": null,
            "visibility": null,
            "width": null
          }
        },
        "18f9b7c1d91941ae9921ad7a2143c398": {
          "model_module": "@jupyter-widgets/controls",
          "model_name": "DescriptionStyleModel",
          "model_module_version": "1.5.0",
          "state": {
            "_model_module": "@jupyter-widgets/controls",
            "_model_module_version": "1.5.0",
            "_model_name": "DescriptionStyleModel",
            "_view_count": null,
            "_view_module": "@jupyter-widgets/base",
            "_view_module_version": "1.2.0",
            "_view_name": "StyleView",
            "description_width": ""
          }
        },
        "db46d0d2ae8a4d69baf2046723eacef0": {
          "model_module": "@jupyter-widgets/base",
          "model_name": "LayoutModel",
          "model_module_version": "1.2.0",
          "state": {
            "_model_module": "@jupyter-widgets/base",
            "_model_module_version": "1.2.0",
            "_model_name": "LayoutModel",
            "_view_count": null,
            "_view_module": "@jupyter-widgets/base",
            "_view_module_version": "1.2.0",
            "_view_name": "LayoutView",
            "align_content": null,
            "align_items": null,
            "align_self": null,
            "border": null,
            "bottom": null,
            "display": null,
            "flex": null,
            "flex_flow": null,
            "grid_area": null,
            "grid_auto_columns": null,
            "grid_auto_flow": null,
            "grid_auto_rows": null,
            "grid_column": null,
            "grid_gap": null,
            "grid_row": null,
            "grid_template_areas": null,
            "grid_template_columns": null,
            "grid_template_rows": null,
            "height": null,
            "justify_content": null,
            "justify_items": null,
            "left": null,
            "margin": null,
            "max_height": null,
            "max_width": null,
            "min_height": null,
            "min_width": null,
            "object_fit": null,
            "object_position": null,
            "order": null,
            "overflow": null,
            "overflow_x": null,
            "overflow_y": null,
            "padding": null,
            "right": null,
            "top": null,
            "visibility": null,
            "width": null
          }
        },
        "d8bc79a85e9240f58d54e110a90da523": {
          "model_module": "@jupyter-widgets/controls",
          "model_name": "ProgressStyleModel",
          "model_module_version": "1.5.0",
          "state": {
            "_model_module": "@jupyter-widgets/controls",
            "_model_module_version": "1.5.0",
            "_model_name": "ProgressStyleModel",
            "_view_count": null,
            "_view_module": "@jupyter-widgets/base",
            "_view_module_version": "1.2.0",
            "_view_name": "StyleView",
            "bar_color": null,
            "description_width": ""
          }
        },
        "28e048c1934547fb8def2b397cc6b8b1": {
          "model_module": "@jupyter-widgets/base",
          "model_name": "LayoutModel",
          "model_module_version": "1.2.0",
          "state": {
            "_model_module": "@jupyter-widgets/base",
            "_model_module_version": "1.2.0",
            "_model_name": "LayoutModel",
            "_view_count": null,
            "_view_module": "@jupyter-widgets/base",
            "_view_module_version": "1.2.0",
            "_view_name": "LayoutView",
            "align_content": null,
            "align_items": null,
            "align_self": null,
            "border": null,
            "bottom": null,
            "display": null,
            "flex": null,
            "flex_flow": null,
            "grid_area": null,
            "grid_auto_columns": null,
            "grid_auto_flow": null,
            "grid_auto_rows": null,
            "grid_column": null,
            "grid_gap": null,
            "grid_row": null,
            "grid_template_areas": null,
            "grid_template_columns": null,
            "grid_template_rows": null,
            "height": null,
            "justify_content": null,
            "justify_items": null,
            "left": null,
            "margin": null,
            "max_height": null,
            "max_width": null,
            "min_height": null,
            "min_width": null,
            "object_fit": null,
            "object_position": null,
            "order": null,
            "overflow": null,
            "overflow_x": null,
            "overflow_y": null,
            "padding": null,
            "right": null,
            "top": null,
            "visibility": null,
            "width": null
          }
        },
        "d6c8d9e3264e4e109d619c416077bbca": {
          "model_module": "@jupyter-widgets/controls",
          "model_name": "DescriptionStyleModel",
          "model_module_version": "1.5.0",
          "state": {
            "_model_module": "@jupyter-widgets/controls",
            "_model_module_version": "1.5.0",
            "_model_name": "DescriptionStyleModel",
            "_view_count": null,
            "_view_module": "@jupyter-widgets/base",
            "_view_module_version": "1.2.0",
            "_view_name": "StyleView",
            "description_width": ""
          }
        },
        "d3660656237e428db85c5f4e6709350b": {
          "model_module": "@jupyter-widgets/controls",
          "model_name": "HBoxModel",
          "model_module_version": "1.5.0",
          "state": {
            "_dom_classes": [],
            "_model_module": "@jupyter-widgets/controls",
            "_model_module_version": "1.5.0",
            "_model_name": "HBoxModel",
            "_view_count": null,
            "_view_module": "@jupyter-widgets/controls",
            "_view_module_version": "1.5.0",
            "_view_name": "HBoxView",
            "box_style": "",
            "children": [
              "IPY_MODEL_51a3de01dbbf4bb4b0a981ae6b8b339d",
              "IPY_MODEL_a1a0946100e04263a7a433284240bf6e",
              "IPY_MODEL_99a55624124745c7b4b2b19f150711ef"
            ],
            "layout": "IPY_MODEL_5c6eccf1a9594b9eb671bc6caf540e3d"
          }
        },
        "51a3de01dbbf4bb4b0a981ae6b8b339d": {
          "model_module": "@jupyter-widgets/controls",
          "model_name": "HTMLModel",
          "model_module_version": "1.5.0",
          "state": {
            "_dom_classes": [],
            "_model_module": "@jupyter-widgets/controls",
            "_model_module_version": "1.5.0",
            "_model_name": "HTMLModel",
            "_view_count": null,
            "_view_module": "@jupyter-widgets/controls",
            "_view_module_version": "1.5.0",
            "_view_name": "HTMLView",
            "description": "",
            "description_tooltip": null,
            "layout": "IPY_MODEL_6ee0014af138401d840d0b3e71947893",
            "placeholder": "​",
            "style": "IPY_MODEL_852a1a29901b4a159d57567d681655db",
            "value": "Map: 100%"
          }
        },
        "a1a0946100e04263a7a433284240bf6e": {
          "model_module": "@jupyter-widgets/controls",
          "model_name": "FloatProgressModel",
          "model_module_version": "1.5.0",
          "state": {
            "_dom_classes": [],
            "_model_module": "@jupyter-widgets/controls",
            "_model_module_version": "1.5.0",
            "_model_name": "FloatProgressModel",
            "_view_count": null,
            "_view_module": "@jupyter-widgets/controls",
            "_view_module_version": "1.5.0",
            "_view_name": "ProgressView",
            "bar_style": "success",
            "description": "",
            "description_tooltip": null,
            "layout": "IPY_MODEL_b077485b507e4d45b54651db8f0eda6e",
            "max": 3127,
            "min": 0,
            "orientation": "horizontal",
            "style": "IPY_MODEL_da112f8a0e834cb1877032ba8b9b38b5",
            "value": 3127
          }
        },
        "99a55624124745c7b4b2b19f150711ef": {
          "model_module": "@jupyter-widgets/controls",
          "model_name": "HTMLModel",
          "model_module_version": "1.5.0",
          "state": {
            "_dom_classes": [],
            "_model_module": "@jupyter-widgets/controls",
            "_model_module_version": "1.5.0",
            "_model_name": "HTMLModel",
            "_view_count": null,
            "_view_module": "@jupyter-widgets/controls",
            "_view_module_version": "1.5.0",
            "_view_name": "HTMLView",
            "description": "",
            "description_tooltip": null,
            "layout": "IPY_MODEL_5178a9cd24624e27a4c77fe4cec35c35",
            "placeholder": "​",
            "style": "IPY_MODEL_8eb581cc53644ef5becb53b4395d81e2",
            "value": " 3127/3127 [00:01&lt;00:00, 3138.58 examples/s]"
          }
        },
        "5c6eccf1a9594b9eb671bc6caf540e3d": {
          "model_module": "@jupyter-widgets/base",
          "model_name": "LayoutModel",
          "model_module_version": "1.2.0",
          "state": {
            "_model_module": "@jupyter-widgets/base",
            "_model_module_version": "1.2.0",
            "_model_name": "LayoutModel",
            "_view_count": null,
            "_view_module": "@jupyter-widgets/base",
            "_view_module_version": "1.2.0",
            "_view_name": "LayoutView",
            "align_content": null,
            "align_items": null,
            "align_self": null,
            "border": null,
            "bottom": null,
            "display": null,
            "flex": null,
            "flex_flow": null,
            "grid_area": null,
            "grid_auto_columns": null,
            "grid_auto_flow": null,
            "grid_auto_rows": null,
            "grid_column": null,
            "grid_gap": null,
            "grid_row": null,
            "grid_template_areas": null,
            "grid_template_columns": null,
            "grid_template_rows": null,
            "height": null,
            "justify_content": null,
            "justify_items": null,
            "left": null,
            "margin": null,
            "max_height": null,
            "max_width": null,
            "min_height": null,
            "min_width": null,
            "object_fit": null,
            "object_position": null,
            "order": null,
            "overflow": null,
            "overflow_x": null,
            "overflow_y": null,
            "padding": null,
            "right": null,
            "top": null,
            "visibility": null,
            "width": null
          }
        },
        "6ee0014af138401d840d0b3e71947893": {
          "model_module": "@jupyter-widgets/base",
          "model_name": "LayoutModel",
          "model_module_version": "1.2.0",
          "state": {
            "_model_module": "@jupyter-widgets/base",
            "_model_module_version": "1.2.0",
            "_model_name": "LayoutModel",
            "_view_count": null,
            "_view_module": "@jupyter-widgets/base",
            "_view_module_version": "1.2.0",
            "_view_name": "LayoutView",
            "align_content": null,
            "align_items": null,
            "align_self": null,
            "border": null,
            "bottom": null,
            "display": null,
            "flex": null,
            "flex_flow": null,
            "grid_area": null,
            "grid_auto_columns": null,
            "grid_auto_flow": null,
            "grid_auto_rows": null,
            "grid_column": null,
            "grid_gap": null,
            "grid_row": null,
            "grid_template_areas": null,
            "grid_template_columns": null,
            "grid_template_rows": null,
            "height": null,
            "justify_content": null,
            "justify_items": null,
            "left": null,
            "margin": null,
            "max_height": null,
            "max_width": null,
            "min_height": null,
            "min_width": null,
            "object_fit": null,
            "object_position": null,
            "order": null,
            "overflow": null,
            "overflow_x": null,
            "overflow_y": null,
            "padding": null,
            "right": null,
            "top": null,
            "visibility": null,
            "width": null
          }
        },
        "852a1a29901b4a159d57567d681655db": {
          "model_module": "@jupyter-widgets/controls",
          "model_name": "DescriptionStyleModel",
          "model_module_version": "1.5.0",
          "state": {
            "_model_module": "@jupyter-widgets/controls",
            "_model_module_version": "1.5.0",
            "_model_name": "DescriptionStyleModel",
            "_view_count": null,
            "_view_module": "@jupyter-widgets/base",
            "_view_module_version": "1.2.0",
            "_view_name": "StyleView",
            "description_width": ""
          }
        },
        "b077485b507e4d45b54651db8f0eda6e": {
          "model_module": "@jupyter-widgets/base",
          "model_name": "LayoutModel",
          "model_module_version": "1.2.0",
          "state": {
            "_model_module": "@jupyter-widgets/base",
            "_model_module_version": "1.2.0",
            "_model_name": "LayoutModel",
            "_view_count": null,
            "_view_module": "@jupyter-widgets/base",
            "_view_module_version": "1.2.0",
            "_view_name": "LayoutView",
            "align_content": null,
            "align_items": null,
            "align_self": null,
            "border": null,
            "bottom": null,
            "display": null,
            "flex": null,
            "flex_flow": null,
            "grid_area": null,
            "grid_auto_columns": null,
            "grid_auto_flow": null,
            "grid_auto_rows": null,
            "grid_column": null,
            "grid_gap": null,
            "grid_row": null,
            "grid_template_areas": null,
            "grid_template_columns": null,
            "grid_template_rows": null,
            "height": null,
            "justify_content": null,
            "justify_items": null,
            "left": null,
            "margin": null,
            "max_height": null,
            "max_width": null,
            "min_height": null,
            "min_width": null,
            "object_fit": null,
            "object_position": null,
            "order": null,
            "overflow": null,
            "overflow_x": null,
            "overflow_y": null,
            "padding": null,
            "right": null,
            "top": null,
            "visibility": null,
            "width": null
          }
        },
        "da112f8a0e834cb1877032ba8b9b38b5": {
          "model_module": "@jupyter-widgets/controls",
          "model_name": "ProgressStyleModel",
          "model_module_version": "1.5.0",
          "state": {
            "_model_module": "@jupyter-widgets/controls",
            "_model_module_version": "1.5.0",
            "_model_name": "ProgressStyleModel",
            "_view_count": null,
            "_view_module": "@jupyter-widgets/base",
            "_view_module_version": "1.2.0",
            "_view_name": "StyleView",
            "bar_color": null,
            "description_width": ""
          }
        },
        "5178a9cd24624e27a4c77fe4cec35c35": {
          "model_module": "@jupyter-widgets/base",
          "model_name": "LayoutModel",
          "model_module_version": "1.2.0",
          "state": {
            "_model_module": "@jupyter-widgets/base",
            "_model_module_version": "1.2.0",
            "_model_name": "LayoutModel",
            "_view_count": null,
            "_view_module": "@jupyter-widgets/base",
            "_view_module_version": "1.2.0",
            "_view_name": "LayoutView",
            "align_content": null,
            "align_items": null,
            "align_self": null,
            "border": null,
            "bottom": null,
            "display": null,
            "flex": null,
            "flex_flow": null,
            "grid_area": null,
            "grid_auto_columns": null,
            "grid_auto_flow": null,
            "grid_auto_rows": null,
            "grid_column": null,
            "grid_gap": null,
            "grid_row": null,
            "grid_template_areas": null,
            "grid_template_columns": null,
            "grid_template_rows": null,
            "height": null,
            "justify_content": null,
            "justify_items": null,
            "left": null,
            "margin": null,
            "max_height": null,
            "max_width": null,
            "min_height": null,
            "min_width": null,
            "object_fit": null,
            "object_position": null,
            "order": null,
            "overflow": null,
            "overflow_x": null,
            "overflow_y": null,
            "padding": null,
            "right": null,
            "top": null,
            "visibility": null,
            "width": null
          }
        },
        "8eb581cc53644ef5becb53b4395d81e2": {
          "model_module": "@jupyter-widgets/controls",
          "model_name": "DescriptionStyleModel",
          "model_module_version": "1.5.0",
          "state": {
            "_model_module": "@jupyter-widgets/controls",
            "_model_module_version": "1.5.0",
            "_model_name": "DescriptionStyleModel",
            "_view_count": null,
            "_view_module": "@jupyter-widgets/base",
            "_view_module_version": "1.2.0",
            "_view_name": "StyleView",
            "description_width": ""
          }
        },
        "9eebfe349e7246b6ad79d4d3bf55eb7b": {
          "model_module": "@jupyter-widgets/controls",
          "model_name": "HBoxModel",
          "model_module_version": "1.5.0",
          "state": {
            "_dom_classes": [],
            "_model_module": "@jupyter-widgets/controls",
            "_model_module_version": "1.5.0",
            "_model_name": "HBoxModel",
            "_view_count": null,
            "_view_module": "@jupyter-widgets/controls",
            "_view_module_version": "1.5.0",
            "_view_name": "HBoxView",
            "box_style": "",
            "children": [
              "IPY_MODEL_7bcf37e25f1144adb3973fdd15ce80de",
              "IPY_MODEL_0621173240914084a62e2be1d55c3404",
              "IPY_MODEL_3d0b68f2f5e74c67b93ab990dbe6f5ee"
            ],
            "layout": "IPY_MODEL_ade79882aa42414cb8ee9e13a8df9301"
          }
        },
        "7bcf37e25f1144adb3973fdd15ce80de": {
          "model_module": "@jupyter-widgets/controls",
          "model_name": "HTMLModel",
          "model_module_version": "1.5.0",
          "state": {
            "_dom_classes": [],
            "_model_module": "@jupyter-widgets/controls",
            "_model_module_version": "1.5.0",
            "_model_name": "HTMLModel",
            "_view_count": null,
            "_view_module": "@jupyter-widgets/controls",
            "_view_module_version": "1.5.0",
            "_view_name": "HTMLView",
            "description": "",
            "description_tooltip": null,
            "layout": "IPY_MODEL_f870043a998a42c596276515ea2a6fad",
            "placeholder": "​",
            "style": "IPY_MODEL_272cd2c6c3b944fa8c012903d784a47c",
            "value": "Map: 100%"
          }
        },
        "0621173240914084a62e2be1d55c3404": {
          "model_module": "@jupyter-widgets/controls",
          "model_name": "FloatProgressModel",
          "model_module_version": "1.5.0",
          "state": {
            "_dom_classes": [],
            "_model_module": "@jupyter-widgets/controls",
            "_model_module_version": "1.5.0",
            "_model_name": "FloatProgressModel",
            "_view_count": null,
            "_view_module": "@jupyter-widgets/controls",
            "_view_module_version": "1.5.0",
            "_view_name": "ProgressView",
            "bar_style": "success",
            "description": "",
            "description_tooltip": null,
            "layout": "IPY_MODEL_62154bc6390a456396904b1b1efe7c1d",
            "max": 671,
            "min": 0,
            "orientation": "horizontal",
            "style": "IPY_MODEL_791034008dea41c09c18aa90c428745f",
            "value": 671
          }
        },
        "3d0b68f2f5e74c67b93ab990dbe6f5ee": {
          "model_module": "@jupyter-widgets/controls",
          "model_name": "HTMLModel",
          "model_module_version": "1.5.0",
          "state": {
            "_dom_classes": [],
            "_model_module": "@jupyter-widgets/controls",
            "_model_module_version": "1.5.0",
            "_model_name": "HTMLModel",
            "_view_count": null,
            "_view_module": "@jupyter-widgets/controls",
            "_view_module_version": "1.5.0",
            "_view_name": "HTMLView",
            "description": "",
            "description_tooltip": null,
            "layout": "IPY_MODEL_ed709381dee048b0a10b0d7e28765e29",
            "placeholder": "​",
            "style": "IPY_MODEL_aea8faede26e45e88239f2694e771f3d",
            "value": " 671/671 [00:00&lt;00:00, 2350.66 examples/s]"
          }
        },
        "ade79882aa42414cb8ee9e13a8df9301": {
          "model_module": "@jupyter-widgets/base",
          "model_name": "LayoutModel",
          "model_module_version": "1.2.0",
          "state": {
            "_model_module": "@jupyter-widgets/base",
            "_model_module_version": "1.2.0",
            "_model_name": "LayoutModel",
            "_view_count": null,
            "_view_module": "@jupyter-widgets/base",
            "_view_module_version": "1.2.0",
            "_view_name": "LayoutView",
            "align_content": null,
            "align_items": null,
            "align_self": null,
            "border": null,
            "bottom": null,
            "display": null,
            "flex": null,
            "flex_flow": null,
            "grid_area": null,
            "grid_auto_columns": null,
            "grid_auto_flow": null,
            "grid_auto_rows": null,
            "grid_column": null,
            "grid_gap": null,
            "grid_row": null,
            "grid_template_areas": null,
            "grid_template_columns": null,
            "grid_template_rows": null,
            "height": null,
            "justify_content": null,
            "justify_items": null,
            "left": null,
            "margin": null,
            "max_height": null,
            "max_width": null,
            "min_height": null,
            "min_width": null,
            "object_fit": null,
            "object_position": null,
            "order": null,
            "overflow": null,
            "overflow_x": null,
            "overflow_y": null,
            "padding": null,
            "right": null,
            "top": null,
            "visibility": null,
            "width": null
          }
        },
        "f870043a998a42c596276515ea2a6fad": {
          "model_module": "@jupyter-widgets/base",
          "model_name": "LayoutModel",
          "model_module_version": "1.2.0",
          "state": {
            "_model_module": "@jupyter-widgets/base",
            "_model_module_version": "1.2.0",
            "_model_name": "LayoutModel",
            "_view_count": null,
            "_view_module": "@jupyter-widgets/base",
            "_view_module_version": "1.2.0",
            "_view_name": "LayoutView",
            "align_content": null,
            "align_items": null,
            "align_self": null,
            "border": null,
            "bottom": null,
            "display": null,
            "flex": null,
            "flex_flow": null,
            "grid_area": null,
            "grid_auto_columns": null,
            "grid_auto_flow": null,
            "grid_auto_rows": null,
            "grid_column": null,
            "grid_gap": null,
            "grid_row": null,
            "grid_template_areas": null,
            "grid_template_columns": null,
            "grid_template_rows": null,
            "height": null,
            "justify_content": null,
            "justify_items": null,
            "left": null,
            "margin": null,
            "max_height": null,
            "max_width": null,
            "min_height": null,
            "min_width": null,
            "object_fit": null,
            "object_position": null,
            "order": null,
            "overflow": null,
            "overflow_x": null,
            "overflow_y": null,
            "padding": null,
            "right": null,
            "top": null,
            "visibility": null,
            "width": null
          }
        },
        "272cd2c6c3b944fa8c012903d784a47c": {
          "model_module": "@jupyter-widgets/controls",
          "model_name": "DescriptionStyleModel",
          "model_module_version": "1.5.0",
          "state": {
            "_model_module": "@jupyter-widgets/controls",
            "_model_module_version": "1.5.0",
            "_model_name": "DescriptionStyleModel",
            "_view_count": null,
            "_view_module": "@jupyter-widgets/base",
            "_view_module_version": "1.2.0",
            "_view_name": "StyleView",
            "description_width": ""
          }
        },
        "62154bc6390a456396904b1b1efe7c1d": {
          "model_module": "@jupyter-widgets/base",
          "model_name": "LayoutModel",
          "model_module_version": "1.2.0",
          "state": {
            "_model_module": "@jupyter-widgets/base",
            "_model_module_version": "1.2.0",
            "_model_name": "LayoutModel",
            "_view_count": null,
            "_view_module": "@jupyter-widgets/base",
            "_view_module_version": "1.2.0",
            "_view_name": "LayoutView",
            "align_content": null,
            "align_items": null,
            "align_self": null,
            "border": null,
            "bottom": null,
            "display": null,
            "flex": null,
            "flex_flow": null,
            "grid_area": null,
            "grid_auto_columns": null,
            "grid_auto_flow": null,
            "grid_auto_rows": null,
            "grid_column": null,
            "grid_gap": null,
            "grid_row": null,
            "grid_template_areas": null,
            "grid_template_columns": null,
            "grid_template_rows": null,
            "height": null,
            "justify_content": null,
            "justify_items": null,
            "left": null,
            "margin": null,
            "max_height": null,
            "max_width": null,
            "min_height": null,
            "min_width": null,
            "object_fit": null,
            "object_position": null,
            "order": null,
            "overflow": null,
            "overflow_x": null,
            "overflow_y": null,
            "padding": null,
            "right": null,
            "top": null,
            "visibility": null,
            "width": null
          }
        },
        "791034008dea41c09c18aa90c428745f": {
          "model_module": "@jupyter-widgets/controls",
          "model_name": "ProgressStyleModel",
          "model_module_version": "1.5.0",
          "state": {
            "_model_module": "@jupyter-widgets/controls",
            "_model_module_version": "1.5.0",
            "_model_name": "ProgressStyleModel",
            "_view_count": null,
            "_view_module": "@jupyter-widgets/base",
            "_view_module_version": "1.2.0",
            "_view_name": "StyleView",
            "bar_color": null,
            "description_width": ""
          }
        },
        "ed709381dee048b0a10b0d7e28765e29": {
          "model_module": "@jupyter-widgets/base",
          "model_name": "LayoutModel",
          "model_module_version": "1.2.0",
          "state": {
            "_model_module": "@jupyter-widgets/base",
            "_model_module_version": "1.2.0",
            "_model_name": "LayoutModel",
            "_view_count": null,
            "_view_module": "@jupyter-widgets/base",
            "_view_module_version": "1.2.0",
            "_view_name": "LayoutView",
            "align_content": null,
            "align_items": null,
            "align_self": null,
            "border": null,
            "bottom": null,
            "display": null,
            "flex": null,
            "flex_flow": null,
            "grid_area": null,
            "grid_auto_columns": null,
            "grid_auto_flow": null,
            "grid_auto_rows": null,
            "grid_column": null,
            "grid_gap": null,
            "grid_row": null,
            "grid_template_areas": null,
            "grid_template_columns": null,
            "grid_template_rows": null,
            "height": null,
            "justify_content": null,
            "justify_items": null,
            "left": null,
            "margin": null,
            "max_height": null,
            "max_width": null,
            "min_height": null,
            "min_width": null,
            "object_fit": null,
            "object_position": null,
            "order": null,
            "overflow": null,
            "overflow_x": null,
            "overflow_y": null,
            "padding": null,
            "right": null,
            "top": null,
            "visibility": null,
            "width": null
          }
        },
        "aea8faede26e45e88239f2694e771f3d": {
          "model_module": "@jupyter-widgets/controls",
          "model_name": "DescriptionStyleModel",
          "model_module_version": "1.5.0",
          "state": {
            "_model_module": "@jupyter-widgets/controls",
            "_model_module_version": "1.5.0",
            "_model_name": "DescriptionStyleModel",
            "_view_count": null,
            "_view_module": "@jupyter-widgets/base",
            "_view_module_version": "1.2.0",
            "_view_name": "StyleView",
            "description_width": ""
          }
        },
        "2be6d3d7fe5f4e0eabcfadaeb820fd73": {
          "model_module": "@jupyter-widgets/controls",
          "model_name": "HBoxModel",
          "model_module_version": "1.5.0",
          "state": {
            "_dom_classes": [],
            "_model_module": "@jupyter-widgets/controls",
            "_model_module_version": "1.5.0",
            "_model_name": "HBoxModel",
            "_view_count": null,
            "_view_module": "@jupyter-widgets/controls",
            "_view_module_version": "1.5.0",
            "_view_name": "HBoxView",
            "box_style": "",
            "children": [
              "IPY_MODEL_520b7ebe11fc4daea13a3bcf96646142",
              "IPY_MODEL_d4ec6eb9e7bb4d6db941e02205466585",
              "IPY_MODEL_0a3e53050c70446ca6d152338b6d95fc"
            ],
            "layout": "IPY_MODEL_a805c94ca77d4d61ad0d1699717f2944"
          }
        },
        "520b7ebe11fc4daea13a3bcf96646142": {
          "model_module": "@jupyter-widgets/controls",
          "model_name": "HTMLModel",
          "model_module_version": "1.5.0",
          "state": {
            "_dom_classes": [],
            "_model_module": "@jupyter-widgets/controls",
            "_model_module_version": "1.5.0",
            "_model_name": "HTMLModel",
            "_view_count": null,
            "_view_module": "@jupyter-widgets/controls",
            "_view_module_version": "1.5.0",
            "_view_name": "HTMLView",
            "description": "",
            "description_tooltip": null,
            "layout": "IPY_MODEL_3b53d9313652402688b58c5c08cd6a7a",
            "placeholder": "​",
            "style": "IPY_MODEL_67458d9c8aa9492a95f7cc46254778e4",
            "value": "Map: 100%"
          }
        },
        "d4ec6eb9e7bb4d6db941e02205466585": {
          "model_module": "@jupyter-widgets/controls",
          "model_name": "FloatProgressModel",
          "model_module_version": "1.5.0",
          "state": {
            "_dom_classes": [],
            "_model_module": "@jupyter-widgets/controls",
            "_model_module_version": "1.5.0",
            "_model_name": "FloatProgressModel",
            "_view_count": null,
            "_view_module": "@jupyter-widgets/controls",
            "_view_module_version": "1.5.0",
            "_view_name": "ProgressView",
            "bar_style": "success",
            "description": "",
            "description_tooltip": null,
            "layout": "IPY_MODEL_887ca59c3cf64ab396e8a04b4ae55588",
            "max": 670,
            "min": 0,
            "orientation": "horizontal",
            "style": "IPY_MODEL_65eff5ebe47340e392a2e126e621f8cd",
            "value": 670
          }
        },
        "0a3e53050c70446ca6d152338b6d95fc": {
          "model_module": "@jupyter-widgets/controls",
          "model_name": "HTMLModel",
          "model_module_version": "1.5.0",
          "state": {
            "_dom_classes": [],
            "_model_module": "@jupyter-widgets/controls",
            "_model_module_version": "1.5.0",
            "_model_name": "HTMLModel",
            "_view_count": null,
            "_view_module": "@jupyter-widgets/controls",
            "_view_module_version": "1.5.0",
            "_view_name": "HTMLView",
            "description": "",
            "description_tooltip": null,
            "layout": "IPY_MODEL_74a99b9346d6470485599ece6a8bd34c",
            "placeholder": "​",
            "style": "IPY_MODEL_39db76f27cc84ec681785c076abc4868",
            "value": " 670/670 [00:00&lt;00:00, 2323.11 examples/s]"
          }
        },
        "a805c94ca77d4d61ad0d1699717f2944": {
          "model_module": "@jupyter-widgets/base",
          "model_name": "LayoutModel",
          "model_module_version": "1.2.0",
          "state": {
            "_model_module": "@jupyter-widgets/base",
            "_model_module_version": "1.2.0",
            "_model_name": "LayoutModel",
            "_view_count": null,
            "_view_module": "@jupyter-widgets/base",
            "_view_module_version": "1.2.0",
            "_view_name": "LayoutView",
            "align_content": null,
            "align_items": null,
            "align_self": null,
            "border": null,
            "bottom": null,
            "display": null,
            "flex": null,
            "flex_flow": null,
            "grid_area": null,
            "grid_auto_columns": null,
            "grid_auto_flow": null,
            "grid_auto_rows": null,
            "grid_column": null,
            "grid_gap": null,
            "grid_row": null,
            "grid_template_areas": null,
            "grid_template_columns": null,
            "grid_template_rows": null,
            "height": null,
            "justify_content": null,
            "justify_items": null,
            "left": null,
            "margin": null,
            "max_height": null,
            "max_width": null,
            "min_height": null,
            "min_width": null,
            "object_fit": null,
            "object_position": null,
            "order": null,
            "overflow": null,
            "overflow_x": null,
            "overflow_y": null,
            "padding": null,
            "right": null,
            "top": null,
            "visibility": null,
            "width": null
          }
        },
        "3b53d9313652402688b58c5c08cd6a7a": {
          "model_module": "@jupyter-widgets/base",
          "model_name": "LayoutModel",
          "model_module_version": "1.2.0",
          "state": {
            "_model_module": "@jupyter-widgets/base",
            "_model_module_version": "1.2.0",
            "_model_name": "LayoutModel",
            "_view_count": null,
            "_view_module": "@jupyter-widgets/base",
            "_view_module_version": "1.2.0",
            "_view_name": "LayoutView",
            "align_content": null,
            "align_items": null,
            "align_self": null,
            "border": null,
            "bottom": null,
            "display": null,
            "flex": null,
            "flex_flow": null,
            "grid_area": null,
            "grid_auto_columns": null,
            "grid_auto_flow": null,
            "grid_auto_rows": null,
            "grid_column": null,
            "grid_gap": null,
            "grid_row": null,
            "grid_template_areas": null,
            "grid_template_columns": null,
            "grid_template_rows": null,
            "height": null,
            "justify_content": null,
            "justify_items": null,
            "left": null,
            "margin": null,
            "max_height": null,
            "max_width": null,
            "min_height": null,
            "min_width": null,
            "object_fit": null,
            "object_position": null,
            "order": null,
            "overflow": null,
            "overflow_x": null,
            "overflow_y": null,
            "padding": null,
            "right": null,
            "top": null,
            "visibility": null,
            "width": null
          }
        },
        "67458d9c8aa9492a95f7cc46254778e4": {
          "model_module": "@jupyter-widgets/controls",
          "model_name": "DescriptionStyleModel",
          "model_module_version": "1.5.0",
          "state": {
            "_model_module": "@jupyter-widgets/controls",
            "_model_module_version": "1.5.0",
            "_model_name": "DescriptionStyleModel",
            "_view_count": null,
            "_view_module": "@jupyter-widgets/base",
            "_view_module_version": "1.2.0",
            "_view_name": "StyleView",
            "description_width": ""
          }
        },
        "887ca59c3cf64ab396e8a04b4ae55588": {
          "model_module": "@jupyter-widgets/base",
          "model_name": "LayoutModel",
          "model_module_version": "1.2.0",
          "state": {
            "_model_module": "@jupyter-widgets/base",
            "_model_module_version": "1.2.0",
            "_model_name": "LayoutModel",
            "_view_count": null,
            "_view_module": "@jupyter-widgets/base",
            "_view_module_version": "1.2.0",
            "_view_name": "LayoutView",
            "align_content": null,
            "align_items": null,
            "align_self": null,
            "border": null,
            "bottom": null,
            "display": null,
            "flex": null,
            "flex_flow": null,
            "grid_area": null,
            "grid_auto_columns": null,
            "grid_auto_flow": null,
            "grid_auto_rows": null,
            "grid_column": null,
            "grid_gap": null,
            "grid_row": null,
            "grid_template_areas": null,
            "grid_template_columns": null,
            "grid_template_rows": null,
            "height": null,
            "justify_content": null,
            "justify_items": null,
            "left": null,
            "margin": null,
            "max_height": null,
            "max_width": null,
            "min_height": null,
            "min_width": null,
            "object_fit": null,
            "object_position": null,
            "order": null,
            "overflow": null,
            "overflow_x": null,
            "overflow_y": null,
            "padding": null,
            "right": null,
            "top": null,
            "visibility": null,
            "width": null
          }
        },
        "65eff5ebe47340e392a2e126e621f8cd": {
          "model_module": "@jupyter-widgets/controls",
          "model_name": "ProgressStyleModel",
          "model_module_version": "1.5.0",
          "state": {
            "_model_module": "@jupyter-widgets/controls",
            "_model_module_version": "1.5.0",
            "_model_name": "ProgressStyleModel",
            "_view_count": null,
            "_view_module": "@jupyter-widgets/base",
            "_view_module_version": "1.2.0",
            "_view_name": "StyleView",
            "bar_color": null,
            "description_width": ""
          }
        },
        "74a99b9346d6470485599ece6a8bd34c": {
          "model_module": "@jupyter-widgets/base",
          "model_name": "LayoutModel",
          "model_module_version": "1.2.0",
          "state": {
            "_model_module": "@jupyter-widgets/base",
            "_model_module_version": "1.2.0",
            "_model_name": "LayoutModel",
            "_view_count": null,
            "_view_module": "@jupyter-widgets/base",
            "_view_module_version": "1.2.0",
            "_view_name": "LayoutView",
            "align_content": null,
            "align_items": null,
            "align_self": null,
            "border": null,
            "bottom": null,
            "display": null,
            "flex": null,
            "flex_flow": null,
            "grid_area": null,
            "grid_auto_columns": null,
            "grid_auto_flow": null,
            "grid_auto_rows": null,
            "grid_column": null,
            "grid_gap": null,
            "grid_row": null,
            "grid_template_areas": null,
            "grid_template_columns": null,
            "grid_template_rows": null,
            "height": null,
            "justify_content": null,
            "justify_items": null,
            "left": null,
            "margin": null,
            "max_height": null,
            "max_width": null,
            "min_height": null,
            "min_width": null,
            "object_fit": null,
            "object_position": null,
            "order": null,
            "overflow": null,
            "overflow_x": null,
            "overflow_y": null,
            "padding": null,
            "right": null,
            "top": null,
            "visibility": null,
            "width": null
          }
        },
        "39db76f27cc84ec681785c076abc4868": {
          "model_module": "@jupyter-widgets/controls",
          "model_name": "DescriptionStyleModel",
          "model_module_version": "1.5.0",
          "state": {
            "_model_module": "@jupyter-widgets/controls",
            "_model_module_version": "1.5.0",
            "_model_name": "DescriptionStyleModel",
            "_view_count": null,
            "_view_module": "@jupyter-widgets/base",
            "_view_module_version": "1.2.0",
            "_view_name": "StyleView",
            "description_width": ""
          }
        },
        "051ae3da40e241c898527fe892912d11": {
          "model_module": "@jupyter-widgets/controls",
          "model_name": "HBoxModel",
          "model_module_version": "1.5.0",
          "state": {
            "_dom_classes": [],
            "_model_module": "@jupyter-widgets/controls",
            "_model_module_version": "1.5.0",
            "_model_name": "HBoxModel",
            "_view_count": null,
            "_view_module": "@jupyter-widgets/controls",
            "_view_module_version": "1.5.0",
            "_view_name": "HBoxView",
            "box_style": "",
            "children": [
              "IPY_MODEL_0f06e4e634334f088e089644e6e703a2",
              "IPY_MODEL_bae9370d303d4c8c91bc39cc8e577e55",
              "IPY_MODEL_ccc7fed1ee354fd9b3fe3b96fe0d5448"
            ],
            "layout": "IPY_MODEL_4151d1cba39449e2ae142c70b27972a0"
          }
        },
        "0f06e4e634334f088e089644e6e703a2": {
          "model_module": "@jupyter-widgets/controls",
          "model_name": "HTMLModel",
          "model_module_version": "1.5.0",
          "state": {
            "_dom_classes": [],
            "_model_module": "@jupyter-widgets/controls",
            "_model_module_version": "1.5.0",
            "_model_name": "HTMLModel",
            "_view_count": null,
            "_view_module": "@jupyter-widgets/controls",
            "_view_module_version": "1.5.0",
            "_view_name": "HTMLView",
            "description": "",
            "description_tooltip": null,
            "layout": "IPY_MODEL_90030558f4844fb5850114cda0e976bb",
            "placeholder": "​",
            "style": "IPY_MODEL_2225adee54444e05901e0a0103cc523c",
            "value": "Map: 100%"
          }
        },
        "bae9370d303d4c8c91bc39cc8e577e55": {
          "model_module": "@jupyter-widgets/controls",
          "model_name": "FloatProgressModel",
          "model_module_version": "1.5.0",
          "state": {
            "_dom_classes": [],
            "_model_module": "@jupyter-widgets/controls",
            "_model_module_version": "1.5.0",
            "_model_name": "FloatProgressModel",
            "_view_count": null,
            "_view_module": "@jupyter-widgets/controls",
            "_view_module_version": "1.5.0",
            "_view_name": "ProgressView",
            "bar_style": "success",
            "description": "",
            "description_tooltip": null,
            "layout": "IPY_MODEL_621b7c19ee004cd483612bf39d969cbc",
            "max": 670,
            "min": 0,
            "orientation": "horizontal",
            "style": "IPY_MODEL_6136f1093dfd4e829c644a3e8d560002",
            "value": 670
          }
        },
        "ccc7fed1ee354fd9b3fe3b96fe0d5448": {
          "model_module": "@jupyter-widgets/controls",
          "model_name": "HTMLModel",
          "model_module_version": "1.5.0",
          "state": {
            "_dom_classes": [],
            "_model_module": "@jupyter-widgets/controls",
            "_model_module_version": "1.5.0",
            "_model_name": "HTMLModel",
            "_view_count": null,
            "_view_module": "@jupyter-widgets/controls",
            "_view_module_version": "1.5.0",
            "_view_name": "HTMLView",
            "description": "",
            "description_tooltip": null,
            "layout": "IPY_MODEL_07a26e776b4f49799f25ade88b05ff05",
            "placeholder": "​",
            "style": "IPY_MODEL_5663203d965c4ad5b1a1530599443159",
            "value": " 670/670 [00:00&lt;00:00, 3665.03 examples/s]"
          }
        },
        "4151d1cba39449e2ae142c70b27972a0": {
          "model_module": "@jupyter-widgets/base",
          "model_name": "LayoutModel",
          "model_module_version": "1.2.0",
          "state": {
            "_model_module": "@jupyter-widgets/base",
            "_model_module_version": "1.2.0",
            "_model_name": "LayoutModel",
            "_view_count": null,
            "_view_module": "@jupyter-widgets/base",
            "_view_module_version": "1.2.0",
            "_view_name": "LayoutView",
            "align_content": null,
            "align_items": null,
            "align_self": null,
            "border": null,
            "bottom": null,
            "display": null,
            "flex": null,
            "flex_flow": null,
            "grid_area": null,
            "grid_auto_columns": null,
            "grid_auto_flow": null,
            "grid_auto_rows": null,
            "grid_column": null,
            "grid_gap": null,
            "grid_row": null,
            "grid_template_areas": null,
            "grid_template_columns": null,
            "grid_template_rows": null,
            "height": null,
            "justify_content": null,
            "justify_items": null,
            "left": null,
            "margin": null,
            "max_height": null,
            "max_width": null,
            "min_height": null,
            "min_width": null,
            "object_fit": null,
            "object_position": null,
            "order": null,
            "overflow": null,
            "overflow_x": null,
            "overflow_y": null,
            "padding": null,
            "right": null,
            "top": null,
            "visibility": null,
            "width": null
          }
        },
        "90030558f4844fb5850114cda0e976bb": {
          "model_module": "@jupyter-widgets/base",
          "model_name": "LayoutModel",
          "model_module_version": "1.2.0",
          "state": {
            "_model_module": "@jupyter-widgets/base",
            "_model_module_version": "1.2.0",
            "_model_name": "LayoutModel",
            "_view_count": null,
            "_view_module": "@jupyter-widgets/base",
            "_view_module_version": "1.2.0",
            "_view_name": "LayoutView",
            "align_content": null,
            "align_items": null,
            "align_self": null,
            "border": null,
            "bottom": null,
            "display": null,
            "flex": null,
            "flex_flow": null,
            "grid_area": null,
            "grid_auto_columns": null,
            "grid_auto_flow": null,
            "grid_auto_rows": null,
            "grid_column": null,
            "grid_gap": null,
            "grid_row": null,
            "grid_template_areas": null,
            "grid_template_columns": null,
            "grid_template_rows": null,
            "height": null,
            "justify_content": null,
            "justify_items": null,
            "left": null,
            "margin": null,
            "max_height": null,
            "max_width": null,
            "min_height": null,
            "min_width": null,
            "object_fit": null,
            "object_position": null,
            "order": null,
            "overflow": null,
            "overflow_x": null,
            "overflow_y": null,
            "padding": null,
            "right": null,
            "top": null,
            "visibility": null,
            "width": null
          }
        },
        "2225adee54444e05901e0a0103cc523c": {
          "model_module": "@jupyter-widgets/controls",
          "model_name": "DescriptionStyleModel",
          "model_module_version": "1.5.0",
          "state": {
            "_model_module": "@jupyter-widgets/controls",
            "_model_module_version": "1.5.0",
            "_model_name": "DescriptionStyleModel",
            "_view_count": null,
            "_view_module": "@jupyter-widgets/base",
            "_view_module_version": "1.2.0",
            "_view_name": "StyleView",
            "description_width": ""
          }
        },
        "621b7c19ee004cd483612bf39d969cbc": {
          "model_module": "@jupyter-widgets/base",
          "model_name": "LayoutModel",
          "model_module_version": "1.2.0",
          "state": {
            "_model_module": "@jupyter-widgets/base",
            "_model_module_version": "1.2.0",
            "_model_name": "LayoutModel",
            "_view_count": null,
            "_view_module": "@jupyter-widgets/base",
            "_view_module_version": "1.2.0",
            "_view_name": "LayoutView",
            "align_content": null,
            "align_items": null,
            "align_self": null,
            "border": null,
            "bottom": null,
            "display": null,
            "flex": null,
            "flex_flow": null,
            "grid_area": null,
            "grid_auto_columns": null,
            "grid_auto_flow": null,
            "grid_auto_rows": null,
            "grid_column": null,
            "grid_gap": null,
            "grid_row": null,
            "grid_template_areas": null,
            "grid_template_columns": null,
            "grid_template_rows": null,
            "height": null,
            "justify_content": null,
            "justify_items": null,
            "left": null,
            "margin": null,
            "max_height": null,
            "max_width": null,
            "min_height": null,
            "min_width": null,
            "object_fit": null,
            "object_position": null,
            "order": null,
            "overflow": null,
            "overflow_x": null,
            "overflow_y": null,
            "padding": null,
            "right": null,
            "top": null,
            "visibility": null,
            "width": null
          }
        },
        "6136f1093dfd4e829c644a3e8d560002": {
          "model_module": "@jupyter-widgets/controls",
          "model_name": "ProgressStyleModel",
          "model_module_version": "1.5.0",
          "state": {
            "_model_module": "@jupyter-widgets/controls",
            "_model_module_version": "1.5.0",
            "_model_name": "ProgressStyleModel",
            "_view_count": null,
            "_view_module": "@jupyter-widgets/base",
            "_view_module_version": "1.2.0",
            "_view_name": "StyleView",
            "bar_color": null,
            "description_width": ""
          }
        },
        "07a26e776b4f49799f25ade88b05ff05": {
          "model_module": "@jupyter-widgets/base",
          "model_name": "LayoutModel",
          "model_module_version": "1.2.0",
          "state": {
            "_model_module": "@jupyter-widgets/base",
            "_model_module_version": "1.2.0",
            "_model_name": "LayoutModel",
            "_view_count": null,
            "_view_module": "@jupyter-widgets/base",
            "_view_module_version": "1.2.0",
            "_view_name": "LayoutView",
            "align_content": null,
            "align_items": null,
            "align_self": null,
            "border": null,
            "bottom": null,
            "display": null,
            "flex": null,
            "flex_flow": null,
            "grid_area": null,
            "grid_auto_columns": null,
            "grid_auto_flow": null,
            "grid_auto_rows": null,
            "grid_column": null,
            "grid_gap": null,
            "grid_row": null,
            "grid_template_areas": null,
            "grid_template_columns": null,
            "grid_template_rows": null,
            "height": null,
            "justify_content": null,
            "justify_items": null,
            "left": null,
            "margin": null,
            "max_height": null,
            "max_width": null,
            "min_height": null,
            "min_width": null,
            "object_fit": null,
            "object_position": null,
            "order": null,
            "overflow": null,
            "overflow_x": null,
            "overflow_y": null,
            "padding": null,
            "right": null,
            "top": null,
            "visibility": null,
            "width": null
          }
        },
        "5663203d965c4ad5b1a1530599443159": {
          "model_module": "@jupyter-widgets/controls",
          "model_name": "DescriptionStyleModel",
          "model_module_version": "1.5.0",
          "state": {
            "_model_module": "@jupyter-widgets/controls",
            "_model_module_version": "1.5.0",
            "_model_name": "DescriptionStyleModel",
            "_view_count": null,
            "_view_module": "@jupyter-widgets/base",
            "_view_module_version": "1.2.0",
            "_view_name": "StyleView",
            "description_width": ""
          }
        }
      }
    }
  },
  "cells": [
    {
      "cell_type": "markdown",
      "source": [
        "Классификация, которую я использовала для размеки:\n",
        "1. Гендерно-маркированная номинация лица\n",
        "2. Гендерно-нейтральная номинация лица\n",
        "3. Дружеское или фамильярное обращение\n",
        "4. родственник\n",
        "5. Лицо, состоящее в дружеских отношениях с говорящим\n",
        "6. Лицо, состоящее в романтических отношениях с говорящим\n",
        "7. Молодой человек\n",
        "8. Взрослый человек\n",
        "9. Пожилой человек\n",
        "10. Лицо младше или одного возраста с говорящим\n",
        "0. Воплощение свойств и качеств, присущих данному полу\n"
      ],
      "metadata": {
        "id": "mKmZzHEf-ZJj"
      }
    },
    {
      "cell_type": "markdown",
      "source": [
        "# Импорты"
      ],
      "metadata": {
        "id": "kP8F89i9u3kC"
      }
    },
    {
      "cell_type": "code",
      "source": [
        "!pip install evaluate"
      ],
      "metadata": {
        "colab": {
          "base_uri": "https://localhost:8080/"
        },
        "id": "hrSVFX-1LtvY",
        "outputId": "47481e77-5447-440e-b8c3-9a2c2d7daf89"
      },
      "execution_count": null,
      "outputs": [
        {
          "output_type": "stream",
          "name": "stdout",
          "text": [
            "Collecting evaluate\n",
            "  Downloading evaluate-0.4.3-py3-none-any.whl.metadata (9.2 kB)\n",
            "Requirement already satisfied: datasets>=2.0.0 in /usr/local/lib/python3.11/dist-packages (from evaluate) (2.14.4)\n",
            "Requirement already satisfied: numpy>=1.17 in /usr/local/lib/python3.11/dist-packages (from evaluate) (2.0.2)\n",
            "Requirement already satisfied: dill in /usr/local/lib/python3.11/dist-packages (from evaluate) (0.3.7)\n",
            "Requirement already satisfied: pandas in /usr/local/lib/python3.11/dist-packages (from evaluate) (2.2.2)\n",
            "Requirement already satisfied: requests>=2.19.0 in /usr/local/lib/python3.11/dist-packages (from evaluate) (2.32.3)\n",
            "Requirement already satisfied: tqdm>=4.62.1 in /usr/local/lib/python3.11/dist-packages (from evaluate) (4.67.1)\n",
            "Requirement already satisfied: xxhash in /usr/local/lib/python3.11/dist-packages (from evaluate) (3.5.0)\n",
            "Requirement already satisfied: multiprocess in /usr/local/lib/python3.11/dist-packages (from evaluate) (0.70.15)\n",
            "Requirement already satisfied: fsspec>=2021.05.0 in /usr/local/lib/python3.11/dist-packages (from fsspec[http]>=2021.05.0->evaluate) (2025.3.2)\n",
            "Requirement already satisfied: huggingface-hub>=0.7.0 in /usr/local/lib/python3.11/dist-packages (from evaluate) (0.31.2)\n",
            "Requirement already satisfied: packaging in /usr/local/lib/python3.11/dist-packages (from evaluate) (24.2)\n",
            "Requirement already satisfied: pyarrow>=8.0.0 in /usr/local/lib/python3.11/dist-packages (from datasets>=2.0.0->evaluate) (18.1.0)\n",
            "Requirement already satisfied: aiohttp in /usr/local/lib/python3.11/dist-packages (from datasets>=2.0.0->evaluate) (3.11.15)\n",
            "Requirement already satisfied: pyyaml>=5.1 in /usr/local/lib/python3.11/dist-packages (from datasets>=2.0.0->evaluate) (6.0.2)\n",
            "Requirement already satisfied: filelock in /usr/local/lib/python3.11/dist-packages (from huggingface-hub>=0.7.0->evaluate) (3.18.0)\n",
            "Requirement already satisfied: typing-extensions>=3.7.4.3 in /usr/local/lib/python3.11/dist-packages (from huggingface-hub>=0.7.0->evaluate) (4.13.2)\n",
            "Requirement already satisfied: charset-normalizer<4,>=2 in /usr/local/lib/python3.11/dist-packages (from requests>=2.19.0->evaluate) (3.4.2)\n",
            "Requirement already satisfied: idna<4,>=2.5 in /usr/local/lib/python3.11/dist-packages (from requests>=2.19.0->evaluate) (3.10)\n",
            "Requirement already satisfied: urllib3<3,>=1.21.1 in /usr/local/lib/python3.11/dist-packages (from requests>=2.19.0->evaluate) (2.4.0)\n",
            "Requirement already satisfied: certifi>=2017.4.17 in /usr/local/lib/python3.11/dist-packages (from requests>=2.19.0->evaluate) (2025.4.26)\n",
            "Requirement already satisfied: python-dateutil>=2.8.2 in /usr/local/lib/python3.11/dist-packages (from pandas->evaluate) (2.9.0.post0)\n",
            "Requirement already satisfied: pytz>=2020.1 in /usr/local/lib/python3.11/dist-packages (from pandas->evaluate) (2025.2)\n",
            "Requirement already satisfied: tzdata>=2022.7 in /usr/local/lib/python3.11/dist-packages (from pandas->evaluate) (2025.2)\n",
            "Requirement already satisfied: aiohappyeyeballs>=2.3.0 in /usr/local/lib/python3.11/dist-packages (from aiohttp->datasets>=2.0.0->evaluate) (2.6.1)\n",
            "Requirement already satisfied: aiosignal>=1.1.2 in /usr/local/lib/python3.11/dist-packages (from aiohttp->datasets>=2.0.0->evaluate) (1.3.2)\n",
            "Requirement already satisfied: attrs>=17.3.0 in /usr/local/lib/python3.11/dist-packages (from aiohttp->datasets>=2.0.0->evaluate) (25.3.0)\n",
            "Requirement already satisfied: frozenlist>=1.1.1 in /usr/local/lib/python3.11/dist-packages (from aiohttp->datasets>=2.0.0->evaluate) (1.6.0)\n",
            "Requirement already satisfied: multidict<7.0,>=4.5 in /usr/local/lib/python3.11/dist-packages (from aiohttp->datasets>=2.0.0->evaluate) (6.4.3)\n",
            "Requirement already satisfied: propcache>=0.2.0 in /usr/local/lib/python3.11/dist-packages (from aiohttp->datasets>=2.0.0->evaluate) (0.3.1)\n",
            "Requirement already satisfied: yarl<2.0,>=1.17.0 in /usr/local/lib/python3.11/dist-packages (from aiohttp->datasets>=2.0.0->evaluate) (1.20.0)\n",
            "Requirement already satisfied: six>=1.5 in /usr/local/lib/python3.11/dist-packages (from python-dateutil>=2.8.2->pandas->evaluate) (1.17.0)\n",
            "Downloading evaluate-0.4.3-py3-none-any.whl (84 kB)\n",
            "\u001b[2K   \u001b[90m━━━━━━━━━━━━━━━━━━━━━━━━━━━━━━━━━━━━━━━━\u001b[0m \u001b[32m84.0/84.0 kB\u001b[0m \u001b[31m5.3 MB/s\u001b[0m eta \u001b[36m0:00:00\u001b[0m\n",
            "\u001b[?25hInstalling collected packages: evaluate\n",
            "Successfully installed evaluate-0.4.3\n"
          ]
        }
      ]
    },
    {
      "cell_type": "code",
      "execution_count": null,
      "metadata": {
        "id": "Mq-Xlt-fGV07"
      },
      "outputs": [],
      "source": [
        "import matplotlib.pyplot as plt\n",
        "import numpy as np\n",
        "import pandas as pd\n",
        "import re\n",
        "import seaborn as sns\n",
        "import spacy\n",
        "import torch\n",
        "\n",
        "from datasets import  Dataset, load_metric\n",
        "from evaluate import load\n",
        "from sklearn.metrics import precision_score, recall_score, f1_score, classification_report, confusion_matrix\n",
        "from sklearn.model_selection import train_test_split\n",
        "from sklearn.utils.class_weight import compute_class_weight\n",
        "from torch import nn\n",
        "from torch.utils.data import WeightedRandomSampler\n",
        "from transformers import  AutoTokenizer, AutoModelForSequenceClassification, TrainingArguments, Trainer"
      ]
    },
    {
      "cell_type": "code",
      "source": [
        "from google.colab import drive\n",
        "drive.mount('/content/drive')"
      ],
      "metadata": {
        "colab": {
          "base_uri": "https://localhost:8080/"
        },
        "id": "VU5xEO_S_PJm",
        "outputId": "181abdba-bb56-4519-a25b-ad9d5d0439da"
      },
      "execution_count": null,
      "outputs": [
        {
          "output_type": "stream",
          "name": "stdout",
          "text": [
            "Mounted at /content/drive\n"
          ]
        }
      ]
    },
    {
      "cell_type": "markdown",
      "source": [
        "# Работа с данными"
      ],
      "metadata": {
        "id": "38-_I6gYvBHP"
      }
    },
    {
      "cell_type": "code",
      "source": [
        "df = pd.read_excel('/content/Совсем окончательный датасет.xlsx')\n",
        "df.head()"
      ],
      "metadata": {
        "colab": {
          "base_uri": "https://localhost:8080/",
          "height": 310
        },
        "id": "SCwuAaSLGZ_x",
        "outputId": "c99eb28c-a727-4ccf-c6b8-cde15caeeb2e"
      },
      "execution_count": null,
      "outputs": [
        {
          "output_type": "execute_result",
          "data": {
            "text/plain": [
              "                                        Full context  1 level      conn  \\\n",
              "0  Если бы не деды, мы бы не собирались сегодня с...        4   neutral   \n",
              "1  Кто начнет первый посылать деда? Я думаю Рамза...        9   neutral   \n",
              "2  Но этих мужчин надо слушать, мне таких в жизни...        1   neutral   \n",
              "3  , даже очень порядочные и вовсе не корыстные д...       10  positive   \n",
              "4  Я знаю, о чем говорю, так как был воспитан мат...        7   neutral   \n",
              "\n",
              "                                         marked_text  \n",
              "0  если бы не [TGT]деды[/TGT], мы бы не собиралис...  \n",
              "1  кто начнет первый посылать [TGT]деда[/TGT]? я ...  \n",
              "2  но этих [TGT]мужчин[/TGT] надо слушать, мне та...  \n",
              "3  , даже очень порядочные и вовсе не корыстные [...  \n",
              "4  я знаю, о чем говорю, так как был воспитан мат...  "
            ],
            "text/html": [
              "\n",
              "  <div id=\"df-0781d067-4c91-481f-baac-5b4d44bf602d\" class=\"colab-df-container\">\n",
              "    <div>\n",
              "<style scoped>\n",
              "    .dataframe tbody tr th:only-of-type {\n",
              "        vertical-align: middle;\n",
              "    }\n",
              "\n",
              "    .dataframe tbody tr th {\n",
              "        vertical-align: top;\n",
              "    }\n",
              "\n",
              "    .dataframe thead th {\n",
              "        text-align: right;\n",
              "    }\n",
              "</style>\n",
              "<table border=\"1\" class=\"dataframe\">\n",
              "  <thead>\n",
              "    <tr style=\"text-align: right;\">\n",
              "      <th></th>\n",
              "      <th>Full context</th>\n",
              "      <th>1 level</th>\n",
              "      <th>conn</th>\n",
              "      <th>marked_text</th>\n",
              "    </tr>\n",
              "  </thead>\n",
              "  <tbody>\n",
              "    <tr>\n",
              "      <th>0</th>\n",
              "      <td>Если бы не деды, мы бы не собирались сегодня с...</td>\n",
              "      <td>4</td>\n",
              "      <td>neutral</td>\n",
              "      <td>если бы не [TGT]деды[/TGT], мы бы не собиралис...</td>\n",
              "    </tr>\n",
              "    <tr>\n",
              "      <th>1</th>\n",
              "      <td>Кто начнет первый посылать деда? Я думаю Рамза...</td>\n",
              "      <td>9</td>\n",
              "      <td>neutral</td>\n",
              "      <td>кто начнет первый посылать [TGT]деда[/TGT]? я ...</td>\n",
              "    </tr>\n",
              "    <tr>\n",
              "      <th>2</th>\n",
              "      <td>Но этих мужчин надо слушать, мне таких в жизни...</td>\n",
              "      <td>1</td>\n",
              "      <td>neutral</td>\n",
              "      <td>но этих [TGT]мужчин[/TGT] надо слушать, мне та...</td>\n",
              "    </tr>\n",
              "    <tr>\n",
              "      <th>3</th>\n",
              "      <td>, даже очень порядочные и вовсе не корыстные д...</td>\n",
              "      <td>10</td>\n",
              "      <td>positive</td>\n",
              "      <td>, даже очень порядочные и вовсе не корыстные [...</td>\n",
              "    </tr>\n",
              "    <tr>\n",
              "      <th>4</th>\n",
              "      <td>Я знаю, о чем говорю, так как был воспитан мат...</td>\n",
              "      <td>7</td>\n",
              "      <td>neutral</td>\n",
              "      <td>я знаю, о чем говорю, так как был воспитан мат...</td>\n",
              "    </tr>\n",
              "  </tbody>\n",
              "</table>\n",
              "</div>\n",
              "    <div class=\"colab-df-buttons\">\n",
              "\n",
              "  <div class=\"colab-df-container\">\n",
              "    <button class=\"colab-df-convert\" onclick=\"convertToInteractive('df-0781d067-4c91-481f-baac-5b4d44bf602d')\"\n",
              "            title=\"Convert this dataframe to an interactive table.\"\n",
              "            style=\"display:none;\">\n",
              "\n",
              "  <svg xmlns=\"http://www.w3.org/2000/svg\" height=\"24px\" viewBox=\"0 -960 960 960\">\n",
              "    <path d=\"M120-120v-720h720v720H120Zm60-500h600v-160H180v160Zm220 220h160v-160H400v160Zm0 220h160v-160H400v160ZM180-400h160v-160H180v160Zm440 0h160v-160H620v160ZM180-180h160v-160H180v160Zm440 0h160v-160H620v160Z\"/>\n",
              "  </svg>\n",
              "    </button>\n",
              "\n",
              "  <style>\n",
              "    .colab-df-container {\n",
              "      display:flex;\n",
              "      gap: 12px;\n",
              "    }\n",
              "\n",
              "    .colab-df-convert {\n",
              "      background-color: #E8F0FE;\n",
              "      border: none;\n",
              "      border-radius: 50%;\n",
              "      cursor: pointer;\n",
              "      display: none;\n",
              "      fill: #1967D2;\n",
              "      height: 32px;\n",
              "      padding: 0 0 0 0;\n",
              "      width: 32px;\n",
              "    }\n",
              "\n",
              "    .colab-df-convert:hover {\n",
              "      background-color: #E2EBFA;\n",
              "      box-shadow: 0px 1px 2px rgba(60, 64, 67, 0.3), 0px 1px 3px 1px rgba(60, 64, 67, 0.15);\n",
              "      fill: #174EA6;\n",
              "    }\n",
              "\n",
              "    .colab-df-buttons div {\n",
              "      margin-bottom: 4px;\n",
              "    }\n",
              "\n",
              "    [theme=dark] .colab-df-convert {\n",
              "      background-color: #3B4455;\n",
              "      fill: #D2E3FC;\n",
              "    }\n",
              "\n",
              "    [theme=dark] .colab-df-convert:hover {\n",
              "      background-color: #434B5C;\n",
              "      box-shadow: 0px 1px 3px 1px rgba(0, 0, 0, 0.15);\n",
              "      filter: drop-shadow(0px 1px 2px rgba(0, 0, 0, 0.3));\n",
              "      fill: #FFFFFF;\n",
              "    }\n",
              "  </style>\n",
              "\n",
              "    <script>\n",
              "      const buttonEl =\n",
              "        document.querySelector('#df-0781d067-4c91-481f-baac-5b4d44bf602d button.colab-df-convert');\n",
              "      buttonEl.style.display =\n",
              "        google.colab.kernel.accessAllowed ? 'block' : 'none';\n",
              "\n",
              "      async function convertToInteractive(key) {\n",
              "        const element = document.querySelector('#df-0781d067-4c91-481f-baac-5b4d44bf602d');\n",
              "        const dataTable =\n",
              "          await google.colab.kernel.invokeFunction('convertToInteractive',\n",
              "                                                    [key], {});\n",
              "        if (!dataTable) return;\n",
              "\n",
              "        const docLinkHtml = 'Like what you see? Visit the ' +\n",
              "          '<a target=\"_blank\" href=https://colab.research.google.com/notebooks/data_table.ipynb>data table notebook</a>'\n",
              "          + ' to learn more about interactive tables.';\n",
              "        element.innerHTML = '';\n",
              "        dataTable['output_type'] = 'display_data';\n",
              "        await google.colab.output.renderOutput(dataTable, element);\n",
              "        const docLink = document.createElement('div');\n",
              "        docLink.innerHTML = docLinkHtml;\n",
              "        element.appendChild(docLink);\n",
              "      }\n",
              "    </script>\n",
              "  </div>\n",
              "\n",
              "\n",
              "    <div id=\"df-3b593659-32de-4e51-a8e7-f3dcea9e05c2\">\n",
              "      <button class=\"colab-df-quickchart\" onclick=\"quickchart('df-3b593659-32de-4e51-a8e7-f3dcea9e05c2')\"\n",
              "                title=\"Suggest charts\"\n",
              "                style=\"display:none;\">\n",
              "\n",
              "<svg xmlns=\"http://www.w3.org/2000/svg\" height=\"24px\"viewBox=\"0 0 24 24\"\n",
              "     width=\"24px\">\n",
              "    <g>\n",
              "        <path d=\"M19 3H5c-1.1 0-2 .9-2 2v14c0 1.1.9 2 2 2h14c1.1 0 2-.9 2-2V5c0-1.1-.9-2-2-2zM9 17H7v-7h2v7zm4 0h-2V7h2v10zm4 0h-2v-4h2v4z\"/>\n",
              "    </g>\n",
              "</svg>\n",
              "      </button>\n",
              "\n",
              "<style>\n",
              "  .colab-df-quickchart {\n",
              "      --bg-color: #E8F0FE;\n",
              "      --fill-color: #1967D2;\n",
              "      --hover-bg-color: #E2EBFA;\n",
              "      --hover-fill-color: #174EA6;\n",
              "      --disabled-fill-color: #AAA;\n",
              "      --disabled-bg-color: #DDD;\n",
              "  }\n",
              "\n",
              "  [theme=dark] .colab-df-quickchart {\n",
              "      --bg-color: #3B4455;\n",
              "      --fill-color: #D2E3FC;\n",
              "      --hover-bg-color: #434B5C;\n",
              "      --hover-fill-color: #FFFFFF;\n",
              "      --disabled-bg-color: #3B4455;\n",
              "      --disabled-fill-color: #666;\n",
              "  }\n",
              "\n",
              "  .colab-df-quickchart {\n",
              "    background-color: var(--bg-color);\n",
              "    border: none;\n",
              "    border-radius: 50%;\n",
              "    cursor: pointer;\n",
              "    display: none;\n",
              "    fill: var(--fill-color);\n",
              "    height: 32px;\n",
              "    padding: 0;\n",
              "    width: 32px;\n",
              "  }\n",
              "\n",
              "  .colab-df-quickchart:hover {\n",
              "    background-color: var(--hover-bg-color);\n",
              "    box-shadow: 0 1px 2px rgba(60, 64, 67, 0.3), 0 1px 3px 1px rgba(60, 64, 67, 0.15);\n",
              "    fill: var(--button-hover-fill-color);\n",
              "  }\n",
              "\n",
              "  .colab-df-quickchart-complete:disabled,\n",
              "  .colab-df-quickchart-complete:disabled:hover {\n",
              "    background-color: var(--disabled-bg-color);\n",
              "    fill: var(--disabled-fill-color);\n",
              "    box-shadow: none;\n",
              "  }\n",
              "\n",
              "  .colab-df-spinner {\n",
              "    border: 2px solid var(--fill-color);\n",
              "    border-color: transparent;\n",
              "    border-bottom-color: var(--fill-color);\n",
              "    animation:\n",
              "      spin 1s steps(1) infinite;\n",
              "  }\n",
              "\n",
              "  @keyframes spin {\n",
              "    0% {\n",
              "      border-color: transparent;\n",
              "      border-bottom-color: var(--fill-color);\n",
              "      border-left-color: var(--fill-color);\n",
              "    }\n",
              "    20% {\n",
              "      border-color: transparent;\n",
              "      border-left-color: var(--fill-color);\n",
              "      border-top-color: var(--fill-color);\n",
              "    }\n",
              "    30% {\n",
              "      border-color: transparent;\n",
              "      border-left-color: var(--fill-color);\n",
              "      border-top-color: var(--fill-color);\n",
              "      border-right-color: var(--fill-color);\n",
              "    }\n",
              "    40% {\n",
              "      border-color: transparent;\n",
              "      border-right-color: var(--fill-color);\n",
              "      border-top-color: var(--fill-color);\n",
              "    }\n",
              "    60% {\n",
              "      border-color: transparent;\n",
              "      border-right-color: var(--fill-color);\n",
              "    }\n",
              "    80% {\n",
              "      border-color: transparent;\n",
              "      border-right-color: var(--fill-color);\n",
              "      border-bottom-color: var(--fill-color);\n",
              "    }\n",
              "    90% {\n",
              "      border-color: transparent;\n",
              "      border-bottom-color: var(--fill-color);\n",
              "    }\n",
              "  }\n",
              "</style>\n",
              "\n",
              "      <script>\n",
              "        async function quickchart(key) {\n",
              "          const quickchartButtonEl =\n",
              "            document.querySelector('#' + key + ' button');\n",
              "          quickchartButtonEl.disabled = true;  // To prevent multiple clicks.\n",
              "          quickchartButtonEl.classList.add('colab-df-spinner');\n",
              "          try {\n",
              "            const charts = await google.colab.kernel.invokeFunction(\n",
              "                'suggestCharts', [key], {});\n",
              "          } catch (error) {\n",
              "            console.error('Error during call to suggestCharts:', error);\n",
              "          }\n",
              "          quickchartButtonEl.classList.remove('colab-df-spinner');\n",
              "          quickchartButtonEl.classList.add('colab-df-quickchart-complete');\n",
              "        }\n",
              "        (() => {\n",
              "          let quickchartButtonEl =\n",
              "            document.querySelector('#df-3b593659-32de-4e51-a8e7-f3dcea9e05c2 button');\n",
              "          quickchartButtonEl.style.display =\n",
              "            google.colab.kernel.accessAllowed ? 'block' : 'none';\n",
              "        })();\n",
              "      </script>\n",
              "    </div>\n",
              "    </div>\n",
              "  </div>\n"
            ],
            "application/vnd.google.colaboratory.intrinsic+json": {
              "type": "dataframe",
              "variable_name": "df",
              "summary": "{\n  \"name\": \"df\",\n  \"rows\": 4468,\n  \"fields\": [\n    {\n      \"column\": \"Full context\",\n      \"properties\": {\n        \"dtype\": \"string\",\n        \"num_unique_values\": 4465,\n        \"samples\": [\n          \"\\u0415\\u0441\\u043b\\u0438 \\u0438 \\u043d\\u0430\\u0437\\u044b\\u0432\\u0430\\u044e\\u0442, \\u0442\\u043e \\u043a\\u0430\\u043a\\u0438\\u0445-\\u0442\\u043e \\u0431\\u043e\\u043b\\u0435\\u0435 \\u0430\\u0433\\u0440\\u0435\\u0441\\u0441\\u0438\\u0432\\u043d\\u044b\\u0445 \\u043f\\u0430\\u0446\\u0430\\u043d\\u043e\\u0432.<\\u2026\",\n          \"\\u0421 \\u043e\\u0434\\u043d\\u043e\\u0439 \\u0441\\u0442\\u043e\\u0440\\u043e\\u043d\\u044b \\u0432 \\u043a\\u0430\\u043a\\u0438\\u0445-\\u0442\\u043e \\u043a\\u043d\\u0438\\u0436\\u043e\\u043d\\u043a\\u0430\\u0445 \\u043c\\u043e\\u0436\\u043d\\u043e \\u0432\\u0441\\u0442\\u0440\\u0435\\u0442\\u0438\\u0442\\u044c \\u0446\\u0435\\u043b\\u044b\\u0435 \\u043e\\u0434\\u044b \\u043f\\u0438\\u0432\\u0443, \\u0437\\u0430\\u043a\\u0430\\u043d\\u0447\\u0438\\u0432\\u0430\\u044e\\u0449\\u0438\\u0435\\u0441\\u044f \\u0440\\u0435\\u043a\\u043e\\u043c\\u0435\\u043d\\u0434\\u0430\\u0446\\u0438\\u044f\\u043c\\u0438 \\u0443\\u043f\\u043e\\u0442\\u0440\\u0435\\u0431\\u043b\\u044f\\u0442\\u044c \\u043f\\u0438\\u0432\\u043e \\u0431\\u0435\\u0440\\u0435\\u043c\\u0435\\u043d\\u043d\\u044b\\u043c \\u0436\\u0435\\u043d\\u0449\\u0438\\u043d\\u0430\\u043c, \\u043a\\u043e\\u0440\\u043c\\u044f\\u0449\\u0438\\u043c \\u043c\\u0430\\u0442\\u0435\\u0440\\u044f\\u043c, \\u0434\\u0430\\u0432\\u0430\\u0442\\u044c \\u043f\\u0438\\u0432\\u043e \\u043c\\u043b\\u0430\\u0434\\u0435\\u043d\\u0446\\u0430\\u043c \\\"\\u0434\\u043b\\u044f \\u043b\\u0443\\u0447\\u0448\\u0435\\u0433\\u043e \\u0441\\u043d\\u0430\\\", \\u0441 \\u0434\\u0440\\u0443\\u0433\\u043e\\u0439 \\u0441\\u0442\\u043e\\u0440\\u043e\\u043d\\u044b \\u0433\\u043b\\u0430\\u0432\\u043d\\u044b\\u0439 \\u0441\\u0430\\u043d\\u0438\\u0442\\u0430\\u0440\\u043d\\u044b\\u0439 \\u0432\\u0440\\u0430\\u0447 \\u0420\\u0424 \\u0413\\u0435\\u043d\\u043d\\u0430\\u0434\\u0438\\u0439 \\u041e\\u043d\\u0438\\u0449\\u0435\\u043d\\u043a\\u043e \\u0433\\u043e\\u0432\\u043e\\u0440\\u0438\\u0442: \\\"\\u041d\\u0435 \\u0421\\u041f\\u0418\\u0414, \\u043d\\u0435 \\u0442\\u0443\\u0431\\u0435\\u0440\\u043a\\u0443\\u043b\\u0435\\u0437 \\u043f\\u043e\\u0433\\u0443\\u0431\\u044f\\u0442 \\u0420\\u043e\\u0441\\u0441\\u0438\\u044e, \\u0430 \\u043f\\u0438\\u0432\\u043d\\u043e\\u0439 \\u0430\\u043b\\u043a\\u043e\\u0433\\u043e\\u043b\\u0438\\u0437\\u043c \\u0441\\u0440\\u0435\\u0434\\u0438 \\u044e\\u043d\\u043e\\u0433\\u043e \\u043f\\u043e\\u043a\\u043e\\u043b\\u0435\\u043d\\u0438\\u044f\\\".\",\n          \"\\u0422\\u043e \\u0447\\u0442\\u043e \\u0434\\u0435\\u0434 \\u0436\\u0435\\u0440\\u0442\\u0432\\u0430 \\u0440\\u0435\\u0436\\u0438\\u043c\\u0430 \\u2015 \\u044d\\u0442\\u043e \\u043c\\u043e\\u0451 \\u0443\\u0431\\u0435\\u0436\\u0434\\u0435\\u043d\\u0438\\u0435, \\u0434\\u0430 \\u0438 \\u043d\\u0435 \\u0442\\u043e\\u043b\\u044c\\u043a\\u043e \\u043c\\u043e\\u0451.\"\n        ],\n        \"semantic_type\": \"\",\n        \"description\": \"\"\n      }\n    },\n    {\n      \"column\": \"1 level\",\n      \"properties\": {\n        \"dtype\": \"number\",\n        \"std\": 3,\n        \"min\": 0,\n        \"max\": 10,\n        \"num_unique_values\": 11,\n        \"samples\": [\n          2,\n          4,\n          8\n        ],\n        \"semantic_type\": \"\",\n        \"description\": \"\"\n      }\n    },\n    {\n      \"column\": \"conn\",\n      \"properties\": {\n        \"dtype\": \"category\",\n        \"num_unique_values\": 3,\n        \"samples\": [\n          \"neutral\",\n          \"positive\",\n          \"negative\"\n        ],\n        \"semantic_type\": \"\",\n        \"description\": \"\"\n      }\n    },\n    {\n      \"column\": \"marked_text\",\n      \"properties\": {\n        \"dtype\": \"string\",\n        \"num_unique_values\": 4465,\n        \"samples\": [\n          \"\\u0435\\u0441\\u043b\\u0438 \\u0438 \\u043d\\u0430\\u0437\\u044b\\u0432\\u0430\\u044e\\u0442, \\u0442\\u043e \\u043a\\u0430\\u043a\\u0438\\u0445-\\u0442\\u043e \\u0431\\u043e\\u043b\\u0435\\u0435 \\u0430\\u0433\\u0440\\u0435\\u0441\\u0441\\u0438\\u0432\\u043d\\u044b\\u0445 [TGT]\\u043f\\u0430\\u0446\\u0430\\u043d\\u043e\\u0432[/TGT].<\\u2026\",\n          \"\\u0441 \\u043e\\u0434\\u043d\\u043e\\u0439 \\u0441\\u0442\\u043e\\u0440\\u043e\\u043d\\u044b \\u0432 \\u043a\\u0430\\u043a\\u0438\\u0445-\\u0442\\u043e \\u043a\\u043d\\u0438\\u0436\\u043e\\u043d\\u043a\\u0430\\u0445 \\u043c\\u043e\\u0436\\u043d\\u043e \\u0432\\u0441\\u0442\\u0440\\u0435\\u0442\\u0438\\u0442\\u044c \\u0446\\u0435\\u043b\\u044b\\u0435 \\u043e\\u0434\\u044b \\u043f\\u0438\\u0432\\u0443, \\u0437\\u0430\\u043a\\u0430\\u043d\\u0447\\u0438\\u0432\\u0430\\u044e\\u0449\\u0438\\u0435\\u0441\\u044f \\u0440\\u0435\\u043a\\u043e\\u043c\\u0435\\u043d\\u0434\\u0430\\u0446\\u0438\\u044f\\u043c\\u0438 \\u0443\\u043f\\u043e\\u0442\\u0440\\u0435\\u0431\\u043b\\u044f\\u0442\\u044c \\u043f\\u0438\\u0432\\u043e \\u0431\\u0435\\u0440\\u0435\\u043c\\u0435\\u043d\\u043d\\u044b\\u043c [TGT]\\u0436\\u0435\\u043d\\u0449\\u0438\\u043d\\u0430\\u043c[/TGT]\",\n          \"(\\u0441\\u0442\\u0430\\u043d\\u043e\\u0432\\u0438\\u0442\\u044c\\u0441\\u044f) give-gave-given [TGT]\\u0434\\u0435\\u0434[/TGT] \\u0435\\u043c\\u0443 (\\u0434\\u0430\\u0432\\u0430\\u0442\\u044c) \\u0434\\u043e\\u0440\\u043e\\u0433\\u0443\\u044e \\u0431\\u0430\\u0441\\u0442\\u0443\\u0440\\u043c\\u0443 \\u2014 \\u043d\\u0430\\u0434\\u043e \\u0436 \\u043f\\u0441\\u0438\\u043d\\u0443 feed-fed-fed (\\u043a\\u043e\\u0440\\u043c\\u0438\\u0442\\u044c) \\u0447\\u0435\\u043c-\\u0442\\u043e \\u0432\\u043a\\u0443\\u0441\\u043d\\u044b\\u043c \\u043d\\u0430 \\u043e\\u0431\\u0435\\u0434.\"\n        ],\n        \"semantic_type\": \"\",\n        \"description\": \"\"\n      }\n    }\n  ]\n}"
            }
          },
          "metadata": {},
          "execution_count": 5
        }
      ]
    },
    {
      "cell_type": "code",
      "source": [
        "df.info()"
      ],
      "metadata": {
        "colab": {
          "base_uri": "https://localhost:8080/"
        },
        "collapsed": true,
        "id": "2bfdTRByMpYe",
        "outputId": "67b7f4a0-b9f3-4635-f1df-1d56f6b677d9"
      },
      "execution_count": null,
      "outputs": [
        {
          "output_type": "stream",
          "name": "stdout",
          "text": [
            "<class 'pandas.core.frame.DataFrame'>\n",
            "RangeIndex: 4468 entries, 0 to 4467\n",
            "Data columns (total 4 columns):\n",
            " #   Column        Non-Null Count  Dtype \n",
            "---  ------        --------------  ----- \n",
            " 0   Full context  4468 non-null   object\n",
            " 1   1 level       4468 non-null   int64 \n",
            " 2   conn          4468 non-null   object\n",
            " 3   marked_text   4468 non-null   object\n",
            "dtypes: int64(1), object(3)\n",
            "memory usage: 139.8+ KB\n"
          ]
        }
      ]
    },
    {
      "cell_type": "code",
      "source": [
        "class_counts = df['1 level'].value_counts()\n",
        "class_counts"
      ],
      "metadata": {
        "colab": {
          "base_uri": "https://localhost:8080/",
          "height": 460
        },
        "id": "hXxMYrWAObSF",
        "outputId": "f547da7d-e856-4243-faff-0c161494f26c"
      },
      "execution_count": null,
      "outputs": [
        {
          "output_type": "execute_result",
          "data": {
            "text/plain": [
              "1 level\n",
              "7     1146\n",
              "10     880\n",
              "1      832\n",
              "3      706\n",
              "4      212\n",
              "2      179\n",
              "9      121\n",
              "8      115\n",
              "5      114\n",
              "6       99\n",
              "0       64\n",
              "Name: count, dtype: int64"
            ],
            "text/html": [
              "<div>\n",
              "<style scoped>\n",
              "    .dataframe tbody tr th:only-of-type {\n",
              "        vertical-align: middle;\n",
              "    }\n",
              "\n",
              "    .dataframe tbody tr th {\n",
              "        vertical-align: top;\n",
              "    }\n",
              "\n",
              "    .dataframe thead th {\n",
              "        text-align: right;\n",
              "    }\n",
              "</style>\n",
              "<table border=\"1\" class=\"dataframe\">\n",
              "  <thead>\n",
              "    <tr style=\"text-align: right;\">\n",
              "      <th></th>\n",
              "      <th>count</th>\n",
              "    </tr>\n",
              "    <tr>\n",
              "      <th>1 level</th>\n",
              "      <th></th>\n",
              "    </tr>\n",
              "  </thead>\n",
              "  <tbody>\n",
              "    <tr>\n",
              "      <th>7</th>\n",
              "      <td>1146</td>\n",
              "    </tr>\n",
              "    <tr>\n",
              "      <th>10</th>\n",
              "      <td>880</td>\n",
              "    </tr>\n",
              "    <tr>\n",
              "      <th>1</th>\n",
              "      <td>832</td>\n",
              "    </tr>\n",
              "    <tr>\n",
              "      <th>3</th>\n",
              "      <td>706</td>\n",
              "    </tr>\n",
              "    <tr>\n",
              "      <th>4</th>\n",
              "      <td>212</td>\n",
              "    </tr>\n",
              "    <tr>\n",
              "      <th>2</th>\n",
              "      <td>179</td>\n",
              "    </tr>\n",
              "    <tr>\n",
              "      <th>9</th>\n",
              "      <td>121</td>\n",
              "    </tr>\n",
              "    <tr>\n",
              "      <th>8</th>\n",
              "      <td>115</td>\n",
              "    </tr>\n",
              "    <tr>\n",
              "      <th>5</th>\n",
              "      <td>114</td>\n",
              "    </tr>\n",
              "    <tr>\n",
              "      <th>6</th>\n",
              "      <td>99</td>\n",
              "    </tr>\n",
              "    <tr>\n",
              "      <th>0</th>\n",
              "      <td>64</td>\n",
              "    </tr>\n",
              "  </tbody>\n",
              "</table>\n",
              "</div><br><label><b>dtype:</b> int64</label>"
            ]
          },
          "metadata": {},
          "execution_count": 10
        }
      ]
    },
    {
      "cell_type": "code",
      "source": [
        "df['conn'].value_counts()"
      ],
      "metadata": {
        "colab": {
          "base_uri": "https://localhost:8080/",
          "height": 209
        },
        "id": "ISQhPQzROuZH",
        "outputId": "5b6818c9-7a89-4dec-96e1-ff43dd392965"
      },
      "execution_count": null,
      "outputs": [
        {
          "output_type": "execute_result",
          "data": {
            "text/plain": [
              "conn\n",
              "neutral     3528\n",
              "positive     648\n",
              "negative     292\n",
              "Name: count, dtype: int64"
            ],
            "text/html": [
              "<div>\n",
              "<style scoped>\n",
              "    .dataframe tbody tr th:only-of-type {\n",
              "        vertical-align: middle;\n",
              "    }\n",
              "\n",
              "    .dataframe tbody tr th {\n",
              "        vertical-align: top;\n",
              "    }\n",
              "\n",
              "    .dataframe thead th {\n",
              "        text-align: right;\n",
              "    }\n",
              "</style>\n",
              "<table border=\"1\" class=\"dataframe\">\n",
              "  <thead>\n",
              "    <tr style=\"text-align: right;\">\n",
              "      <th></th>\n",
              "      <th>count</th>\n",
              "    </tr>\n",
              "    <tr>\n",
              "      <th>conn</th>\n",
              "      <th></th>\n",
              "    </tr>\n",
              "  </thead>\n",
              "  <tbody>\n",
              "    <tr>\n",
              "      <th>neutral</th>\n",
              "      <td>3528</td>\n",
              "    </tr>\n",
              "    <tr>\n",
              "      <th>positive</th>\n",
              "      <td>648</td>\n",
              "    </tr>\n",
              "    <tr>\n",
              "      <th>negative</th>\n",
              "      <td>292</td>\n",
              "    </tr>\n",
              "  </tbody>\n",
              "</table>\n",
              "</div><br><label><b>dtype:</b> int64</label>"
            ]
          },
          "metadata": {},
          "execution_count": 7
        }
      ]
    },
    {
      "cell_type": "code",
      "source": [
        "copy_df = df.copy()"
      ],
      "metadata": {
        "id": "yRvyBL8KQzCf"
      },
      "execution_count": null,
      "outputs": []
    },
    {
      "cell_type": "code",
      "source": [
        "#перекодирую коннотацию из текста в числа\n",
        "names={'conn': {'negative': 0, 'neutral': 1, 'positive': 2}}\n",
        "coded_result = copy_df.replace(names)\n",
        "coded_result"
      ],
      "metadata": {
        "colab": {
          "base_uri": "https://localhost:8080/",
          "height": 653
        },
        "id": "bXSOeWnGQqs7",
        "outputId": "230ab494-d736-4bd4-9454-e392cd049217",
        "collapsed": true
      },
      "execution_count": null,
      "outputs": [
        {
          "output_type": "stream",
          "name": "stderr",
          "text": [
            "<ipython-input-9-7f0e2cd3f19d>:3: FutureWarning: Downcasting behavior in `replace` is deprecated and will be removed in a future version. To retain the old behavior, explicitly call `result.infer_objects(copy=False)`. To opt-in to the future behavior, set `pd.set_option('future.no_silent_downcasting', True)`\n",
            "  coded_result = copy_df.replace(names)\n"
          ]
        },
        {
          "output_type": "execute_result",
          "data": {
            "text/plain": [
              "                                           Full context  1 level  conn  \\\n",
              "0     Если бы не деды, мы бы не собирались сегодня с...        4     1   \n",
              "1     Кто начнет первый посылать деда? Я думаю Рамза...        9     1   \n",
              "2     Но этих мужчин надо слушать, мне таких в жизни...        1     1   \n",
              "3     , даже очень порядочные и вовсе не корыстные д...       10     2   \n",
              "4     Я знаю, о чем говорю, так как был воспитан мат...        7     1   \n",
              "...                                                 ...      ...   ...   \n",
              "4463  мужиками, а не с теми безусыми юнцами , что см...        7     1   \n",
              "4464  Я бы даже, честно говоря, усомнилась, что чуви...       10     1   \n",
              "4465                             чел сверху мой ребенок        2     1   \n",
              "4466  Эй Бро, нас не испортить деньгами И чтобы не б...        3     2   \n",
              "4467  желтый снег, когда проблем с деньгами нет, мэн...       10     1   \n",
              "\n",
              "                                            marked_text  \n",
              "0     если бы не [TGT]деды[/TGT], мы бы не собиралис...  \n",
              "1     кто начнет первый посылать [TGT]деда[/TGT]? я ...  \n",
              "2     но этих [TGT]мужчин[/TGT] надо слушать, мне та...  \n",
              "3     , даже очень порядочные и вовсе не корыстные [...  \n",
              "4     я знаю, о чем говорю, так как был воспитан мат...  \n",
              "...                                                 ...  \n",
              "4463  мужиками, а не с теми безусыми [TGT]юнцами[/TG...  \n",
              "4464  я бы даже, честно говоря, усомнилась, что [TGT...  \n",
              "4465                  [TGT]чел[/TGT] сверху мой ребенок  \n",
              "4466  эй [TGT]бро[/TGT], нас не испортить деньгами и...  \n",
              "4467  желтый снег, когда проблем с деньгами нет, [TG...  \n",
              "\n",
              "[4468 rows x 4 columns]"
            ],
            "text/html": [
              "\n",
              "  <div id=\"df-e4920161-3166-47dd-84f5-98d4f0d7156b\" class=\"colab-df-container\">\n",
              "    <div>\n",
              "<style scoped>\n",
              "    .dataframe tbody tr th:only-of-type {\n",
              "        vertical-align: middle;\n",
              "    }\n",
              "\n",
              "    .dataframe tbody tr th {\n",
              "        vertical-align: top;\n",
              "    }\n",
              "\n",
              "    .dataframe thead th {\n",
              "        text-align: right;\n",
              "    }\n",
              "</style>\n",
              "<table border=\"1\" class=\"dataframe\">\n",
              "  <thead>\n",
              "    <tr style=\"text-align: right;\">\n",
              "      <th></th>\n",
              "      <th>Full context</th>\n",
              "      <th>1 level</th>\n",
              "      <th>conn</th>\n",
              "      <th>marked_text</th>\n",
              "    </tr>\n",
              "  </thead>\n",
              "  <tbody>\n",
              "    <tr>\n",
              "      <th>0</th>\n",
              "      <td>Если бы не деды, мы бы не собирались сегодня с...</td>\n",
              "      <td>4</td>\n",
              "      <td>1</td>\n",
              "      <td>если бы не [TGT]деды[/TGT], мы бы не собиралис...</td>\n",
              "    </tr>\n",
              "    <tr>\n",
              "      <th>1</th>\n",
              "      <td>Кто начнет первый посылать деда? Я думаю Рамза...</td>\n",
              "      <td>9</td>\n",
              "      <td>1</td>\n",
              "      <td>кто начнет первый посылать [TGT]деда[/TGT]? я ...</td>\n",
              "    </tr>\n",
              "    <tr>\n",
              "      <th>2</th>\n",
              "      <td>Но этих мужчин надо слушать, мне таких в жизни...</td>\n",
              "      <td>1</td>\n",
              "      <td>1</td>\n",
              "      <td>но этих [TGT]мужчин[/TGT] надо слушать, мне та...</td>\n",
              "    </tr>\n",
              "    <tr>\n",
              "      <th>3</th>\n",
              "      <td>, даже очень порядочные и вовсе не корыстные д...</td>\n",
              "      <td>10</td>\n",
              "      <td>2</td>\n",
              "      <td>, даже очень порядочные и вовсе не корыстные [...</td>\n",
              "    </tr>\n",
              "    <tr>\n",
              "      <th>4</th>\n",
              "      <td>Я знаю, о чем говорю, так как был воспитан мат...</td>\n",
              "      <td>7</td>\n",
              "      <td>1</td>\n",
              "      <td>я знаю, о чем говорю, так как был воспитан мат...</td>\n",
              "    </tr>\n",
              "    <tr>\n",
              "      <th>...</th>\n",
              "      <td>...</td>\n",
              "      <td>...</td>\n",
              "      <td>...</td>\n",
              "      <td>...</td>\n",
              "    </tr>\n",
              "    <tr>\n",
              "      <th>4463</th>\n",
              "      <td>мужиками, а не с теми безусыми юнцами , что см...</td>\n",
              "      <td>7</td>\n",
              "      <td>1</td>\n",
              "      <td>мужиками, а не с теми безусыми [TGT]юнцами[/TG...</td>\n",
              "    </tr>\n",
              "    <tr>\n",
              "      <th>4464</th>\n",
              "      <td>Я бы даже, честно говоря, усомнилась, что чуви...</td>\n",
              "      <td>10</td>\n",
              "      <td>1</td>\n",
              "      <td>я бы даже, честно говоря, усомнилась, что [TGT...</td>\n",
              "    </tr>\n",
              "    <tr>\n",
              "      <th>4465</th>\n",
              "      <td>чел сверху мой ребенок</td>\n",
              "      <td>2</td>\n",
              "      <td>1</td>\n",
              "      <td>[TGT]чел[/TGT] сверху мой ребенок</td>\n",
              "    </tr>\n",
              "    <tr>\n",
              "      <th>4466</th>\n",
              "      <td>Эй Бро, нас не испортить деньгами И чтобы не б...</td>\n",
              "      <td>3</td>\n",
              "      <td>2</td>\n",
              "      <td>эй [TGT]бро[/TGT], нас не испортить деньгами и...</td>\n",
              "    </tr>\n",
              "    <tr>\n",
              "      <th>4467</th>\n",
              "      <td>желтый снег, когда проблем с деньгами нет, мэн...</td>\n",
              "      <td>10</td>\n",
              "      <td>1</td>\n",
              "      <td>желтый снег, когда проблем с деньгами нет, [TG...</td>\n",
              "    </tr>\n",
              "  </tbody>\n",
              "</table>\n",
              "<p>4468 rows × 4 columns</p>\n",
              "</div>\n",
              "    <div class=\"colab-df-buttons\">\n",
              "\n",
              "  <div class=\"colab-df-container\">\n",
              "    <button class=\"colab-df-convert\" onclick=\"convertToInteractive('df-e4920161-3166-47dd-84f5-98d4f0d7156b')\"\n",
              "            title=\"Convert this dataframe to an interactive table.\"\n",
              "            style=\"display:none;\">\n",
              "\n",
              "  <svg xmlns=\"http://www.w3.org/2000/svg\" height=\"24px\" viewBox=\"0 -960 960 960\">\n",
              "    <path d=\"M120-120v-720h720v720H120Zm60-500h600v-160H180v160Zm220 220h160v-160H400v160Zm0 220h160v-160H400v160ZM180-400h160v-160H180v160Zm440 0h160v-160H620v160ZM180-180h160v-160H180v160Zm440 0h160v-160H620v160Z\"/>\n",
              "  </svg>\n",
              "    </button>\n",
              "\n",
              "  <style>\n",
              "    .colab-df-container {\n",
              "      display:flex;\n",
              "      gap: 12px;\n",
              "    }\n",
              "\n",
              "    .colab-df-convert {\n",
              "      background-color: #E8F0FE;\n",
              "      border: none;\n",
              "      border-radius: 50%;\n",
              "      cursor: pointer;\n",
              "      display: none;\n",
              "      fill: #1967D2;\n",
              "      height: 32px;\n",
              "      padding: 0 0 0 0;\n",
              "      width: 32px;\n",
              "    }\n",
              "\n",
              "    .colab-df-convert:hover {\n",
              "      background-color: #E2EBFA;\n",
              "      box-shadow: 0px 1px 2px rgba(60, 64, 67, 0.3), 0px 1px 3px 1px rgba(60, 64, 67, 0.15);\n",
              "      fill: #174EA6;\n",
              "    }\n",
              "\n",
              "    .colab-df-buttons div {\n",
              "      margin-bottom: 4px;\n",
              "    }\n",
              "\n",
              "    [theme=dark] .colab-df-convert {\n",
              "      background-color: #3B4455;\n",
              "      fill: #D2E3FC;\n",
              "    }\n",
              "\n",
              "    [theme=dark] .colab-df-convert:hover {\n",
              "      background-color: #434B5C;\n",
              "      box-shadow: 0px 1px 3px 1px rgba(0, 0, 0, 0.15);\n",
              "      filter: drop-shadow(0px 1px 2px rgba(0, 0, 0, 0.3));\n",
              "      fill: #FFFFFF;\n",
              "    }\n",
              "  </style>\n",
              "\n",
              "    <script>\n",
              "      const buttonEl =\n",
              "        document.querySelector('#df-e4920161-3166-47dd-84f5-98d4f0d7156b button.colab-df-convert');\n",
              "      buttonEl.style.display =\n",
              "        google.colab.kernel.accessAllowed ? 'block' : 'none';\n",
              "\n",
              "      async function convertToInteractive(key) {\n",
              "        const element = document.querySelector('#df-e4920161-3166-47dd-84f5-98d4f0d7156b');\n",
              "        const dataTable =\n",
              "          await google.colab.kernel.invokeFunction('convertToInteractive',\n",
              "                                                    [key], {});\n",
              "        if (!dataTable) return;\n",
              "\n",
              "        const docLinkHtml = 'Like what you see? Visit the ' +\n",
              "          '<a target=\"_blank\" href=https://colab.research.google.com/notebooks/data_table.ipynb>data table notebook</a>'\n",
              "          + ' to learn more about interactive tables.';\n",
              "        element.innerHTML = '';\n",
              "        dataTable['output_type'] = 'display_data';\n",
              "        await google.colab.output.renderOutput(dataTable, element);\n",
              "        const docLink = document.createElement('div');\n",
              "        docLink.innerHTML = docLinkHtml;\n",
              "        element.appendChild(docLink);\n",
              "      }\n",
              "    </script>\n",
              "  </div>\n",
              "\n",
              "\n",
              "    <div id=\"df-e6cb7a51-c2ee-42d9-a878-f5b45b488167\">\n",
              "      <button class=\"colab-df-quickchart\" onclick=\"quickchart('df-e6cb7a51-c2ee-42d9-a878-f5b45b488167')\"\n",
              "                title=\"Suggest charts\"\n",
              "                style=\"display:none;\">\n",
              "\n",
              "<svg xmlns=\"http://www.w3.org/2000/svg\" height=\"24px\"viewBox=\"0 0 24 24\"\n",
              "     width=\"24px\">\n",
              "    <g>\n",
              "        <path d=\"M19 3H5c-1.1 0-2 .9-2 2v14c0 1.1.9 2 2 2h14c1.1 0 2-.9 2-2V5c0-1.1-.9-2-2-2zM9 17H7v-7h2v7zm4 0h-2V7h2v10zm4 0h-2v-4h2v4z\"/>\n",
              "    </g>\n",
              "</svg>\n",
              "      </button>\n",
              "\n",
              "<style>\n",
              "  .colab-df-quickchart {\n",
              "      --bg-color: #E8F0FE;\n",
              "      --fill-color: #1967D2;\n",
              "      --hover-bg-color: #E2EBFA;\n",
              "      --hover-fill-color: #174EA6;\n",
              "      --disabled-fill-color: #AAA;\n",
              "      --disabled-bg-color: #DDD;\n",
              "  }\n",
              "\n",
              "  [theme=dark] .colab-df-quickchart {\n",
              "      --bg-color: #3B4455;\n",
              "      --fill-color: #D2E3FC;\n",
              "      --hover-bg-color: #434B5C;\n",
              "      --hover-fill-color: #FFFFFF;\n",
              "      --disabled-bg-color: #3B4455;\n",
              "      --disabled-fill-color: #666;\n",
              "  }\n",
              "\n",
              "  .colab-df-quickchart {\n",
              "    background-color: var(--bg-color);\n",
              "    border: none;\n",
              "    border-radius: 50%;\n",
              "    cursor: pointer;\n",
              "    display: none;\n",
              "    fill: var(--fill-color);\n",
              "    height: 32px;\n",
              "    padding: 0;\n",
              "    width: 32px;\n",
              "  }\n",
              "\n",
              "  .colab-df-quickchart:hover {\n",
              "    background-color: var(--hover-bg-color);\n",
              "    box-shadow: 0 1px 2px rgba(60, 64, 67, 0.3), 0 1px 3px 1px rgba(60, 64, 67, 0.15);\n",
              "    fill: var(--button-hover-fill-color);\n",
              "  }\n",
              "\n",
              "  .colab-df-quickchart-complete:disabled,\n",
              "  .colab-df-quickchart-complete:disabled:hover {\n",
              "    background-color: var(--disabled-bg-color);\n",
              "    fill: var(--disabled-fill-color);\n",
              "    box-shadow: none;\n",
              "  }\n",
              "\n",
              "  .colab-df-spinner {\n",
              "    border: 2px solid var(--fill-color);\n",
              "    border-color: transparent;\n",
              "    border-bottom-color: var(--fill-color);\n",
              "    animation:\n",
              "      spin 1s steps(1) infinite;\n",
              "  }\n",
              "\n",
              "  @keyframes spin {\n",
              "    0% {\n",
              "      border-color: transparent;\n",
              "      border-bottom-color: var(--fill-color);\n",
              "      border-left-color: var(--fill-color);\n",
              "    }\n",
              "    20% {\n",
              "      border-color: transparent;\n",
              "      border-left-color: var(--fill-color);\n",
              "      border-top-color: var(--fill-color);\n",
              "    }\n",
              "    30% {\n",
              "      border-color: transparent;\n",
              "      border-left-color: var(--fill-color);\n",
              "      border-top-color: var(--fill-color);\n",
              "      border-right-color: var(--fill-color);\n",
              "    }\n",
              "    40% {\n",
              "      border-color: transparent;\n",
              "      border-right-color: var(--fill-color);\n",
              "      border-top-color: var(--fill-color);\n",
              "    }\n",
              "    60% {\n",
              "      border-color: transparent;\n",
              "      border-right-color: var(--fill-color);\n",
              "    }\n",
              "    80% {\n",
              "      border-color: transparent;\n",
              "      border-right-color: var(--fill-color);\n",
              "      border-bottom-color: var(--fill-color);\n",
              "    }\n",
              "    90% {\n",
              "      border-color: transparent;\n",
              "      border-bottom-color: var(--fill-color);\n",
              "    }\n",
              "  }\n",
              "</style>\n",
              "\n",
              "      <script>\n",
              "        async function quickchart(key) {\n",
              "          const quickchartButtonEl =\n",
              "            document.querySelector('#' + key + ' button');\n",
              "          quickchartButtonEl.disabled = true;  // To prevent multiple clicks.\n",
              "          quickchartButtonEl.classList.add('colab-df-spinner');\n",
              "          try {\n",
              "            const charts = await google.colab.kernel.invokeFunction(\n",
              "                'suggestCharts', [key], {});\n",
              "          } catch (error) {\n",
              "            console.error('Error during call to suggestCharts:', error);\n",
              "          }\n",
              "          quickchartButtonEl.classList.remove('colab-df-spinner');\n",
              "          quickchartButtonEl.classList.add('colab-df-quickchart-complete');\n",
              "        }\n",
              "        (() => {\n",
              "          let quickchartButtonEl =\n",
              "            document.querySelector('#df-e6cb7a51-c2ee-42d9-a878-f5b45b488167 button');\n",
              "          quickchartButtonEl.style.display =\n",
              "            google.colab.kernel.accessAllowed ? 'block' : 'none';\n",
              "        })();\n",
              "      </script>\n",
              "    </div>\n",
              "    </div>\n",
              "  </div>\n"
            ],
            "application/vnd.google.colaboratory.intrinsic+json": {
              "type": "dataframe",
              "variable_name": "coded_result",
              "summary": "{\n  \"name\": \"coded_result\",\n  \"rows\": 4468,\n  \"fields\": [\n    {\n      \"column\": \"Full context\",\n      \"properties\": {\n        \"dtype\": \"string\",\n        \"num_unique_values\": 4465,\n        \"samples\": [\n          \"\\u0415\\u0441\\u043b\\u0438 \\u0438 \\u043d\\u0430\\u0437\\u044b\\u0432\\u0430\\u044e\\u0442, \\u0442\\u043e \\u043a\\u0430\\u043a\\u0438\\u0445-\\u0442\\u043e \\u0431\\u043e\\u043b\\u0435\\u0435 \\u0430\\u0433\\u0440\\u0435\\u0441\\u0441\\u0438\\u0432\\u043d\\u044b\\u0445 \\u043f\\u0430\\u0446\\u0430\\u043d\\u043e\\u0432.<\\u2026\",\n          \"\\u0421 \\u043e\\u0434\\u043d\\u043e\\u0439 \\u0441\\u0442\\u043e\\u0440\\u043e\\u043d\\u044b \\u0432 \\u043a\\u0430\\u043a\\u0438\\u0445-\\u0442\\u043e \\u043a\\u043d\\u0438\\u0436\\u043e\\u043d\\u043a\\u0430\\u0445 \\u043c\\u043e\\u0436\\u043d\\u043e \\u0432\\u0441\\u0442\\u0440\\u0435\\u0442\\u0438\\u0442\\u044c \\u0446\\u0435\\u043b\\u044b\\u0435 \\u043e\\u0434\\u044b \\u043f\\u0438\\u0432\\u0443, \\u0437\\u0430\\u043a\\u0430\\u043d\\u0447\\u0438\\u0432\\u0430\\u044e\\u0449\\u0438\\u0435\\u0441\\u044f \\u0440\\u0435\\u043a\\u043e\\u043c\\u0435\\u043d\\u0434\\u0430\\u0446\\u0438\\u044f\\u043c\\u0438 \\u0443\\u043f\\u043e\\u0442\\u0440\\u0435\\u0431\\u043b\\u044f\\u0442\\u044c \\u043f\\u0438\\u0432\\u043e \\u0431\\u0435\\u0440\\u0435\\u043c\\u0435\\u043d\\u043d\\u044b\\u043c \\u0436\\u0435\\u043d\\u0449\\u0438\\u043d\\u0430\\u043c, \\u043a\\u043e\\u0440\\u043c\\u044f\\u0449\\u0438\\u043c \\u043c\\u0430\\u0442\\u0435\\u0440\\u044f\\u043c, \\u0434\\u0430\\u0432\\u0430\\u0442\\u044c \\u043f\\u0438\\u0432\\u043e \\u043c\\u043b\\u0430\\u0434\\u0435\\u043d\\u0446\\u0430\\u043c \\\"\\u0434\\u043b\\u044f \\u043b\\u0443\\u0447\\u0448\\u0435\\u0433\\u043e \\u0441\\u043d\\u0430\\\", \\u0441 \\u0434\\u0440\\u0443\\u0433\\u043e\\u0439 \\u0441\\u0442\\u043e\\u0440\\u043e\\u043d\\u044b \\u0433\\u043b\\u0430\\u0432\\u043d\\u044b\\u0439 \\u0441\\u0430\\u043d\\u0438\\u0442\\u0430\\u0440\\u043d\\u044b\\u0439 \\u0432\\u0440\\u0430\\u0447 \\u0420\\u0424 \\u0413\\u0435\\u043d\\u043d\\u0430\\u0434\\u0438\\u0439 \\u041e\\u043d\\u0438\\u0449\\u0435\\u043d\\u043a\\u043e \\u0433\\u043e\\u0432\\u043e\\u0440\\u0438\\u0442: \\\"\\u041d\\u0435 \\u0421\\u041f\\u0418\\u0414, \\u043d\\u0435 \\u0442\\u0443\\u0431\\u0435\\u0440\\u043a\\u0443\\u043b\\u0435\\u0437 \\u043f\\u043e\\u0433\\u0443\\u0431\\u044f\\u0442 \\u0420\\u043e\\u0441\\u0441\\u0438\\u044e, \\u0430 \\u043f\\u0438\\u0432\\u043d\\u043e\\u0439 \\u0430\\u043b\\u043a\\u043e\\u0433\\u043e\\u043b\\u0438\\u0437\\u043c \\u0441\\u0440\\u0435\\u0434\\u0438 \\u044e\\u043d\\u043e\\u0433\\u043e \\u043f\\u043e\\u043a\\u043e\\u043b\\u0435\\u043d\\u0438\\u044f\\\".\",\n          \"\\u0422\\u043e \\u0447\\u0442\\u043e \\u0434\\u0435\\u0434 \\u0436\\u0435\\u0440\\u0442\\u0432\\u0430 \\u0440\\u0435\\u0436\\u0438\\u043c\\u0430 \\u2015 \\u044d\\u0442\\u043e \\u043c\\u043e\\u0451 \\u0443\\u0431\\u0435\\u0436\\u0434\\u0435\\u043d\\u0438\\u0435, \\u0434\\u0430 \\u0438 \\u043d\\u0435 \\u0442\\u043e\\u043b\\u044c\\u043a\\u043e \\u043c\\u043e\\u0451.\"\n        ],\n        \"semantic_type\": \"\",\n        \"description\": \"\"\n      }\n    },\n    {\n      \"column\": \"1 level\",\n      \"properties\": {\n        \"dtype\": \"number\",\n        \"std\": 3,\n        \"min\": 0,\n        \"max\": 10,\n        \"num_unique_values\": 11,\n        \"samples\": [\n          2,\n          4,\n          8\n        ],\n        \"semantic_type\": \"\",\n        \"description\": \"\"\n      }\n    },\n    {\n      \"column\": \"conn\",\n      \"properties\": {\n        \"dtype\": \"number\",\n        \"std\": 0,\n        \"min\": 0,\n        \"max\": 2,\n        \"num_unique_values\": 3,\n        \"samples\": [\n          1,\n          2,\n          0\n        ],\n        \"semantic_type\": \"\",\n        \"description\": \"\"\n      }\n    },\n    {\n      \"column\": \"marked_text\",\n      \"properties\": {\n        \"dtype\": \"string\",\n        \"num_unique_values\": 4465,\n        \"samples\": [\n          \"\\u0435\\u0441\\u043b\\u0438 \\u0438 \\u043d\\u0430\\u0437\\u044b\\u0432\\u0430\\u044e\\u0442, \\u0442\\u043e \\u043a\\u0430\\u043a\\u0438\\u0445-\\u0442\\u043e \\u0431\\u043e\\u043b\\u0435\\u0435 \\u0430\\u0433\\u0440\\u0435\\u0441\\u0441\\u0438\\u0432\\u043d\\u044b\\u0445 [TGT]\\u043f\\u0430\\u0446\\u0430\\u043d\\u043e\\u0432[/TGT].<\\u2026\",\n          \"\\u0441 \\u043e\\u0434\\u043d\\u043e\\u0439 \\u0441\\u0442\\u043e\\u0440\\u043e\\u043d\\u044b \\u0432 \\u043a\\u0430\\u043a\\u0438\\u0445-\\u0442\\u043e \\u043a\\u043d\\u0438\\u0436\\u043e\\u043d\\u043a\\u0430\\u0445 \\u043c\\u043e\\u0436\\u043d\\u043e \\u0432\\u0441\\u0442\\u0440\\u0435\\u0442\\u0438\\u0442\\u044c \\u0446\\u0435\\u043b\\u044b\\u0435 \\u043e\\u0434\\u044b \\u043f\\u0438\\u0432\\u0443, \\u0437\\u0430\\u043a\\u0430\\u043d\\u0447\\u0438\\u0432\\u0430\\u044e\\u0449\\u0438\\u0435\\u0441\\u044f \\u0440\\u0435\\u043a\\u043e\\u043c\\u0435\\u043d\\u0434\\u0430\\u0446\\u0438\\u044f\\u043c\\u0438 \\u0443\\u043f\\u043e\\u0442\\u0440\\u0435\\u0431\\u043b\\u044f\\u0442\\u044c \\u043f\\u0438\\u0432\\u043e \\u0431\\u0435\\u0440\\u0435\\u043c\\u0435\\u043d\\u043d\\u044b\\u043c [TGT]\\u0436\\u0435\\u043d\\u0449\\u0438\\u043d\\u0430\\u043c[/TGT]\",\n          \"(\\u0441\\u0442\\u0430\\u043d\\u043e\\u0432\\u0438\\u0442\\u044c\\u0441\\u044f) give-gave-given [TGT]\\u0434\\u0435\\u0434[/TGT] \\u0435\\u043c\\u0443 (\\u0434\\u0430\\u0432\\u0430\\u0442\\u044c) \\u0434\\u043e\\u0440\\u043e\\u0433\\u0443\\u044e \\u0431\\u0430\\u0441\\u0442\\u0443\\u0440\\u043c\\u0443 \\u2014 \\u043d\\u0430\\u0434\\u043e \\u0436 \\u043f\\u0441\\u0438\\u043d\\u0443 feed-fed-fed (\\u043a\\u043e\\u0440\\u043c\\u0438\\u0442\\u044c) \\u0447\\u0435\\u043c-\\u0442\\u043e \\u0432\\u043a\\u0443\\u0441\\u043d\\u044b\\u043c \\u043d\\u0430 \\u043e\\u0431\\u0435\\u0434.\"\n        ],\n        \"semantic_type\": \"\",\n        \"description\": \"\"\n      }\n    }\n  ]\n}"
            }
          },
          "metadata": {},
          "execution_count": 9
        }
      ]
    },
    {
      "cell_type": "markdown",
      "source": [
        "Номера  классов второго уровння начинаются не с 0, поэтому перекодирую их в номера с 0 по 10. Получилось, что классы с первого по третий сохраняют свое обозначение, а остальные меняются в соответствии со словарем ниже"
      ],
      "metadata": {
        "id": "tt6-rIGgvT9T"
      }
    },
    {
      "cell_type": "markdown",
      "source": [
        "Пока сделаю самый простой вариант и попробую обучить на классах второго уровня, поэтому удаляю ненужные колонки"
      ],
      "metadata": {
        "id": "MO2hKIoTvuXC"
      }
    },
    {
      "cell_type": "code",
      "source": [
        "mixed_df = coded_result.drop(['Full context', 'conn'], axis=1)"
      ],
      "metadata": {
        "id": "8e6m02ZP7S1_",
        "collapsed": true
      },
      "execution_count": null,
      "outputs": []
    },
    {
      "cell_type": "code",
      "source": [
        "mixed_df"
      ],
      "metadata": {
        "colab": {
          "base_uri": "https://localhost:8080/",
          "height": 423
        },
        "id": "LkcpmOvD8F5i",
        "outputId": "b592f035-e8a1-4622-d55f-d204ee756520",
        "collapsed": true
      },
      "execution_count": null,
      "outputs": [
        {
          "output_type": "execute_result",
          "data": {
            "text/plain": [
              "      1 level                                        marked_text\n",
              "0           4  если бы не [TGT]деды[/TGT], мы бы не собиралис...\n",
              "1           9  кто начнет первый посылать [TGT]деда[/TGT]? я ...\n",
              "2           1  но этих [TGT]мужчин[/TGT] надо слушать, мне та...\n",
              "3          10  , даже очень порядочные и вовсе не корыстные [...\n",
              "4           7  я знаю, о чем говорю, так как был воспитан мат...\n",
              "...       ...                                                ...\n",
              "4463        7  мужиками, а не с теми безусыми [TGT]юнцами[/TG...\n",
              "4464       10  я бы даже, честно говоря, усомнилась, что [TGT...\n",
              "4465        2                  [TGT]чел[/TGT] сверху мой ребенок\n",
              "4466        3  эй [TGT]бро[/TGT], нас не испортить деньгами и...\n",
              "4467       10  желтый снег, когда проблем с деньгами нет, [TG...\n",
              "\n",
              "[4468 rows x 2 columns]"
            ],
            "text/html": [
              "\n",
              "  <div id=\"df-61fa975c-6696-4573-a315-1864d2ddd00b\" class=\"colab-df-container\">\n",
              "    <div>\n",
              "<style scoped>\n",
              "    .dataframe tbody tr th:only-of-type {\n",
              "        vertical-align: middle;\n",
              "    }\n",
              "\n",
              "    .dataframe tbody tr th {\n",
              "        vertical-align: top;\n",
              "    }\n",
              "\n",
              "    .dataframe thead th {\n",
              "        text-align: right;\n",
              "    }\n",
              "</style>\n",
              "<table border=\"1\" class=\"dataframe\">\n",
              "  <thead>\n",
              "    <tr style=\"text-align: right;\">\n",
              "      <th></th>\n",
              "      <th>1 level</th>\n",
              "      <th>marked_text</th>\n",
              "    </tr>\n",
              "  </thead>\n",
              "  <tbody>\n",
              "    <tr>\n",
              "      <th>0</th>\n",
              "      <td>4</td>\n",
              "      <td>если бы не [TGT]деды[/TGT], мы бы не собиралис...</td>\n",
              "    </tr>\n",
              "    <tr>\n",
              "      <th>1</th>\n",
              "      <td>9</td>\n",
              "      <td>кто начнет первый посылать [TGT]деда[/TGT]? я ...</td>\n",
              "    </tr>\n",
              "    <tr>\n",
              "      <th>2</th>\n",
              "      <td>1</td>\n",
              "      <td>но этих [TGT]мужчин[/TGT] надо слушать, мне та...</td>\n",
              "    </tr>\n",
              "    <tr>\n",
              "      <th>3</th>\n",
              "      <td>10</td>\n",
              "      <td>, даже очень порядочные и вовсе не корыстные [...</td>\n",
              "    </tr>\n",
              "    <tr>\n",
              "      <th>4</th>\n",
              "      <td>7</td>\n",
              "      <td>я знаю, о чем говорю, так как был воспитан мат...</td>\n",
              "    </tr>\n",
              "    <tr>\n",
              "      <th>...</th>\n",
              "      <td>...</td>\n",
              "      <td>...</td>\n",
              "    </tr>\n",
              "    <tr>\n",
              "      <th>4463</th>\n",
              "      <td>7</td>\n",
              "      <td>мужиками, а не с теми безусыми [TGT]юнцами[/TG...</td>\n",
              "    </tr>\n",
              "    <tr>\n",
              "      <th>4464</th>\n",
              "      <td>10</td>\n",
              "      <td>я бы даже, честно говоря, усомнилась, что [TGT...</td>\n",
              "    </tr>\n",
              "    <tr>\n",
              "      <th>4465</th>\n",
              "      <td>2</td>\n",
              "      <td>[TGT]чел[/TGT] сверху мой ребенок</td>\n",
              "    </tr>\n",
              "    <tr>\n",
              "      <th>4466</th>\n",
              "      <td>3</td>\n",
              "      <td>эй [TGT]бро[/TGT], нас не испортить деньгами и...</td>\n",
              "    </tr>\n",
              "    <tr>\n",
              "      <th>4467</th>\n",
              "      <td>10</td>\n",
              "      <td>желтый снег, когда проблем с деньгами нет, [TG...</td>\n",
              "    </tr>\n",
              "  </tbody>\n",
              "</table>\n",
              "<p>4468 rows × 2 columns</p>\n",
              "</div>\n",
              "    <div class=\"colab-df-buttons\">\n",
              "\n",
              "  <div class=\"colab-df-container\">\n",
              "    <button class=\"colab-df-convert\" onclick=\"convertToInteractive('df-61fa975c-6696-4573-a315-1864d2ddd00b')\"\n",
              "            title=\"Convert this dataframe to an interactive table.\"\n",
              "            style=\"display:none;\">\n",
              "\n",
              "  <svg xmlns=\"http://www.w3.org/2000/svg\" height=\"24px\" viewBox=\"0 -960 960 960\">\n",
              "    <path d=\"M120-120v-720h720v720H120Zm60-500h600v-160H180v160Zm220 220h160v-160H400v160Zm0 220h160v-160H400v160ZM180-400h160v-160H180v160Zm440 0h160v-160H620v160ZM180-180h160v-160H180v160Zm440 0h160v-160H620v160Z\"/>\n",
              "  </svg>\n",
              "    </button>\n",
              "\n",
              "  <style>\n",
              "    .colab-df-container {\n",
              "      display:flex;\n",
              "      gap: 12px;\n",
              "    }\n",
              "\n",
              "    .colab-df-convert {\n",
              "      background-color: #E8F0FE;\n",
              "      border: none;\n",
              "      border-radius: 50%;\n",
              "      cursor: pointer;\n",
              "      display: none;\n",
              "      fill: #1967D2;\n",
              "      height: 32px;\n",
              "      padding: 0 0 0 0;\n",
              "      width: 32px;\n",
              "    }\n",
              "\n",
              "    .colab-df-convert:hover {\n",
              "      background-color: #E2EBFA;\n",
              "      box-shadow: 0px 1px 2px rgba(60, 64, 67, 0.3), 0px 1px 3px 1px rgba(60, 64, 67, 0.15);\n",
              "      fill: #174EA6;\n",
              "    }\n",
              "\n",
              "    .colab-df-buttons div {\n",
              "      margin-bottom: 4px;\n",
              "    }\n",
              "\n",
              "    [theme=dark] .colab-df-convert {\n",
              "      background-color: #3B4455;\n",
              "      fill: #D2E3FC;\n",
              "    }\n",
              "\n",
              "    [theme=dark] .colab-df-convert:hover {\n",
              "      background-color: #434B5C;\n",
              "      box-shadow: 0px 1px 3px 1px rgba(0, 0, 0, 0.15);\n",
              "      filter: drop-shadow(0px 1px 2px rgba(0, 0, 0, 0.3));\n",
              "      fill: #FFFFFF;\n",
              "    }\n",
              "  </style>\n",
              "\n",
              "    <script>\n",
              "      const buttonEl =\n",
              "        document.querySelector('#df-61fa975c-6696-4573-a315-1864d2ddd00b button.colab-df-convert');\n",
              "      buttonEl.style.display =\n",
              "        google.colab.kernel.accessAllowed ? 'block' : 'none';\n",
              "\n",
              "      async function convertToInteractive(key) {\n",
              "        const element = document.querySelector('#df-61fa975c-6696-4573-a315-1864d2ddd00b');\n",
              "        const dataTable =\n",
              "          await google.colab.kernel.invokeFunction('convertToInteractive',\n",
              "                                                    [key], {});\n",
              "        if (!dataTable) return;\n",
              "\n",
              "        const docLinkHtml = 'Like what you see? Visit the ' +\n",
              "          '<a target=\"_blank\" href=https://colab.research.google.com/notebooks/data_table.ipynb>data table notebook</a>'\n",
              "          + ' to learn more about interactive tables.';\n",
              "        element.innerHTML = '';\n",
              "        dataTable['output_type'] = 'display_data';\n",
              "        await google.colab.output.renderOutput(dataTable, element);\n",
              "        const docLink = document.createElement('div');\n",
              "        docLink.innerHTML = docLinkHtml;\n",
              "        element.appendChild(docLink);\n",
              "      }\n",
              "    </script>\n",
              "  </div>\n",
              "\n",
              "\n",
              "    <div id=\"df-9aaa59e2-4517-4aba-b16b-ca891d26ff3c\">\n",
              "      <button class=\"colab-df-quickchart\" onclick=\"quickchart('df-9aaa59e2-4517-4aba-b16b-ca891d26ff3c')\"\n",
              "                title=\"Suggest charts\"\n",
              "                style=\"display:none;\">\n",
              "\n",
              "<svg xmlns=\"http://www.w3.org/2000/svg\" height=\"24px\"viewBox=\"0 0 24 24\"\n",
              "     width=\"24px\">\n",
              "    <g>\n",
              "        <path d=\"M19 3H5c-1.1 0-2 .9-2 2v14c0 1.1.9 2 2 2h14c1.1 0 2-.9 2-2V5c0-1.1-.9-2-2-2zM9 17H7v-7h2v7zm4 0h-2V7h2v10zm4 0h-2v-4h2v4z\"/>\n",
              "    </g>\n",
              "</svg>\n",
              "      </button>\n",
              "\n",
              "<style>\n",
              "  .colab-df-quickchart {\n",
              "      --bg-color: #E8F0FE;\n",
              "      --fill-color: #1967D2;\n",
              "      --hover-bg-color: #E2EBFA;\n",
              "      --hover-fill-color: #174EA6;\n",
              "      --disabled-fill-color: #AAA;\n",
              "      --disabled-bg-color: #DDD;\n",
              "  }\n",
              "\n",
              "  [theme=dark] .colab-df-quickchart {\n",
              "      --bg-color: #3B4455;\n",
              "      --fill-color: #D2E3FC;\n",
              "      --hover-bg-color: #434B5C;\n",
              "      --hover-fill-color: #FFFFFF;\n",
              "      --disabled-bg-color: #3B4455;\n",
              "      --disabled-fill-color: #666;\n",
              "  }\n",
              "\n",
              "  .colab-df-quickchart {\n",
              "    background-color: var(--bg-color);\n",
              "    border: none;\n",
              "    border-radius: 50%;\n",
              "    cursor: pointer;\n",
              "    display: none;\n",
              "    fill: var(--fill-color);\n",
              "    height: 32px;\n",
              "    padding: 0;\n",
              "    width: 32px;\n",
              "  }\n",
              "\n",
              "  .colab-df-quickchart:hover {\n",
              "    background-color: var(--hover-bg-color);\n",
              "    box-shadow: 0 1px 2px rgba(60, 64, 67, 0.3), 0 1px 3px 1px rgba(60, 64, 67, 0.15);\n",
              "    fill: var(--button-hover-fill-color);\n",
              "  }\n",
              "\n",
              "  .colab-df-quickchart-complete:disabled,\n",
              "  .colab-df-quickchart-complete:disabled:hover {\n",
              "    background-color: var(--disabled-bg-color);\n",
              "    fill: var(--disabled-fill-color);\n",
              "    box-shadow: none;\n",
              "  }\n",
              "\n",
              "  .colab-df-spinner {\n",
              "    border: 2px solid var(--fill-color);\n",
              "    border-color: transparent;\n",
              "    border-bottom-color: var(--fill-color);\n",
              "    animation:\n",
              "      spin 1s steps(1) infinite;\n",
              "  }\n",
              "\n",
              "  @keyframes spin {\n",
              "    0% {\n",
              "      border-color: transparent;\n",
              "      border-bottom-color: var(--fill-color);\n",
              "      border-left-color: var(--fill-color);\n",
              "    }\n",
              "    20% {\n",
              "      border-color: transparent;\n",
              "      border-left-color: var(--fill-color);\n",
              "      border-top-color: var(--fill-color);\n",
              "    }\n",
              "    30% {\n",
              "      border-color: transparent;\n",
              "      border-left-color: var(--fill-color);\n",
              "      border-top-color: var(--fill-color);\n",
              "      border-right-color: var(--fill-color);\n",
              "    }\n",
              "    40% {\n",
              "      border-color: transparent;\n",
              "      border-right-color: var(--fill-color);\n",
              "      border-top-color: var(--fill-color);\n",
              "    }\n",
              "    60% {\n",
              "      border-color: transparent;\n",
              "      border-right-color: var(--fill-color);\n",
              "    }\n",
              "    80% {\n",
              "      border-color: transparent;\n",
              "      border-right-color: var(--fill-color);\n",
              "      border-bottom-color: var(--fill-color);\n",
              "    }\n",
              "    90% {\n",
              "      border-color: transparent;\n",
              "      border-bottom-color: var(--fill-color);\n",
              "    }\n",
              "  }\n",
              "</style>\n",
              "\n",
              "      <script>\n",
              "        async function quickchart(key) {\n",
              "          const quickchartButtonEl =\n",
              "            document.querySelector('#' + key + ' button');\n",
              "          quickchartButtonEl.disabled = true;  // To prevent multiple clicks.\n",
              "          quickchartButtonEl.classList.add('colab-df-spinner');\n",
              "          try {\n",
              "            const charts = await google.colab.kernel.invokeFunction(\n",
              "                'suggestCharts', [key], {});\n",
              "          } catch (error) {\n",
              "            console.error('Error during call to suggestCharts:', error);\n",
              "          }\n",
              "          quickchartButtonEl.classList.remove('colab-df-spinner');\n",
              "          quickchartButtonEl.classList.add('colab-df-quickchart-complete');\n",
              "        }\n",
              "        (() => {\n",
              "          let quickchartButtonEl =\n",
              "            document.querySelector('#df-9aaa59e2-4517-4aba-b16b-ca891d26ff3c button');\n",
              "          quickchartButtonEl.style.display =\n",
              "            google.colab.kernel.accessAllowed ? 'block' : 'none';\n",
              "        })();\n",
              "      </script>\n",
              "    </div>\n",
              "    </div>\n",
              "  </div>\n"
            ],
            "application/vnd.google.colaboratory.intrinsic+json": {
              "type": "dataframe",
              "variable_name": "mixed_df",
              "summary": "{\n  \"name\": \"mixed_df\",\n  \"rows\": 4468,\n  \"fields\": [\n    {\n      \"column\": \"1 level\",\n      \"properties\": {\n        \"dtype\": \"number\",\n        \"std\": 3,\n        \"min\": 0,\n        \"max\": 10,\n        \"num_unique_values\": 11,\n        \"samples\": [\n          2,\n          4,\n          8\n        ],\n        \"semantic_type\": \"\",\n        \"description\": \"\"\n      }\n    },\n    {\n      \"column\": \"marked_text\",\n      \"properties\": {\n        \"dtype\": \"string\",\n        \"num_unique_values\": 4465,\n        \"samples\": [\n          \"\\u0435\\u0441\\u043b\\u0438 \\u0438 \\u043d\\u0430\\u0437\\u044b\\u0432\\u0430\\u044e\\u0442, \\u0442\\u043e \\u043a\\u0430\\u043a\\u0438\\u0445-\\u0442\\u043e \\u0431\\u043e\\u043b\\u0435\\u0435 \\u0430\\u0433\\u0440\\u0435\\u0441\\u0441\\u0438\\u0432\\u043d\\u044b\\u0445 [TGT]\\u043f\\u0430\\u0446\\u0430\\u043d\\u043e\\u0432[/TGT].<\\u2026\",\n          \"\\u0441 \\u043e\\u0434\\u043d\\u043e\\u0439 \\u0441\\u0442\\u043e\\u0440\\u043e\\u043d\\u044b \\u0432 \\u043a\\u0430\\u043a\\u0438\\u0445-\\u0442\\u043e \\u043a\\u043d\\u0438\\u0436\\u043e\\u043d\\u043a\\u0430\\u0445 \\u043c\\u043e\\u0436\\u043d\\u043e \\u0432\\u0441\\u0442\\u0440\\u0435\\u0442\\u0438\\u0442\\u044c \\u0446\\u0435\\u043b\\u044b\\u0435 \\u043e\\u0434\\u044b \\u043f\\u0438\\u0432\\u0443, \\u0437\\u0430\\u043a\\u0430\\u043d\\u0447\\u0438\\u0432\\u0430\\u044e\\u0449\\u0438\\u0435\\u0441\\u044f \\u0440\\u0435\\u043a\\u043e\\u043c\\u0435\\u043d\\u0434\\u0430\\u0446\\u0438\\u044f\\u043c\\u0438 \\u0443\\u043f\\u043e\\u0442\\u0440\\u0435\\u0431\\u043b\\u044f\\u0442\\u044c \\u043f\\u0438\\u0432\\u043e \\u0431\\u0435\\u0440\\u0435\\u043c\\u0435\\u043d\\u043d\\u044b\\u043c [TGT]\\u0436\\u0435\\u043d\\u0449\\u0438\\u043d\\u0430\\u043c[/TGT]\",\n          \"(\\u0441\\u0442\\u0430\\u043d\\u043e\\u0432\\u0438\\u0442\\u044c\\u0441\\u044f) give-gave-given [TGT]\\u0434\\u0435\\u0434[/TGT] \\u0435\\u043c\\u0443 (\\u0434\\u0430\\u0432\\u0430\\u0442\\u044c) \\u0434\\u043e\\u0440\\u043e\\u0433\\u0443\\u044e \\u0431\\u0430\\u0441\\u0442\\u0443\\u0440\\u043c\\u0443 \\u2014 \\u043d\\u0430\\u0434\\u043e \\u0436 \\u043f\\u0441\\u0438\\u043d\\u0443 feed-fed-fed (\\u043a\\u043e\\u0440\\u043c\\u0438\\u0442\\u044c) \\u0447\\u0435\\u043c-\\u0442\\u043e \\u0432\\u043a\\u0443\\u0441\\u043d\\u044b\\u043c \\u043d\\u0430 \\u043e\\u0431\\u0435\\u0434.\"\n        ],\n        \"semantic_type\": \"\",\n        \"description\": \"\"\n      }\n    }\n  ]\n}"
            }
          },
          "metadata": {},
          "execution_count": 11
        }
      ]
    },
    {
      "cell_type": "code",
      "source": [
        "def tokenize(data, tokenizer):\n",
        "    return tokenizer(\n",
        "        data[\"text\"],\n",
        "        padding=\"max_length\",\n",
        "        truncation=True,\n",
        "        max_length=120\n",
        "    )"
      ],
      "metadata": {
        "id": "u-waOzx62cZa"
      },
      "execution_count": null,
      "outputs": []
    },
    {
      "cell_type": "code",
      "source": [
        "def compute_metrics(eval_pred):\n",
        "    accuracy_metric = load(\"accuracy\")\n",
        "    precision_metric = load(\"precision\")\n",
        "    recall_metric = load(\"recall\")\n",
        "    f1_metric = load(\"f1\")\n",
        "\n",
        "    logits, labels = eval_pred\n",
        "    predictions = np.argmax(logits, axis=-1)\n",
        "    calculated_metric = {}\n",
        "    #отдельно вычисляю accuracy, т.к. для нее average не предусмотрен\n",
        "    calculated_metric.update(accuracy_metric.compute(predictions=predictions,\n",
        "                                                     references=labels))\n",
        "\n",
        "    for metric in [precision_metric, recall_metric, f1_metric]:\n",
        "      calculated_metric.update(metric.compute(predictions=predictions,\n",
        "                                              references=labels,\n",
        "                                              average=\"weighted\"))  #при дисбалансе классов\n",
        "    #метрики для каждого класса\n",
        "    unique_labels = np.unique(labels)\n",
        "    if len(unique_labels) > 2:\n",
        "        for label in unique_labels:\n",
        "             calculated_metric.update({\n",
        "                f\"precision_class_{label}\": precision_score(\n",
        "                    labels, predictions, average=None)[label],\n",
        "                f\"recall_class_{label}\": recall_score(\n",
        "                    labels, predictions, average=None)[label],\n",
        "                f\"f1_class_{label}\": f1_score(\n",
        "                    labels, predictions, average=None)[label]\n",
        "            })\n",
        "    return calculated_metric\n"
      ],
      "metadata": {
        "id": "zXxTwCf74o73"
      },
      "execution_count": null,
      "outputs": []
    },
    {
      "cell_type": "markdown",
      "source": [
        "# Предсказание значений"
      ],
      "metadata": {
        "id": "Z8brWtDOv4lz"
      }
    },
    {
      "cell_type": "code",
      "source": [
        "num_labels =  len(set(mixed_df[\"1 level\"]))\n",
        "num_labels"
      ],
      "metadata": {
        "colab": {
          "base_uri": "https://localhost:8080/"
        },
        "id": "_q79Byx8y2zv",
        "outputId": "725c8bef-3d48-41c0-a18a-55480e606eb3"
      },
      "execution_count": null,
      "outputs": [
        {
          "output_type": "execute_result",
          "data": {
            "text/plain": [
              "11"
            ]
          },
          "metadata": {},
          "execution_count": 13
        }
      ]
    },
    {
      "cell_type": "code",
      "source": [
        "model_name = \"DeepPavlov/rubert-base-cased-conversational\"\n",
        "tokenizer = AutoTokenizer.from_pretrained(model_name)\n",
        "model = AutoModelForSequenceClassification.from_pretrained(\n",
        "    model_name,\n",
        "    num_labels=num_labels,\n",
        "    problem_type=\"single_label_classification\")"
      ],
      "metadata": {
        "id": "ettVU5U2NTfd",
        "collapsed": true
      },
      "execution_count": null,
      "outputs": []
    },
    {
      "cell_type": "markdown",
      "source": [
        "Так как датасет у меня небольшой, в качестве обучающей выборки возьму 0.7 от всего датасета, а на  валидационную и тестовую уйдет по 0.15 датасета"
      ],
      "metadata": {
        "id": "DR0tiL3mv-iZ"
      }
    },
    {
      "cell_type": "code",
      "source": [
        "def split_data():\n",
        "  X_train, X,  y_train, y = train_test_split(mixed_df['marked_text'],\n",
        "                                                  mixed_df['1 level'],   #столбец, значения в котором хотим  предсказать\n",
        "                                                  test_size = 0.3,  #доля тестовой выборки от общего числа данных\n",
        "                                                  random_state = 42,\n",
        "                                                  stratify = mixed_df['1 level'])  #столбец,  по которому стратифицируем данные\n",
        "\n",
        "  X_test, X_val, y_test, y_val = train_test_split(X, y,\n",
        "                                                test_size = 0.5,\n",
        "                                                random_state = 42,\n",
        "                                                stratify=y)\n",
        "  return (\n",
        "        Dataset.from_dict({\"text\": X_train.tolist(), \"labels\": y_train.tolist()}),\n",
        "        Dataset.from_dict({\"text\": X_val.tolist(), \"labels\": y_val.tolist()}),\n",
        "        Dataset.from_dict({\"text\": X_test.tolist(), \"labels\": y_test.tolist()})\n",
        "    )"
      ],
      "metadata": {
        "id": "q45fWKaTNWNI"
      },
      "execution_count": null,
      "outputs": []
    },
    {
      "cell_type": "markdown",
      "source": [
        "Ниже два мейна, которые я запускала с разными гиперпараметрами. Рабочий - первый, результатов второго я не дождалась, так как файнтюнинг, похоже, длился бы 3 часа или больше"
      ],
      "metadata": {
        "id": "14BvMkAswvQv"
      }
    },
    {
      "cell_type": "code",
      "source": [
        "def main():\n",
        "  X_train, X_val, X_test = split_data()\n",
        "  tokenized_train = X_train.map(\n",
        "        lambda x: tokenize(x, tokenizer),\n",
        "        batched=True)\n",
        "\n",
        "  tokenized_val = X_val.map(\n",
        "        lambda x: tokenize(x, tokenizer),\n",
        "        batched=True)\n",
        "\n",
        "\n",
        "  tokenized_test = X_test.map(\n",
        "        lambda x: tokenize(x, tokenizer),\n",
        "        batched=True)\n",
        "\n",
        "  training_args = TrainingArguments(\n",
        "    output_dir=\"./results\",\n",
        "    per_device_train_batch_size=32,\n",
        "    learning_rate=5e-5,\n",
        "    num_train_epochs=3,\n",
        "    save_strategy=\"no\",\n",
        "    logging_steps=50)\n",
        "\n",
        "  trainer = Trainer(\n",
        "        model=model,\n",
        "        args=training_args,\n",
        "        train_dataset=tokenized_train,\n",
        "        eval_dataset=tokenized_val,\n",
        "        compute_metrics=compute_metrics,)\n",
        "\n",
        "  print(\"происходит файнтюнинг\")\n",
        "  trainer.train()\n",
        "\n",
        "  print(\"результаты на валидационной выборке\")\n",
        "  val_results = trainer.evaluate()\n",
        "  for key, value in val_results.items():\n",
        "      if key.startswith('eval_'):\n",
        "          print(f\"{key[5:]}: {value:.4f}\")\n",
        "\n",
        "\n",
        "\n",
        "  model.save_pretrained(\"./fine_tuned_model\")\n",
        "  tokenizer.save_pretrained(\"./fine_tuned_model\")\n",
        "  print(\"Модель сохранена в fine_tuned_model/\")\n",
        "\n",
        "\n",
        "if __name__ == \"__main__\":\n",
        "    main()"
      ],
      "metadata": {
        "colab": {
          "base_uri": "https://localhost:8080/",
          "height": 1000,
          "referenced_widgets": [
            "26774ce360ac4d1b8e25cb7da795e2d7",
            "531bdb3d112f424281497c70d14a7803",
            "bd53f443b98142c598a33649e5ff0afe",
            "a2982671f878406c88a2d7e13d86afcb",
            "b54ce1b4c8ee4933af56db45eceb6d6d",
            "3a4d52468ae34cec8b8d4a8f9d37f2ec",
            "7769cfc6bae146d6950928c6ed83921a",
            "3fc034cf863b4a09a24170835da80605",
            "ec11734621e245ae92fae6e50aa7e303",
            "fbcc1fd3b36d4cd2b3e07b6dc132ac94",
            "98b5c2b7339d4cceb66b285baf8d4f05",
            "3a93153bbc5a4d1abcb2274ab39241ad",
            "35cd68c6ded1402689a7aecbbb4f4293",
            "6f413691c3fd4e24a08d9970b6cbbd3b",
            "8a5ab9e3433f49f3b1c9d291ea409886",
            "155ced7b75f446feb1d067bd0b737533",
            "8d5fb481e1954a36a5308c5259d5fe0d",
            "2bcf24f2849e4728ad4da6fa3cb2646a",
            "18ade527b55648b48c8cb9411fd1f2bc",
            "969f69095684444a8821db96b871acce",
            "602c12d59e6a4d6c873748b078f4002d",
            "2a627458630d421ea78c638f1bb74b23",
            "9fcd87b47ec04ebb8fbb16af0a23c9e6",
            "03908fa3784a46f2afa2c374f80565f2",
            "60ce6324c603430cb452db49424ff7dc",
            "b3d74e2f8a644238bfb6dc50b49d7c68",
            "7a5986f2c3fd40d2b94e4be47e6ea6a1",
            "6d97052396884e9aa6dc78c29d31ce27",
            "e684e81ac53541c1bc71659afe2abca5",
            "5b88e615f49a42f58071e9260a688e9b",
            "bf196e4a327942db9e2b7c8b45a37347",
            "b7015613f4d04231abd1b07d9bbcfa3b",
            "cd33aded051a4ce3a2e9a443f2eff2f1",
            "f82bc08095604e9c946c5466ab38281c",
            "c003803b783147e390c1225fe8ffae09",
            "28e51a98e88b4354afdc759a5553a355",
            "973864cd15e0439db842e4a813f07e03",
            "f4ceee1e34d84ee1b8617a568fa35466",
            "0312255fcbf9404cbd1f5cfb3a7712f9",
            "a9b352d9edad4750b2ad7e62bbb5a3ca",
            "5bba3e3c0e494623b5290c150ba350d8",
            "83c94e3d536f401697cc3f7d63b30034",
            "0182ad92c0544cebb0937881874dfb94",
            "7ae8e2889f3c4f2fb674d12fb486ea5d",
            "b165fdcd39b74219987e4e844a02bca6",
            "29a5ecf848ce4d25847b78bbd68573d5",
            "48cca7293a2a4970b79246fc09035b81",
            "229226542df84f26ad03b6071e71296d",
            "e832e00347794f85ab4a4b9e336ebb2e",
            "c8f8e440562d41968a68f0dac19ef2a1",
            "137bbb93e33046cb9363ff2eb8b2044d",
            "363b37bd2b444a78a01b5aa140eed199",
            "481101584b6446b8ad1df39c5b9103a7",
            "45907c99c8eb4b0ab2a6eec43cf9f48a",
            "b1da20031155407494bf56b7d37c647a",
            "1199269a34b646b9973ef9fd727716a5",
            "426989dce0ac42629b01d1eaa36f3599",
            "1de67e3927a2466295adcc440e9858eb",
            "9c2b0fe35d0b4fb9b0c2673960922c1b",
            "a84dcabfd76c4e50b648f5205df29038",
            "99cd19786b254555a01b5b9ce08e0e44",
            "39e6d1fc6624455cbd8a0d80e2adad4e",
            "684d80c758fd4a6e8aec7607d17736c3",
            "371ee08149664c95bbc4669ca7a346cc",
            "479e0ed639664511846e2f08a663b0a5",
            "eb076313811e471f8523e6f2122b9bdc",
            "9b83247752cc43299e0f363dd07c87fa",
            "9a25bc738aa94e61bb750fa61a0f5fc7",
            "403901caafd04d3d89e7a1dae188ea1f",
            "f41807dcc5864280827d5beda876c57e",
            "058fef5bb6b6460db6d9d87d9597abe7",
            "bf7fd05bf1e245d38855c43d1315fe2a",
            "08b5886fbf4646c3bf9f6c6cb3bce58c",
            "030a9d6037d44754b2a65695ccb860f6",
            "fbdf7cde69ee42ae818cc0b3204402af",
            "266201071b194cafa402a4984a42fa1b",
            "9dd5698182a84f2ba80a75080e80465d"
          ]
        },
        "outputId": "2ecc8571-6879-49ae-ae9e-df74dabb5083",
        "collapsed": true,
        "id": "zG5qvGFvTTz9"
      },
      "execution_count": null,
      "outputs": [
        {
          "output_type": "display_data",
          "data": {
            "text/plain": [
              "Map:   0%|          | 0/3127 [00:00<?, ? examples/s]"
            ],
            "application/vnd.jupyter.widget-view+json": {
              "version_major": 2,
              "version_minor": 0,
              "model_id": "26774ce360ac4d1b8e25cb7da795e2d7"
            }
          },
          "metadata": {}
        },
        {
          "output_type": "display_data",
          "data": {
            "text/plain": [
              "Map:   0%|          | 0/671 [00:00<?, ? examples/s]"
            ],
            "application/vnd.jupyter.widget-view+json": {
              "version_major": 2,
              "version_minor": 0,
              "model_id": "3a93153bbc5a4d1abcb2274ab39241ad"
            }
          },
          "metadata": {}
        },
        {
          "output_type": "display_data",
          "data": {
            "text/plain": [
              "Map:   0%|          | 0/670 [00:00<?, ? examples/s]"
            ],
            "application/vnd.jupyter.widget-view+json": {
              "version_major": 2,
              "version_minor": 0,
              "model_id": "9fcd87b47ec04ebb8fbb16af0a23c9e6"
            }
          },
          "metadata": {}
        },
        {
          "output_type": "stream",
          "name": "stdout",
          "text": [
            "происходит файнтюнинг\n"
          ]
        },
        {
          "output_type": "display_data",
          "data": {
            "text/plain": [
              "<IPython.core.display.HTML object>"
            ],
            "text/html": [
              "\n",
              "    <div>\n",
              "      \n",
              "      <progress value='294' max='294' style='width:300px; height:20px; vertical-align: middle;'></progress>\n",
              "      [294/294 3:37:05, Epoch 3/3]\n",
              "    </div>\n",
              "    <table border=\"1\" class=\"dataframe\">\n",
              "  <thead>\n",
              " <tr style=\"text-align: left;\">\n",
              "      <th>Step</th>\n",
              "      <th>Training Loss</th>\n",
              "    </tr>\n",
              "  </thead>\n",
              "  <tbody>\n",
              "    <tr>\n",
              "      <td>50</td>\n",
              "      <td>1.654600</td>\n",
              "    </tr>\n",
              "    <tr>\n",
              "      <td>100</td>\n",
              "      <td>0.894100</td>\n",
              "    </tr>\n",
              "    <tr>\n",
              "      <td>150</td>\n",
              "      <td>0.616000</td>\n",
              "    </tr>\n",
              "    <tr>\n",
              "      <td>200</td>\n",
              "      <td>0.541900</td>\n",
              "    </tr>\n",
              "    <tr>\n",
              "      <td>250</td>\n",
              "      <td>0.361200</td>\n",
              "    </tr>\n",
              "  </tbody>\n",
              "</table><p>"
            ]
          },
          "metadata": {}
        },
        {
          "output_type": "stream",
          "name": "stdout",
          "text": [
            "результаты на валидационной выборке\n"
          ]
        },
        {
          "output_type": "display_data",
          "data": {
            "text/plain": [
              "<IPython.core.display.HTML object>"
            ],
            "text/html": [
              "\n",
              "    <div>\n",
              "      \n",
              "      <progress value='84' max='84' style='width:300px; height:20px; vertical-align: middle;'></progress>\n",
              "      [84/84 04:51]\n",
              "    </div>\n",
              "    "
            ]
          },
          "metadata": {}
        },
        {
          "output_type": "display_data",
          "data": {
            "text/plain": [
              "Downloading builder script:   0%|          | 0.00/4.20k [00:00<?, ?B/s]"
            ],
            "application/vnd.jupyter.widget-view+json": {
              "version_major": 2,
              "version_minor": 0,
              "model_id": "f82bc08095604e9c946c5466ab38281c"
            }
          },
          "metadata": {}
        },
        {
          "output_type": "display_data",
          "data": {
            "text/plain": [
              "Downloading builder script:   0%|          | 0.00/7.56k [00:00<?, ?B/s]"
            ],
            "application/vnd.jupyter.widget-view+json": {
              "version_major": 2,
              "version_minor": 0,
              "model_id": "b165fdcd39b74219987e4e844a02bca6"
            }
          },
          "metadata": {}
        },
        {
          "output_type": "display_data",
          "data": {
            "text/plain": [
              "Downloading builder script:   0%|          | 0.00/7.38k [00:00<?, ?B/s]"
            ],
            "application/vnd.jupyter.widget-view+json": {
              "version_major": 2,
              "version_minor": 0,
              "model_id": "1199269a34b646b9973ef9fd727716a5"
            }
          },
          "metadata": {}
        },
        {
          "output_type": "display_data",
          "data": {
            "text/plain": [
              "Downloading builder script:   0%|          | 0.00/6.79k [00:00<?, ?B/s]"
            ],
            "application/vnd.jupyter.widget-view+json": {
              "version_major": 2,
              "version_minor": 0,
              "model_id": "9b83247752cc43299e0f363dd07c87fa"
            }
          },
          "metadata": {}
        },
        {
          "output_type": "stream",
          "name": "stderr",
          "text": [
            "/usr/local/lib/python3.11/dist-packages/sklearn/metrics/_classification.py:1565: UndefinedMetricWarning: Precision is ill-defined and being set to 0.0 in labels with no predicted samples. Use `zero_division` parameter to control this behavior.\n",
            "  _warn_prf(average, modifier, f\"{metric.capitalize()} is\", len(result))\n",
            "/usr/local/lib/python3.11/dist-packages/sklearn/metrics/_classification.py:1565: UndefinedMetricWarning: Precision is ill-defined and being set to 0.0 in labels with no predicted samples. Use `zero_division` parameter to control this behavior.\n",
            "  _warn_prf(average, modifier, f\"{metric.capitalize()} is\", len(result))\n",
            "/usr/local/lib/python3.11/dist-packages/sklearn/metrics/_classification.py:1565: UndefinedMetricWarning: Precision is ill-defined and being set to 0.0 in labels with no predicted samples. Use `zero_division` parameter to control this behavior.\n",
            "  _warn_prf(average, modifier, f\"{metric.capitalize()} is\", len(result))\n",
            "/usr/local/lib/python3.11/dist-packages/sklearn/metrics/_classification.py:1565: UndefinedMetricWarning: Precision is ill-defined and being set to 0.0 in labels with no predicted samples. Use `zero_division` parameter to control this behavior.\n",
            "  _warn_prf(average, modifier, f\"{metric.capitalize()} is\", len(result))\n",
            "/usr/local/lib/python3.11/dist-packages/sklearn/metrics/_classification.py:1565: UndefinedMetricWarning: Precision is ill-defined and being set to 0.0 in labels with no predicted samples. Use `zero_division` parameter to control this behavior.\n",
            "  _warn_prf(average, modifier, f\"{metric.capitalize()} is\", len(result))\n",
            "/usr/local/lib/python3.11/dist-packages/sklearn/metrics/_classification.py:1565: UndefinedMetricWarning: Precision is ill-defined and being set to 0.0 in labels with no predicted samples. Use `zero_division` parameter to control this behavior.\n",
            "  _warn_prf(average, modifier, f\"{metric.capitalize()} is\", len(result))\n",
            "/usr/local/lib/python3.11/dist-packages/sklearn/metrics/_classification.py:1565: UndefinedMetricWarning: Precision is ill-defined and being set to 0.0 in labels with no predicted samples. Use `zero_division` parameter to control this behavior.\n",
            "  _warn_prf(average, modifier, f\"{metric.capitalize()} is\", len(result))\n",
            "/usr/local/lib/python3.11/dist-packages/sklearn/metrics/_classification.py:1565: UndefinedMetricWarning: Precision is ill-defined and being set to 0.0 in labels with no predicted samples. Use `zero_division` parameter to control this behavior.\n",
            "  _warn_prf(average, modifier, f\"{metric.capitalize()} is\", len(result))\n",
            "/usr/local/lib/python3.11/dist-packages/sklearn/metrics/_classification.py:1565: UndefinedMetricWarning: Precision is ill-defined and being set to 0.0 in labels with no predicted samples. Use `zero_division` parameter to control this behavior.\n",
            "  _warn_prf(average, modifier, f\"{metric.capitalize()} is\", len(result))\n",
            "/usr/local/lib/python3.11/dist-packages/sklearn/metrics/_classification.py:1565: UndefinedMetricWarning: Precision is ill-defined and being set to 0.0 in labels with no predicted samples. Use `zero_division` parameter to control this behavior.\n",
            "  _warn_prf(average, modifier, f\"{metric.capitalize()} is\", len(result))\n",
            "/usr/local/lib/python3.11/dist-packages/sklearn/metrics/_classification.py:1565: UndefinedMetricWarning: Precision is ill-defined and being set to 0.0 in labels with no predicted samples. Use `zero_division` parameter to control this behavior.\n",
            "  _warn_prf(average, modifier, f\"{metric.capitalize()} is\", len(result))\n",
            "/usr/local/lib/python3.11/dist-packages/sklearn/metrics/_classification.py:1565: UndefinedMetricWarning: Precision is ill-defined and being set to 0.0 in labels with no predicted samples. Use `zero_division` parameter to control this behavior.\n",
            "  _warn_prf(average, modifier, f\"{metric.capitalize()} is\", len(result))\n"
          ]
        },
        {
          "output_type": "stream",
          "name": "stdout",
          "text": [
            "loss: 0.5247\n",
            "accuracy: 0.8465\n",
            "precision: 0.8347\n",
            "recall: 0.8465\n",
            "f1: 0.8335\n",
            "precision_class_0: 0.0000\n",
            "recall_class_0: 0.0000\n",
            "f1_class_0: 0.0000\n",
            "precision_class_1: 0.7770\n",
            "recall_class_1: 0.8640\n",
            "f1_class_1: 0.8182\n",
            "precision_class_2: 0.9412\n",
            "recall_class_2: 0.5926\n",
            "f1_class_2: 0.7273\n",
            "precision_class_3: 0.9352\n",
            "recall_class_3: 0.9528\n",
            "f1_class_3: 0.9439\n",
            "precision_class_4: 0.6136\n",
            "recall_class_4: 0.8438\n",
            "f1_class_4: 0.7105\n",
            "precision_class_5: 0.9286\n",
            "recall_class_5: 0.7647\n",
            "f1_class_5: 0.8387\n",
            "precision_class_6: 0.7000\n",
            "recall_class_6: 0.4667\n",
            "f1_class_6: 0.5600\n",
            "precision_class_7: 0.8978\n",
            "recall_class_7: 0.9709\n",
            "f1_class_7: 0.9330\n",
            "precision_class_8: 0.6429\n",
            "recall_class_8: 0.5294\n",
            "f1_class_8: 0.5806\n",
            "precision_class_9: 0.6667\n",
            "recall_class_9: 0.2222\n",
            "f1_class_9: 0.3333\n",
            "precision_class_10: 0.8722\n",
            "recall_class_10: 0.8788\n",
            "f1_class_10: 0.8755\n",
            "runtime: 298.8984\n",
            "samples_per_second: 2.2450\n",
            "steps_per_second: 0.2810\n",
            "Модель сохранена в fine_tuned_model/\n"
          ]
        }
      ]
    },
    {
      "cell_type": "markdown",
      "source": [
        "Судя по метрикам, нулевой класс (бывший класс №8) не предсказывается совсем. Это предсказуемо, учитывая, что его экземпляров  не очень много, всего 60. Класс 6 и 8 тоже предсказывается не очень хорошо, но их экземпляров тоже не очень много, около 70-80"
      ],
      "metadata": {
        "id": "wuf4Zb5XxixI"
      }
    },
    {
      "cell_type": "code",
      "source": [
        "#сохраняю в гугл драйв папку с моделью\n",
        "!cp -r /content/fine_tuned_model /content/drive/MyDrive/2level_model"
      ],
      "metadata": {
        "id": "zyQhW17MZl5h"
      },
      "execution_count": null,
      "outputs": []
    },
    {
      "cell_type": "code",
      "source": [
        "finetuned_model_path = \"/content/drive/MyDrive/2level_model\"\n",
        "finetuned_tokenizer_path = \"/content/drive/MyDrive/2level_model\"\n",
        "ft_model = AutoModelForSequenceClassification.from_pretrained(finetuned_model_path)\n",
        "ft_tokenizer = AutoTokenizer.from_pretrained(finetuned_tokenizer_path)"
      ],
      "metadata": {
        "id": "YWNyRkdjAIVD"
      },
      "execution_count": null,
      "outputs": []
    },
    {
      "cell_type": "code",
      "source": [
        "#создание confusion matrix\n",
        "def plot_confusion_matrix_11_classes(test_dataset):\n",
        "    trainer = Trainer(model=ft_model)\n",
        "    predictions = trainer.predict(test_dataset)\n",
        "    preds = np.argmax(predictions.predictions, axis=1)\n",
        "    labels = test_dataset[\"labels\"]\n",
        "\n",
        "    #создаем подписи для классов\n",
        "    class_names = [f\"Class {i}\" for i in range(11)]\n",
        "\n",
        "    #Confusion Matrix\n",
        "    cm = confusion_matrix(labels, preds)\n",
        "\n",
        "    #перевожу в проценты\n",
        "    cm_normalized = cm.astype('float') / cm.sum(axis=1)[:, np.newaxis]\n",
        "\n",
        "    #настройка размера графика для 11 классов\n",
        "    plt.figure(figsize=(15, 12))\n",
        "\n",
        "    #визуализация\n",
        "    sns.heatmap(cm_normalized, annot=True, fmt=\".2f\", cmap=\"Blues\",\n",
        "                xticklabels=class_names,\n",
        "                yticklabels=class_names)\n",
        "    plt.title(\"Normalized Confusion Matrix (11 классов)\", pad=20, fontsize=16)\n",
        "    plt.xlabel(\"Predicted\", fontsize=14)\n",
        "    plt.ylabel(\"True\", fontsize=14)\n",
        "\n",
        "    #сохранение\n",
        "    plt.savefig(\"/content/drive/MyDrive/2level_model/confusion_matrix_11_classes.png\",\n",
        "                bbox_inches='tight', dpi=300)\n",
        "    plt.show()\n",
        "\n",
        "    #Classification Report\n",
        "    print(classification_report(labels, preds, target_names=class_names, digits=4))"
      ],
      "metadata": {
        "id": "J-8JIzN-_JC9"
      },
      "execution_count": null,
      "outputs": []
    },
    {
      "cell_type": "code",
      "source": [
        "X_train, X_val, X_test = split_data()\n",
        "\n",
        "tokenized_test = X_test.map(\n",
        "        lambda x: tokenize(x, tokenizer),\n",
        "        batched=True)"
      ],
      "metadata": {
        "colab": {
          "base_uri": "https://localhost:8080/",
          "height": 49,
          "referenced_widgets": [
            "16b8833ab6404d7e9b143417b21294e7",
            "79994498120c44f0a7a9f17e11958f14",
            "5dbfcf503991421db4f13f4f140750cc",
            "aa2fc96f93a9447fbeb8a4cb03570406",
            "be64d8ce21524a51924bd5bd3cbc85b0",
            "e044d60d926c4d59887e129fef4d30fb",
            "18f9b7c1d91941ae9921ad7a2143c398",
            "db46d0d2ae8a4d69baf2046723eacef0",
            "d8bc79a85e9240f58d54e110a90da523",
            "28e048c1934547fb8def2b397cc6b8b1",
            "d6c8d9e3264e4e109d619c416077bbca"
          ]
        },
        "id": "q2lanwiehMrN",
        "outputId": "b45ba7db-99c1-4fc7-ec9f-58b7b6ff27f8"
      },
      "execution_count": null,
      "outputs": [
        {
          "output_type": "display_data",
          "data": {
            "text/plain": [
              "Map:   0%|          | 0/670 [00:00<?, ? examples/s]"
            ],
            "application/vnd.jupyter.widget-view+json": {
              "version_major": 2,
              "version_minor": 0,
              "model_id": "16b8833ab6404d7e9b143417b21294e7"
            }
          },
          "metadata": {}
        }
      ]
    },
    {
      "cell_type": "code",
      "source": [
        "plot_confusion_matrix_11_classes(tokenized_test)"
      ],
      "metadata": {
        "colab": {
          "base_uri": "https://localhost:8080/",
          "height": 1000
        },
        "id": "QxtomdFhAE_D",
        "outputId": "b54b0934-6860-4bb3-c29a-6bcf722ce733"
      },
      "execution_count": null,
      "outputs": [
        {
          "output_type": "display_data",
          "data": {
            "text/plain": [
              "<IPython.core.display.HTML object>"
            ],
            "text/html": []
          },
          "metadata": {}
        },
        {
          "output_type": "display_data",
          "data": {
            "text/plain": [
              "<Figure size 1500x1200 with 2 Axes>"
            ],
            "image/png": "[encoded data removed]"
          },
          "metadata": {}
        },
        {
          "output_type": "stream",
          "name": "stdout",
          "text": [
            "              precision    recall  f1-score   support\n",
            "\n",
            "     Class 0     0.0000    0.0000    0.0000         9\n",
            "     Class 1     0.8400    0.8400    0.8400       125\n",
            "     Class 2     0.8636    0.7037    0.7755        27\n",
            "     Class 3     0.8898    0.9906    0.9375       106\n",
            "     Class 4     0.6905    0.9062    0.7838        32\n",
            "     Class 5     0.8235    0.8235    0.8235        17\n",
            "     Class 6     0.4286    0.2000    0.2727        15\n",
            "     Class 7     0.9006    0.8953    0.8980       172\n",
            "     Class 8     0.6111    0.6471    0.6286        17\n",
            "     Class 9     1.0000    0.1667    0.2857        18\n",
            "    Class 10     0.7755    0.8636    0.8172       132\n",
            "\n",
            "    accuracy                         0.8313       670\n",
            "   macro avg     0.7112    0.6397    0.6420       670\n",
            "weighted avg     0.8221    0.8313    0.8159       670\n",
            "\n"
          ]
        },
        {
          "output_type": "stream",
          "name": "stderr",
          "text": [
            "/usr/local/lib/python3.11/dist-packages/sklearn/metrics/_classification.py:1565: UndefinedMetricWarning: Precision is ill-defined and being set to 0.0 in labels with no predicted samples. Use `zero_division` parameter to control this behavior.\n",
            "  _warn_prf(average, modifier, f\"{metric.capitalize()} is\", len(result))\n",
            "/usr/local/lib/python3.11/dist-packages/sklearn/metrics/_classification.py:1565: UndefinedMetricWarning: Precision is ill-defined and being set to 0.0 in labels with no predicted samples. Use `zero_division` parameter to control this behavior.\n",
            "  _warn_prf(average, modifier, f\"{metric.capitalize()} is\", len(result))\n",
            "/usr/local/lib/python3.11/dist-packages/sklearn/metrics/_classification.py:1565: UndefinedMetricWarning: Precision is ill-defined and being set to 0.0 in labels with no predicted samples. Use `zero_division` parameter to control this behavior.\n",
            "  _warn_prf(average, modifier, f\"{metric.capitalize()} is\", len(result))\n"
          ]
        }
      ]
    },
    {
      "cell_type": "markdown",
      "source": [
        "## Проверяю работу модели на отдельных  примерах"
      ],
      "metadata": {
        "id": "gJ0H_yAMuVT_"
      }
    },
    {
      "cell_type": "code",
      "source": [
        "def predict_meaning (context: str, lexeme: str, model, tokenizer):\n",
        "  marked_context = context\n",
        "  inputs = tokenizer(\n",
        "        marked_context,\n",
        "        return_tensors=\"pt\",\n",
        "        padding=True,\n",
        "        truncation=True,\n",
        "        max_length=128\n",
        "    )\n",
        "\n",
        "  with torch.no_grad():\n",
        "      outputs = model(**inputs)\n",
        "\n",
        "  probs = torch.softmax(outputs.logits, dim=-1).cpu().numpy()[0]\n",
        "  predicted_class = np.argmax(probs)\n",
        "\n",
        "  result = {\"lexeme\": lexeme,\n",
        "            \"context\": marked_context,\n",
        "            \"predicted_class\": int(predicted_class),\n",
        "            \"confidence\": float(probs[predicted_class]),\n",
        "            \"all_probs\": probs.tolist()\n",
        "        }\n",
        "  return result"
      ],
      "metadata": {
        "id": "c8xJ7W-6k9lz"
      },
      "execution_count": null,
      "outputs": []
    },
    {
      "cell_type": "code",
      "source": [
        "res1 = predict_meaning(\"мы с моей [TGT]чувихой[/TGT] вчера были на концерте\", \"чувиха\", ft_model, ft_tokenizer)\n",
        "res1"
      ],
      "metadata": {
        "colab": {
          "base_uri": "https://localhost:8080/"
        },
        "id": "-QJrPAravVMh",
        "outputId": "6878268e-faf6-44b0-bc61-a97cae9ff3ca"
      },
      "execution_count": null,
      "outputs": [
        {
          "output_type": "execute_result",
          "data": {
            "text/plain": [
              "{'lexeme': 'чувиха',\n",
              " 'context': 'мы с моей [TGT]чувихой[/TGT] вчера были на концерте',\n",
              " 'predicted_class': 6,\n",
              " 'confidence': 0.4963742196559906,\n",
              " 'all_probs': [0.023303261026740074,\n",
              "  0.008331207558512688,\n",
              "  0.013161967508494854,\n",
              "  0.01734939217567444,\n",
              "  0.03274640813469887,\n",
              "  0.22214838862419128,\n",
              "  0.4963742196559906,\n",
              "  0.013510264456272125,\n",
              "  0.03718244656920433,\n",
              "  0.024495111778378487,\n",
              "  0.11139733344316483]}"
            ]
          },
          "metadata": {},
          "execution_count": 21
        }
      ]
    },
    {
      "cell_type": "code",
      "source": [
        "res = predict_meaning(\"я всегду буду твоим [TGT]бро[/TGT], даже если мы поссоримся\", \"бро\", ft_model, ft_tokenizer)\n",
        "res"
      ],
      "metadata": {
        "colab": {
          "base_uri": "https://localhost:8080/"
        },
        "id": "xHbcLlyjoGzn",
        "outputId": "7a35e756-2324-4ab0-8351-12809a825ace"
      },
      "execution_count": null,
      "outputs": [
        {
          "output_type": "execute_result",
          "data": {
            "text/plain": [
              "{'lexeme': 'бро',\n",
              " 'context': 'я всегду буду твоим [TGT]бро[/TGT], даже если мы поссоримся',\n",
              " 'predicted_class': 5,\n",
              " 'confidence': 0.7474221587181091,\n",
              " 'all_probs': [0.01641690917313099,\n",
              "  0.0053537278436124325,\n",
              "  0.016155768185853958,\n",
              "  0.04502401500940323,\n",
              "  0.03288967162370682,\n",
              "  0.7474221587181091,\n",
              "  0.06257285922765732,\n",
              "  0.012302598915994167,\n",
              "  0.01913760043680668,\n",
              "  0.028741955757141113,\n",
              "  0.013982700183987617]}"
            ]
          },
          "metadata": {},
          "execution_count": 22
        }
      ]
    },
    {
      "cell_type": "code",
      "source": [
        "res = predict_meaning(\"я уже все понял по каждому [TGT]бро[/TGT] и можешь не пытаться меня переубедить\", \"бро\", ft_model, ft_tokenizer)\n",
        "res\n"
      ],
      "metadata": {
        "colab": {
          "base_uri": "https://localhost:8080/"
        },
        "id": "cwiR5smDw2P-",
        "outputId": "e411bd48-9b50-48eb-b07c-2b875e29a905"
      },
      "execution_count": null,
      "outputs": [
        {
          "output_type": "execute_result",
          "data": {
            "text/plain": [
              "{'lexeme': 'бро',\n",
              " 'context': 'я уже все понял по каждому [TGT]бро[/TGT] и можешь не пытаться меня переубедить',\n",
              " 'predicted_class': 5,\n",
              " 'confidence': 0.49994581937789917,\n",
              " 'all_probs': [0.009664330631494522,\n",
              "  0.005353225860744715,\n",
              "  0.02574688009917736,\n",
              "  0.37707725167274475,\n",
              "  0.015643561258912086,\n",
              "  0.49994581937789917,\n",
              "  0.01841702312231064,\n",
              "  0.009905055165290833,\n",
              "  0.010619190521538258,\n",
              "  0.016941750422120094,\n",
              "  0.010685832239687443]}"
            ]
          },
          "metadata": {},
          "execution_count": 23
        }
      ]
    },
    {
      "cell_type": "code",
      "source": [
        "res = predict_meaning(\"будь [TGT]бро[/TGT], помоги нам выиграть в этом конкурсе\", \"бро\", ft_model, ft_tokenizer)\n",
        "res"
      ],
      "metadata": {
        "id": "ZTZ90eXvrI3w",
        "colab": {
          "base_uri": "https://localhost:8080/"
        },
        "outputId": "afe00797-929f-4d0c-a161-e41f3f163348"
      },
      "execution_count": null,
      "outputs": [
        {
          "output_type": "execute_result",
          "data": {
            "text/plain": [
              "{'lexeme': 'бро',\n",
              " 'context': 'будь [TGT]бро[/TGT], помоги нам выиграть в этом конкурсе',\n",
              " 'predicted_class': 3,\n",
              " 'confidence': 0.9502554535865784,\n",
              " 'all_probs': [0.0022007396910339594,\n",
              "  0.0023408762644976377,\n",
              "  0.0047227307222783566,\n",
              "  0.9502554535865784,\n",
              "  0.002542430767789483,\n",
              "  0.026796942576766014,\n",
              "  0.001727432245388627,\n",
              "  0.0025522441137582064,\n",
              "  0.0018159444443881512,\n",
              "  0.002359483391046524,\n",
              "  0.002685731276869774]}"
            ]
          },
          "metadata": {},
          "execution_count": 24
        }
      ]
    },
    {
      "cell_type": "code",
      "source": [
        "res = predict_meaning(\"спасибо [TGT]бро[/TGT] за помощь в организации вечеринки\", \"бро\", ft_model, ft_tokenizer)\n",
        "res"
      ],
      "metadata": {
        "id": "Zy5twKoBrdl2",
        "colab": {
          "base_uri": "https://localhost:8080/"
        },
        "outputId": "b9f683c7-9b64-418e-bee1-c412f35f6953"
      },
      "execution_count": null,
      "outputs": [
        {
          "output_type": "execute_result",
          "data": {
            "text/plain": [
              "{'lexeme': 'бро',\n",
              " 'context': 'спасибо [TGT]бро[/TGT] за помощь в организации вечеринки',\n",
              " 'predicted_class': 5,\n",
              " 'confidence': 0.7566837072372437,\n",
              " 'all_probs': [0.012829446233808994,\n",
              "  0.004919094033539295,\n",
              "  0.018361374735832214,\n",
              "  0.08304315060377121,\n",
              "  0.02181393839418888,\n",
              "  0.7566837072372437,\n",
              "  0.03584175184369087,\n",
              "  0.013454489409923553,\n",
              "  0.015603067353367805,\n",
              "  0.023600265383720398,\n",
              "  0.013849765062332153]}"
            ]
          },
          "metadata": {},
          "execution_count": 25
        }
      ]
    },
    {
      "cell_type": "code",
      "source": [
        "res = predict_meaning(\"ты мой [TGT]бро[/TGT] навсегда, только скажи мне, поедешь ли ты с нами в москву\", \"бро\", ft_model, ft_tokenizer)\n",
        "res"
      ],
      "metadata": {
        "colab": {
          "base_uri": "https://localhost:8080/"
        },
        "id": "Gv2317NwxGoX",
        "outputId": "3fb16a3d-f4ce-45d0-b9ad-ed92354752fc"
      },
      "execution_count": null,
      "outputs": [
        {
          "output_type": "execute_result",
          "data": {
            "text/plain": [
              "{'lexeme': 'бро',\n",
              " 'context': 'ты мой [TGT]бро[/TGT] навсегда, только скажи мне, поедешь ли ты с нами в москву',\n",
              " 'predicted_class': 5,\n",
              " 'confidence': 0.7240468859672546,\n",
              " 'all_probs': [0.014156289398670197,\n",
              "  0.0047593023627996445,\n",
              "  0.015411029569804668,\n",
              "  0.12666209042072296,\n",
              "  0.023613765835762024,\n",
              "  0.7240468859672546,\n",
              "  0.033094730228185654,\n",
              "  0.01129004918038845,\n",
              "  0.015769226476550102,\n",
              "  0.021519044414162636,\n",
              "  0.009677541442215443]}"
            ]
          },
          "metadata": {},
          "execution_count": 26
        }
      ]
    },
    {
      "cell_type": "code",
      "source": [
        "res = predict_meaning(\"Затем он говорил [TGT]мальчикам[/TGT]: «Именно так работает поэзия.\", \"мальчик\", ft_model, ft_tokenizer)\n",
        "res"
      ],
      "metadata": {
        "colab": {
          "base_uri": "https://localhost:8080/"
        },
        "id": "JG-90lYIvRzc",
        "outputId": "512967e6-4c77-40ea-ba30-7ac5d7281d1a"
      },
      "execution_count": null,
      "outputs": [
        {
          "output_type": "execute_result",
          "data": {
            "text/plain": [
              "{'lexeme': 'мальчик',\n",
              " 'context': 'Затем он говорил [TGT]мальчикам[/TGT]: «Именно так работает поэзия.',\n",
              " 'predicted_class': 7,\n",
              " 'confidence': 0.9390720725059509,\n",
              " 'all_probs': [0.006755475886166096,\n",
              "  0.010759010910987854,\n",
              "  0.001423006528057158,\n",
              "  0.0032873046584427357,\n",
              "  0.002777427202090621,\n",
              "  0.0020822156220674515,\n",
              "  0.0036793584004044533,\n",
              "  0.9390720725059509,\n",
              "  0.007740988861769438,\n",
              "  0.0027561483439058065,\n",
              "  0.01966703310608864]}"
            ]
          },
          "metadata": {},
          "execution_count": 27
        }
      ]
    },
    {
      "cell_type": "code",
      "source": [
        "res = predict_meaning(\"Какой ты гениальный [TGT]мальчик[/TGT]! Я бы ведь сама не догадалась так сделать\", \"мальчик\", ft_model, ft_tokenizer)\n",
        "res"
      ],
      "metadata": {
        "colab": {
          "base_uri": "https://localhost:8080/"
        },
        "id": "k28NmrybzKz0",
        "outputId": "6a9434d3-962a-4cb7-e3b0-f51862d590d0"
      },
      "execution_count": null,
      "outputs": [
        {
          "output_type": "execute_result",
          "data": {
            "text/plain": [
              "{'lexeme': 'мальчик',\n",
              " 'context': 'Какой ты гениальный [TGT]мальчик[/TGT]! Я бы ведь сама не догадалась так сделать',\n",
              " 'predicted_class': 1,\n",
              " 'confidence': 0.6126341223716736,\n",
              " 'all_probs': [0.04534929618239403,\n",
              "  0.6126341223716736,\n",
              "  0.019838832318782806,\n",
              "  0.006305455695837736,\n",
              "  0.010848878882825375,\n",
              "  0.005092227831482887,\n",
              "  0.025478921830654144,\n",
              "  0.04706500470638275,\n",
              "  0.08384592831134796,\n",
              "  0.009192789904773235,\n",
              "  0.1343485563993454]}"
            ]
          },
          "metadata": {},
          "execution_count": 28
        }
      ]
    },
    {
      "cell_type": "code",
      "source": [
        "res = predict_meaning(\"Хочу оставаться [TGT]женщиной[/TGT], а не превращаться в  сапожника\", \"женщина\", ft_model, ft_tokenizer)\n",
        "res"
      ],
      "metadata": {
        "id": "vxUtg20L0Iae",
        "colab": {
          "base_uri": "https://localhost:8080/"
        },
        "outputId": "e866a621-a43a-4361-bb79-b4eb06ccfba6"
      },
      "execution_count": null,
      "outputs": [
        {
          "output_type": "execute_result",
          "data": {
            "text/plain": [
              "{'lexeme': 'женщина',\n",
              " 'context': 'Хочу оставаться [TGT]женщиной[/TGT], а не превращаться в  сапожника',\n",
              " 'predicted_class': 1,\n",
              " 'confidence': 0.5341136455535889,\n",
              " 'all_probs': [0.15183565020561218,\n",
              "  0.5341136455535889,\n",
              "  0.02678024210035801,\n",
              "  0.008333849720656872,\n",
              "  0.012775925919413567,\n",
              "  0.008622677065432072,\n",
              "  0.0352063812315464,\n",
              "  0.007089794147759676,\n",
              "  0.1974697709083557,\n",
              "  0.011640158481895924,\n",
              "  0.006131932605057955]}"
            ]
          },
          "metadata": {},
          "execution_count": 29
        }
      ]
    },
    {
      "cell_type": "code",
      "source": [
        "res = predict_meaning(\"мы с [TGT]пацанами[/TGT] часто собираемся вместе.\", \"пацан\", ft_model, ft_tokenizer)\n",
        "res"
      ],
      "metadata": {
        "colab": {
          "base_uri": "https://localhost:8080/"
        },
        "id": "f3sbZjqE4FF9",
        "outputId": "fd6356c9-0122-4150-e00b-5b2dfc7bd09d"
      },
      "execution_count": null,
      "outputs": [
        {
          "output_type": "execute_result",
          "data": {
            "text/plain": [
              "{'lexeme': 'пацан',\n",
              " 'context': 'мы с [TGT]пацанами[/TGT] часто собираемся вместе.',\n",
              " 'predicted_class': 5,\n",
              " 'confidence': 0.629729688167572,\n",
              " 'all_probs': [0.014036008156836033,\n",
              "  0.005198158789426088,\n",
              "  0.01485387235879898,\n",
              "  0.06788753718137741,\n",
              "  0.02839025855064392,\n",
              "  0.629729688167572,\n",
              "  0.07546275854110718,\n",
              "  0.03796233981847763,\n",
              "  0.01793031021952629,\n",
              "  0.03072773665189743,\n",
              "  0.07782132178544998]}"
            ]
          },
          "metadata": {},
          "execution_count": 32
        }
      ]
    },
    {
      "cell_type": "code",
      "source": [
        "res = predict_meaning(\"мы с моими [TGT]девами[/TGT] пошли вчера вместе за кофе.\", \"дева\", ft_model, ft_tokenizer)\n",
        "res"
      ],
      "metadata": {
        "colab": {
          "base_uri": "https://localhost:8080/"
        },
        "id": "6nZjXLRUlYN6",
        "outputId": "5fd5c893-6c07-4bf2-f482-476d24b226a8"
      },
      "execution_count": null,
      "outputs": [
        {
          "output_type": "execute_result",
          "data": {
            "text/plain": [
              "{'lexeme': 'дева',\n",
              " 'context': 'мы с моими [TGT]девами[/TGT] пошли вчера вместе за кофе.',\n",
              " 'predicted_class': 5,\n",
              " 'confidence': 0.34430259466171265,\n",
              " 'all_probs': [0.025276871398091316,\n",
              "  0.004594802390784025,\n",
              "  0.011485983617603779,\n",
              "  0.019700177013874054,\n",
              "  0.11797424405813217,\n",
              "  0.34430259466171265,\n",
              "  0.3311118483543396,\n",
              "  0.01985246315598488,\n",
              "  0.03274238854646683,\n",
              "  0.06234775856137276,\n",
              "  0.030610816553235054]}"
            ]
          },
          "metadata": {},
          "execution_count": 33
        }
      ]
    },
    {
      "cell_type": "code",
      "source": [
        "res = predict_meaning(\"у [TGT]деда[/TGT] дома или у меня решили собраться.\", \"дед\", ft_model, ft_tokenizer)\n",
        "res"
      ],
      "metadata": {
        "colab": {
          "base_uri": "https://localhost:8080/"
        },
        "id": "plaUOXZEtR7T",
        "outputId": "b3bce8dc-6e72-4772-c22c-9ca2a426484a"
      },
      "execution_count": null,
      "outputs": [
        {
          "output_type": "execute_result",
          "data": {
            "text/plain": [
              "{'lexeme': 'дед',\n",
              " 'context': 'у [TGT]деда[/TGT] дома или у меня решили собраться.',\n",
              " 'predicted_class': 4,\n",
              " 'confidence': 0.5102699995040894,\n",
              " 'all_probs': [0.009103644639253616,\n",
              "  0.002327983733266592,\n",
              "  0.01629260554909706,\n",
              "  0.004781557247042656,\n",
              "  0.5102699995040894,\n",
              "  0.017220621928572655,\n",
              "  0.011884263716638088,\n",
              "  0.007767931558191776,\n",
              "  0.010020049288868904,\n",
              "  0.40742528438568115,\n",
              "  0.002905978122726083]}"
            ]
          },
          "metadata": {},
          "execution_count": 34
        }
      ]
    },
    {
      "cell_type": "code",
      "source": [
        "res = predict_meaning(\"[TGT]дед[/TGT] мне представлялся человеком очень спокойным\", \"дед\", ft_model, ft_tokenizer)\n",
        "res"
      ],
      "metadata": {
        "colab": {
          "base_uri": "https://localhost:8080/"
        },
        "id": "Seg2tOQhtkyD",
        "outputId": "25173a18-6a1b-427d-acec-163b50f37647"
      },
      "execution_count": null,
      "outputs": [
        {
          "output_type": "execute_result",
          "data": {
            "text/plain": [
              "{'lexeme': 'дед',\n",
              " 'context': '[TGT]дед[/TGT] мне представлялся человеком очень спокойным',\n",
              " 'predicted_class': 4,\n",
              " 'confidence': 0.5745545625686646,\n",
              " 'all_probs': [0.009245743975043297,\n",
              "  0.0024138062726706266,\n",
              "  0.013660021126270294,\n",
              "  0.0041765980422496796,\n",
              "  0.5745545625686646,\n",
              "  0.01380095910280943,\n",
              "  0.012117608450353146,\n",
              "  0.007894687354564667,\n",
              "  0.0102300513535738,\n",
              "  0.349001407623291,\n",
              "  0.002904681023210287]}"
            ]
          },
          "metadata": {},
          "execution_count": 37
        }
      ]
    },
    {
      "cell_type": "code",
      "source": [
        "res = predict_meaning(\"зачем вы так строго с ним, жалко [TGT]деда[/TGT]\", \"дед\", ft_model, ft_tokenizer)\n",
        "res"
      ],
      "metadata": {
        "colab": {
          "base_uri": "https://localhost:8080/"
        },
        "id": "roMkA6UsyOhI",
        "outputId": "6af665e0-c31a-4a0d-8c50-02788e73a2a4"
      },
      "execution_count": null,
      "outputs": [
        {
          "output_type": "execute_result",
          "data": {
            "text/plain": [
              "{'lexeme': 'дед',\n",
              " 'context': 'зачем вы так строго с ним, жалко [TGT]деда[/TGT]',\n",
              " 'predicted_class': 4,\n",
              " 'confidence': 0.48845550417900085,\n",
              " 'all_probs': [0.0090573038905859,\n",
              "  0.0018133054254576564,\n",
              "  0.017742423340678215,\n",
              "  0.005637529771775007,\n",
              "  0.48845550417900085,\n",
              "  0.028810808435082436,\n",
              "  0.01819857396185398,\n",
              "  0.005458164028823376,\n",
              "  0.01050781924277544,\n",
              "  0.41090187430381775,\n",
              "  0.0034167298581451178]}"
            ]
          },
          "metadata": {},
          "execution_count": 45
        }
      ]
    },
    {
      "cell_type": "code",
      "source": [
        "res = predict_meaning(\"тебе [TGT]деды[/TGT] местные ничего не сказали?\", \"дед\", ft_model, ft_tokenizer)\n",
        "res"
      ],
      "metadata": {
        "colab": {
          "base_uri": "https://localhost:8080/"
        },
        "id": "WklNDkCuts1r",
        "outputId": "833d813a-be30-4460-d778-cbf0dc36a769"
      },
      "execution_count": null,
      "outputs": [
        {
          "output_type": "execute_result",
          "data": {
            "text/plain": [
              "{'lexeme': 'дед',\n",
              " 'context': 'тебе [TGT]деды[/TGT] местные ничего не сказали?',\n",
              " 'predicted_class': 4,\n",
              " 'confidence': 0.5011717677116394,\n",
              " 'all_probs': [0.009170189499855042,\n",
              "  0.0017091723857447505,\n",
              "  0.014600301161408424,\n",
              "  0.004737093113362789,\n",
              "  0.5011717677116394,\n",
              "  0.02033855952322483,\n",
              "  0.013296986930072308,\n",
              "  0.010335847735404968,\n",
              "  0.010771840810775757,\n",
              "  0.41093021631240845,\n",
              "  0.0029379960615187883]}"
            ]
          },
          "metadata": {},
          "execution_count": 42
        }
      ]
    },
    {
      "cell_type": "code",
      "source": [
        "res = predict_meaning(\"[TGT]мужчина[/TGT] услышал крики и решил помочь несчастным\", \"мужчина\", ft_model, ft_tokenizer)\n",
        "res"
      ],
      "metadata": {
        "colab": {
          "base_uri": "https://localhost:8080/"
        },
        "id": "W4-Z9RYFLlQg",
        "outputId": "082a64f4-b9f6-4797-a1d7-ef8ed245943b"
      },
      "execution_count": null,
      "outputs": [
        {
          "output_type": "execute_result",
          "data": {
            "text/plain": [
              "{'lexeme': 'мужчина',\n",
              " 'context': '[TGT]мужчина[/TGT] услышал крики и решил помочь несчастным',\n",
              " 'predicted_class': 8,\n",
              " 'confidence': 0.5032228827476501,\n",
              " 'all_probs': [0.1119932234287262,\n",
              "  0.22524642944335938,\n",
              "  0.018308402970433235,\n",
              "  0.008114296942949295,\n",
              "  0.01653105765581131,\n",
              "  0.01803032122552395,\n",
              "  0.06569960713386536,\n",
              "  0.009486035443842411,\n",
              "  0.5032228827476501,\n",
              "  0.015764836221933365,\n",
              "  0.007602892816066742]}"
            ]
          },
          "metadata": {},
          "execution_count": 47
        }
      ]
    },
    {
      "cell_type": "code",
      "source": [
        "res = predict_meaning(\"ради такой [TGT]женщины[/TGT] я был бы готов на многое\", \"женщина\", ft_model, ft_tokenizer)\n",
        "res"
      ],
      "metadata": {
        "colab": {
          "base_uri": "https://localhost:8080/"
        },
        "id": "Zd5zZigqOPpY",
        "outputId": "b3650214-0def-4874-b2ed-1dff786b2b65"
      },
      "execution_count": null,
      "outputs": [
        {
          "output_type": "execute_result",
          "data": {
            "text/plain": [
              "{'lexeme': 'женщина',\n",
              " 'context': 'ради такой [TGT]женщины[/TGT] я был бы готов на многое',\n",
              " 'predicted_class': 8,\n",
              " 'confidence': 0.4775879681110382,\n",
              " 'all_probs': [0.13898678123950958,\n",
              "  0.10547489672899246,\n",
              "  0.02265738882124424,\n",
              "  0.009267974644899368,\n",
              "  0.024939915165305138,\n",
              "  0.03901653364300728,\n",
              "  0.13993999361991882,\n",
              "  0.008660354651510715,\n",
              "  0.4775879681110382,\n",
              "  0.024729304015636444,\n",
              "  0.008738824166357517]}"
            ]
          },
          "metadata": {},
          "execution_count": 53
        }
      ]
    },
    {
      "cell_type": "code",
      "source": [
        "res = predict_meaning(\"[TGT]женщина[/TGT] показалась нам очень понимающей\", \"женщина\", ft_model, ft_tokenizer)\n",
        "res"
      ],
      "metadata": {
        "colab": {
          "base_uri": "https://localhost:8080/"
        },
        "id": "EN6eT6KNNWXO",
        "outputId": "6889fc24-6ff0-49aa-e8c8-c1587f7c990a"
      },
      "execution_count": null,
      "outputs": [
        {
          "output_type": "execute_result",
          "data": {
            "text/plain": [
              "{'lexeme': 'женщина',\n",
              " 'context': '[TGT]женщина[/TGT] показалась нам очень понимающей',\n",
              " 'predicted_class': 8,\n",
              " 'confidence': 0.4767040014266968,\n",
              " 'all_probs': [0.15481777489185333,\n",
              "  0.1918327808380127,\n",
              "  0.017167292535305023,\n",
              "  0.00767052685841918,\n",
              "  0.020182020962238312,\n",
              "  0.017405161634087563,\n",
              "  0.07516756653785706,\n",
              "  0.011257043108344078,\n",
              "  0.4767040014266968,\n",
              "  0.019607581198215485,\n",
              "  0.008188281208276749]}"
            ]
          },
          "metadata": {},
          "execution_count": 54
        }
      ]
    },
    {
      "cell_type": "code",
      "source": [
        "res = predict_meaning(\"вокруг так много красивых [TGT]женщин[/TGT].\", \"женщина\", ft_model, ft_tokenizer)\n",
        "res"
      ],
      "metadata": {
        "colab": {
          "base_uri": "https://localhost:8080/"
        },
        "id": "GgktBhvhLbJZ",
        "outputId": "6b5dbf81-5f3b-4149-c144-90432f5ac968"
      },
      "execution_count": null,
      "outputs": [
        {
          "output_type": "execute_result",
          "data": {
            "text/plain": [
              "{'lexeme': 'женщина',\n",
              " 'context': 'вокруг так много красивых [TGT]женщин[/TGT].',\n",
              " 'predicted_class': 1,\n",
              " 'confidence': 0.5627352595329285,\n",
              " 'all_probs': [0.10593535751104355,\n",
              "  0.5627352595329285,\n",
              "  0.018072066828608513,\n",
              "  0.006202970631420612,\n",
              "  0.009967735037207603,\n",
              "  0.007614849600940943,\n",
              "  0.03902048245072365,\n",
              "  0.006919768173247576,\n",
              "  0.228210911154747,\n",
              "  0.008274323306977749,\n",
              "  0.007046245504170656]}"
            ]
          },
          "metadata": {},
          "execution_count": 55
        }
      ]
    },
    {
      "cell_type": "code",
      "source": [
        "res = predict_meaning(\"[TGT]женщина[/TGT] сказала, что пойдет с нами.\", \"женщина\", ft_model, ft_tokenizer)\n",
        "res"
      ],
      "metadata": {
        "colab": {
          "base_uri": "https://localhost:8080/"
        },
        "id": "9qYVmuVPP1YY",
        "outputId": "22264c77-ef2d-46ba-e6f0-7ac1886f50d0"
      },
      "execution_count": null,
      "outputs": [
        {
          "output_type": "execute_result",
          "data": {
            "text/plain": [
              "{'lexeme': 'женщина',\n",
              " 'context': '[TGT]женщина[/TGT] сказала, что пойдет с нами.',\n",
              " 'predicted_class': 8,\n",
              " 'confidence': 0.5791393518447876,\n",
              " 'all_probs': [0.0977630466222763,\n",
              "  0.08991461992263794,\n",
              "  0.020177461206912994,\n",
              "  0.008306748233735561,\n",
              "  0.023658957332372665,\n",
              "  0.02963661029934883,\n",
              "  0.10934535413980484,\n",
              "  0.008378452621400356,\n",
              "  0.5791393518447876,\n",
              "  0.023309025913476944,\n",
              "  0.01037030853331089]}"
            ]
          },
          "metadata": {},
          "execution_count": 57
        }
      ]
    },
    {
      "cell_type": "code",
      "source": [
        "res = predict_meaning(\"меня очень тронули слова этого [TGT]деда[/TGT]\", \"дед\", ft_model, ft_tokenizer)\n",
        "res"
      ],
      "metadata": {
        "colab": {
          "base_uri": "https://localhost:8080/"
        },
        "id": "IeiymTb8vI_F",
        "outputId": "0e60bbc2-6873-4b03-acfc-1c03c3702104"
      },
      "execution_count": null,
      "outputs": [
        {
          "output_type": "execute_result",
          "data": {
            "text/plain": [
              "{'lexeme': 'дед',\n",
              " 'context': 'меня очень тронули слова этого [TGT]деда[/TGT]',\n",
              " 'predicted_class': 4,\n",
              " 'confidence': 0.6108103394508362,\n",
              " 'all_probs': [0.01008907426148653,\n",
              "  0.0031035218853503466,\n",
              "  0.016006356105208397,\n",
              "  0.004047203343361616,\n",
              "  0.6108103394508362,\n",
              "  0.014088427647948265,\n",
              "  0.013023972511291504,\n",
              "  0.006040186155587435,\n",
              "  0.010248002596199512,\n",
              "  0.309738427400589,\n",
              "  0.0028044921346008778]}"
            ]
          },
          "metadata": {},
          "execution_count": 44
        }
      ]
    },
    {
      "cell_type": "code",
      "source": [
        "res = predict_meaning(\"зачем [TGT]герл[/TGT] обижаешь\", \"герл\", ft_model, ft_tokenizer)\n",
        "res"
      ],
      "metadata": {
        "colab": {
          "base_uri": "https://localhost:8080/"
        },
        "id": "nfFxgVU7TdkG",
        "outputId": "0d08ebeb-4f97-42e5-b1f8-9197cbcd21ef"
      },
      "execution_count": null,
      "outputs": [
        {
          "output_type": "execute_result",
          "data": {
            "text/plain": [
              "{'lexeme': 'герл',\n",
              " 'context': 'зачем [TGT]герл[/TGT] обижаешь',\n",
              " 'predicted_class': 10,\n",
              " 'confidence': 0.9265913963317871,\n",
              " 'all_probs': [0.002468243008479476,\n",
              "  0.033845894038677216,\n",
              "  0.003869634820148349,\n",
              "  0.0063408552668988705,\n",
              "  0.0009968666126951575,\n",
              "  0.0038820100016891956,\n",
              "  0.012640493921935558,\n",
              "  0.003891577245667577,\n",
              "  0.004219518043100834,\n",
              "  0.0012534837005659938,\n",
              "  0.9265913963317871]}"
            ]
          },
          "metadata": {},
          "execution_count": 59
        }
      ]
    },
    {
      "cell_type": "code",
      "source": [
        "res = predict_meaning(\"[TGT]пацаны[/TGT] это вам во дворе сказали?\", \"пацан\", ft_model, ft_tokenizer)\n",
        "res"
      ],
      "metadata": {
        "colab": {
          "base_uri": "https://localhost:8080/"
        },
        "id": "7QjH2LSyW38A",
        "outputId": "1819f677-73b0-4b7b-bfd1-5f4493ae87fd"
      },
      "execution_count": null,
      "outputs": [
        {
          "output_type": "execute_result",
          "data": {
            "text/plain": [
              "{'lexeme': 'пацан',\n",
              " 'context': '[TGT]пацаны[/TGT] это вам во дворе сказали?',\n",
              " 'predicted_class': 3,\n",
              " 'confidence': 0.9597476124763489,\n",
              " 'all_probs': [0.0019733922090381384,\n",
              "  0.002298532286658883,\n",
              "  0.002651338232681155,\n",
              "  0.9597476124763489,\n",
              "  0.0019938081968575716,\n",
              "  0.013863087631762028,\n",
              "  0.0016009816899895668,\n",
              "  0.0056206476874649525,\n",
              "  0.0015169670805335045,\n",
              "  0.0017367317341268063,\n",
              "  0.006996910087764263]}"
            ]
          },
          "metadata": {},
          "execution_count": 65
        }
      ]
    },
    {
      "cell_type": "code",
      "source": [
        "res = predict_meaning(\"такая хот [TGT]герл[/TGT] мне навстречу вышла\", \"герл\", ft_model, ft_tokenizer)\n",
        "res"
      ],
      "metadata": {
        "colab": {
          "base_uri": "https://localhost:8080/"
        },
        "id": "kPFp2l2yXjRD",
        "outputId": "6f0d0ce2-ad5e-4913-dc5a-1eea74b6e208"
      },
      "execution_count": null,
      "outputs": [
        {
          "output_type": "execute_result",
          "data": {
            "text/plain": [
              "{'lexeme': 'герл',\n",
              " 'context': 'такая хот [TGT]герл[/TGT] мне навстречу вышла',\n",
              " 'predicted_class': 10,\n",
              " 'confidence': 0.9606611132621765,\n",
              " 'all_probs': [0.0016665828879922628,\n",
              "  0.006967505440115929,\n",
              "  0.0018682304071262479,\n",
              "  0.0034568365663290024,\n",
              "  0.0009528306545689702,\n",
              "  0.003561554942280054,\n",
              "  0.012787937186658382,\n",
              "  0.004301282111555338,\n",
              "  0.0025266576558351517,\n",
              "  0.0012493972899392247,\n",
              "  0.9606611132621765]}"
            ]
          },
          "metadata": {},
          "execution_count": 8
        }
      ]
    },
    {
      "cell_type": "code",
      "source": [
        "res = predict_meaning(\"бар [TGT]герл[/TGT] сегодня не та, что обычно\", \"герл\", ft_model, ft_tokenizer)\n",
        "res"
      ],
      "metadata": {
        "colab": {
          "base_uri": "https://localhost:8080/"
        },
        "id": "l_TIIWY7t1Ru",
        "outputId": "2e6a4987-b44a-40b7-f7da-9e9ce3eebfd2"
      },
      "execution_count": null,
      "outputs": [
        {
          "output_type": "execute_result",
          "data": {
            "text/plain": [
              "{'lexeme': 'герл',\n",
              " 'context': 'бар [TGT]герл[/TGT] сегодня не та, что обычно',\n",
              " 'predicted_class': 10,\n",
              " 'confidence': 0.8228392004966736,\n",
              " 'all_probs': [0.0038982543628662825,\n",
              "  0.12503287196159363,\n",
              "  0.007245353888720274,\n",
              "  0.010638747364282608,\n",
              "  0.0012578144669532776,\n",
              "  0.00441722059622407,\n",
              "  0.012734279967844486,\n",
              "  0.004686324391514063,\n",
              "  0.005779273808002472,\n",
              "  0.0014706806978210807,\n",
              "  0.8228392004966736]}"
            ]
          },
          "metadata": {},
          "execution_count": 24
        }
      ]
    },
    {
      "cell_type": "code",
      "source": [
        "res = predict_meaning(\"надоела эта клин [TGT]герл[/TGT]\", \"герл\", ft_model, ft_tokenizer)\n",
        "res"
      ],
      "metadata": {
        "colab": {
          "base_uri": "https://localhost:8080/"
        },
        "id": "Obd6VBsNsXGJ",
        "outputId": "e760bc95-664b-4f83-9fe1-9fb6aa7f2f66"
      },
      "execution_count": null,
      "outputs": [
        {
          "output_type": "execute_result",
          "data": {
            "text/plain": [
              "{'lexeme': 'герл',\n",
              " 'context': 'надоела эта клин [TGT]герл[/TGT]',\n",
              " 'predicted_class': 10,\n",
              " 'confidence': 0.6130814552307129,\n",
              " 'all_probs': [0.005765326786786318,\n",
              "  0.29413801431655884,\n",
              "  0.012160689570009708,\n",
              "  0.03988513723015785,\n",
              "  0.0016787779750302434,\n",
              "  0.005283134523779154,\n",
              "  0.012629321776330471,\n",
              "  0.006282801739871502,\n",
              "  0.00729234516620636,\n",
              "  0.001803137711249292,\n",
              "  0.6130814552307129]}"
            ]
          },
          "metadata": {},
          "execution_count": 23
        }
      ]
    },
    {
      "cell_type": "code",
      "source": [
        "res = predict_meaning(\"он такой эстетик [TGT]мэн[/TGT]\", \"мэн\", ft_model, ft_tokenizer)\n",
        "res"
      ],
      "metadata": {
        "colab": {
          "base_uri": "https://localhost:8080/"
        },
        "id": "9XblDEzCs-V_",
        "outputId": "6c746306-bb73-4453-99f0-46bafcb946e1"
      },
      "execution_count": null,
      "outputs": [
        {
          "output_type": "execute_result",
          "data": {
            "text/plain": [
              "{'lexeme': 'мэн',\n",
              " 'context': 'он такой эстетик [TGT]мэн[/TGT]',\n",
              " 'predicted_class': 1,\n",
              " 'confidence': 0.7533949017524719,\n",
              " 'all_probs': [0.007440492976456881,\n",
              "  0.7533949017524719,\n",
              "  0.019001685082912445,\n",
              "  0.009435460902750492,\n",
              "  0.0017061533872038126,\n",
              "  0.0023789035622030497,\n",
              "  0.007866409607231617,\n",
              "  0.0035239486023783684,\n",
              "  0.008518640883266926,\n",
              "  0.0017024994594976306,\n",
              "  0.18503092229366302]}"
            ]
          },
          "metadata": {},
          "execution_count": 19
        }
      ]
    },
    {
      "cell_type": "code",
      "source": [
        "res = predict_meaning(\"ему сказал какой-то [TGT]челик[/TGT] давай вместе съездим\", \"чел\", ft_model, ft_tokenizer)\n",
        "res"
      ],
      "metadata": {
        "colab": {
          "base_uri": "https://localhost:8080/"
        },
        "id": "DcNEa9D46E_M",
        "outputId": "e8bf0463-046c-4db7-98fb-dd76cdd1ac14"
      },
      "execution_count": null,
      "outputs": [
        {
          "output_type": "execute_result",
          "data": {
            "text/plain": [
              "{'lexeme': 'чел',\n",
              " 'context': 'ему сказал какой-то [TGT]челик[/TGT] давай вместе съездим',\n",
              " 'predicted_class': 1,\n",
              " 'confidence': 0.691253125667572,\n",
              " 'all_probs': [0.009271887131035328,\n",
              "  0.691253125667572,\n",
              "  0.2598448395729065,\n",
              "  0.007929504849016666,\n",
              "  0.003857050323858857,\n",
              "  0.0024585388600826263,\n",
              "  0.0034748560283333063,\n",
              "  0.0018768151057884097,\n",
              "  0.00787073839455843,\n",
              "  0.003827899694442749,\n",
              "  0.008334788493812084]}"
            ]
          },
          "metadata": {},
          "execution_count": 29
        }
      ]
    },
    {
      "cell_type": "code",
      "source": [
        "res = predict_meaning(\"тебе же [TGT]чел[/TGT] из германии кроссы привез\", \"чел\", ft_model, ft_tokenizer)\n",
        "res"
      ],
      "metadata": {
        "colab": {
          "base_uri": "https://localhost:8080/"
        },
        "id": "FGv8at6I6OTT",
        "outputId": "fc89c949-b49d-46db-e75c-9fc2441eeffe"
      },
      "execution_count": null,
      "outputs": [
        {
          "output_type": "execute_result",
          "data": {
            "text/plain": [
              "{'lexeme': 'чел',\n",
              " 'context': 'тебе же [TGT]чел[/TGT] из германии кроссы привез',\n",
              " 'predicted_class': 2,\n",
              " 'confidence': 0.7891203165054321,\n",
              " 'all_probs': [0.011187042109668255,\n",
              "  0.11496026813983917,\n",
              "  0.7891203165054321,\n",
              "  0.008560952730476856,\n",
              "  0.01455766148865223,\n",
              "  0.009203560650348663,\n",
              "  0.010504499077796936,\n",
              "  0.0028733110520988703,\n",
              "  0.014437860809266567,\n",
              "  0.017645934596657753,\n",
              "  0.006948591209948063]}"
            ]
          },
          "metadata": {},
          "execution_count": 27
        }
      ]
    },
    {
      "cell_type": "code",
      "source": [
        "res = predict_meaning(\"[TGT]чел[/TGT], покупающий плойку в первый раз может и не разберется, \", \"чел\", ft_model, ft_tokenizer)\n",
        "res"
      ],
      "metadata": {
        "colab": {
          "base_uri": "https://localhost:8080/"
        },
        "id": "tHRnS-ZP6md0",
        "outputId": "1d14b99e-e673-495d-d6cb-263e17985572"
      },
      "execution_count": null,
      "outputs": [
        {
          "output_type": "execute_result",
          "data": {
            "text/plain": [
              "{'lexeme': 'чел',\n",
              " 'context': '[TGT]чел[/TGT], покупающий плойку в первый раз может и не разберется, ',\n",
              " 'predicted_class': 1,\n",
              " 'confidence': 0.8945075869560242,\n",
              " 'all_probs': [0.008714420720934868,\n",
              "  0.8945075869560242,\n",
              "  0.06682854890823364,\n",
              "  0.008741517551243305,\n",
              "  0.0016998931532725692,\n",
              "  0.0018846811726689339,\n",
              "  0.0029170492198318243,\n",
              "  0.000978663214482367,\n",
              "  0.0078293327242136,\n",
              "  0.001371831283904612,\n",
              "  0.004526492673903704]}"
            ]
          },
          "metadata": {},
          "execution_count": 32
        }
      ]
    },
    {
      "cell_type": "code",
      "source": [
        "res = predict_meaning(\"[TGT]чел[/TGT] с какой то сумкой это странно\", \"чел\", ft_model, ft_tokenizer)\n",
        "res"
      ],
      "metadata": {
        "colab": {
          "base_uri": "https://localhost:8080/"
        },
        "id": "arl5G05T8cdu",
        "outputId": "29a1de3e-06b9-4ed4-9bdf-40c389b9031f"
      },
      "execution_count": null,
      "outputs": [
        {
          "output_type": "execute_result",
          "data": {
            "text/plain": [
              "{'lexeme': 'чел',\n",
              " 'context': '[TGT]чел[/TGT], с какой то сумкой это странно',\n",
              " 'predicted_class': 3,\n",
              " 'confidence': 0.7609202861785889,\n",
              " 'all_probs': [0.008208331651985645,\n",
              "  0.13021986186504364,\n",
              "  0.06252092868089676,\n",
              "  0.7609202861785889,\n",
              "  0.0032296839635819197,\n",
              "  0.013273399323225021,\n",
              "  0.003287484170868993,\n",
              "  0.002289244206622243,\n",
              "  0.00559795368462801,\n",
              "  0.002989978762343526,\n",
              "  0.00746289873495698]}"
            ]
          },
          "metadata": {},
          "execution_count": 43
        }
      ]
    },
    {
      "cell_type": "code",
      "source": [
        "res = predict_meaning(\"[TGT]чел[/TGT] не до конца понял этот фильм\", \"челик\", ft_model, ft_tokenizer)\n",
        "res"
      ],
      "metadata": {
        "colab": {
          "base_uri": "https://localhost:8080/"
        },
        "id": "JLeNqO2f9cNy",
        "outputId": "0fa0bc37-cb90-4bec-f557-bd04a4c3a605"
      },
      "execution_count": null,
      "outputs": [
        {
          "output_type": "execute_result",
          "data": {
            "text/plain": [
              "{'lexeme': 'челик',\n",
              " 'context': '[TGT]чел[/TGT] не до конца понял этот фильм',\n",
              " 'predicted_class': 1,\n",
              " 'confidence': 0.8911352157592773,\n",
              " 'all_probs': [0.007623344659805298,\n",
              "  0.8911352157592773,\n",
              "  0.0679292157292366,\n",
              "  0.011977944523096085,\n",
              "  0.001695779268629849,\n",
              "  0.0019391136011108756,\n",
              "  0.0024802940897643566,\n",
              "  0.0015627914108335972,\n",
              "  0.006918099708855152,\n",
              "  0.0013947776751592755,\n",
              "  0.005343316588550806]}"
            ]
          },
          "metadata": {},
          "execution_count": 51
        }
      ]
    },
    {
      "cell_type": "code",
      "source": [
        "res = predict_meaning(\"[TGT]челик[/TGT] просто все еще бомбит что не получилось\", \"челик\", ft_model, ft_tokenizer)\n",
        "res"
      ],
      "metadata": {
        "colab": {
          "base_uri": "https://localhost:8080/"
        },
        "id": "dqbya1-r9uWS",
        "outputId": "ecf62676-939f-4061-dcf6-5f84dba7505d"
      },
      "execution_count": null,
      "outputs": [
        {
          "output_type": "execute_result",
          "data": {
            "text/plain": [
              "{'lexeme': 'челик',\n",
              " 'context': '[TGT]челик[/TGT] просто все еще бомбит что не получилось',\n",
              " 'predicted_class': 3,\n",
              " 'confidence': 0.8649411201477051,\n",
              " 'all_probs': [0.004592506680637598,\n",
              "  0.07066633552312851,\n",
              "  0.02512032724916935,\n",
              "  0.8649411201477051,\n",
              "  0.001930588623508811,\n",
              "  0.014907901175320148,\n",
              "  0.0025134936440736055,\n",
              "  0.0024157168809324503,\n",
              "  0.003253684611991048,\n",
              "  0.0018417018000036478,\n",
              "  0.007816599681973457]}"
            ]
          },
          "metadata": {},
          "execution_count": 49
        }
      ]
    },
    {
      "cell_type": "markdown",
      "source": [
        "# Предсказание коннотации"
      ],
      "metadata": {
        "id": "Tnyc0D-8rIVl"
      }
    },
    {
      "cell_type": "code",
      "source": [
        "conn_df = coded_result.drop(['Full context', '1 level'], axis=1)"
      ],
      "metadata": {
        "id": "Dn19_lUzrL-F"
      },
      "execution_count": null,
      "outputs": []
    },
    {
      "cell_type": "code",
      "source": [
        "conn_df"
      ],
      "metadata": {
        "colab": {
          "base_uri": "https://localhost:8080/",
          "height": 423
        },
        "id": "np5OWeMudwg_",
        "outputId": "b3f73646-a3fe-4dc4-f771-e21e68f59c90"
      },
      "execution_count": null,
      "outputs": [
        {
          "output_type": "execute_result",
          "data": {
            "text/plain": [
              "      conn                                        marked_text\n",
              "0        1  если бы не [TGT]деды[/TGT], мы бы не собиралис...\n",
              "1        1  кто начнет первый посылать [TGT]деда[/TGT]? я ...\n",
              "2        1  но этих [TGT]мужчин[/TGT] надо слушать, мне та...\n",
              "3        2  , даже очень порядочные и вовсе не корыстные [...\n",
              "4        1  я знаю, о чем говорю, так как был воспитан мат...\n",
              "...    ...                                                ...\n",
              "4463     1  мужиками, а не с теми безусыми [TGT]юнцами[/TG...\n",
              "4464     1  я бы даже, честно говоря, усомнилась, что [TGT...\n",
              "4465     1                  [TGT]чел[/TGT] сверху мой ребенок\n",
              "4466     2  эй [TGT]бро[/TGT], нас не испортить деньгами и...\n",
              "4467     1  желтый снег, когда проблем с деньгами нет, [TG...\n",
              "\n",
              "[4468 rows x 2 columns]"
            ],
            "text/html": [
              "\n",
              "  <div id=\"df-4af9dbcc-52ac-4c60-94a2-9f743d5910e0\" class=\"colab-df-container\">\n",
              "    <div>\n",
              "<style scoped>\n",
              "    .dataframe tbody tr th:only-of-type {\n",
              "        vertical-align: middle;\n",
              "    }\n",
              "\n",
              "    .dataframe tbody tr th {\n",
              "        vertical-align: top;\n",
              "    }\n",
              "\n",
              "    .dataframe thead th {\n",
              "        text-align: right;\n",
              "    }\n",
              "</style>\n",
              "<table border=\"1\" class=\"dataframe\">\n",
              "  <thead>\n",
              "    <tr style=\"text-align: right;\">\n",
              "      <th></th>\n",
              "      <th>conn</th>\n",
              "      <th>marked_text</th>\n",
              "    </tr>\n",
              "  </thead>\n",
              "  <tbody>\n",
              "    <tr>\n",
              "      <th>0</th>\n",
              "      <td>1</td>\n",
              "      <td>если бы не [TGT]деды[/TGT], мы бы не собиралис...</td>\n",
              "    </tr>\n",
              "    <tr>\n",
              "      <th>1</th>\n",
              "      <td>1</td>\n",
              "      <td>кто начнет первый посылать [TGT]деда[/TGT]? я ...</td>\n",
              "    </tr>\n",
              "    <tr>\n",
              "      <th>2</th>\n",
              "      <td>1</td>\n",
              "      <td>но этих [TGT]мужчин[/TGT] надо слушать, мне та...</td>\n",
              "    </tr>\n",
              "    <tr>\n",
              "      <th>3</th>\n",
              "      <td>2</td>\n",
              "      <td>, даже очень порядочные и вовсе не корыстные [...</td>\n",
              "    </tr>\n",
              "    <tr>\n",
              "      <th>4</th>\n",
              "      <td>1</td>\n",
              "      <td>я знаю, о чем говорю, так как был воспитан мат...</td>\n",
              "    </tr>\n",
              "    <tr>\n",
              "      <th>...</th>\n",
              "      <td>...</td>\n",
              "      <td>...</td>\n",
              "    </tr>\n",
              "    <tr>\n",
              "      <th>4463</th>\n",
              "      <td>1</td>\n",
              "      <td>мужиками, а не с теми безусыми [TGT]юнцами[/TG...</td>\n",
              "    </tr>\n",
              "    <tr>\n",
              "      <th>4464</th>\n",
              "      <td>1</td>\n",
              "      <td>я бы даже, честно говоря, усомнилась, что [TGT...</td>\n",
              "    </tr>\n",
              "    <tr>\n",
              "      <th>4465</th>\n",
              "      <td>1</td>\n",
              "      <td>[TGT]чел[/TGT] сверху мой ребенок</td>\n",
              "    </tr>\n",
              "    <tr>\n",
              "      <th>4466</th>\n",
              "      <td>2</td>\n",
              "      <td>эй [TGT]бро[/TGT], нас не испортить деньгами и...</td>\n",
              "    </tr>\n",
              "    <tr>\n",
              "      <th>4467</th>\n",
              "      <td>1</td>\n",
              "      <td>желтый снег, когда проблем с деньгами нет, [TG...</td>\n",
              "    </tr>\n",
              "  </tbody>\n",
              "</table>\n",
              "<p>4468 rows × 2 columns</p>\n",
              "</div>\n",
              "    <div class=\"colab-df-buttons\">\n",
              "\n",
              "  <div class=\"colab-df-container\">\n",
              "    <button class=\"colab-df-convert\" onclick=\"convertToInteractive('df-4af9dbcc-52ac-4c60-94a2-9f743d5910e0')\"\n",
              "            title=\"Convert this dataframe to an interactive table.\"\n",
              "            style=\"display:none;\">\n",
              "\n",
              "  <svg xmlns=\"http://www.w3.org/2000/svg\" height=\"24px\" viewBox=\"0 -960 960 960\">\n",
              "    <path d=\"M120-120v-720h720v720H120Zm60-500h600v-160H180v160Zm220 220h160v-160H400v160Zm0 220h160v-160H400v160ZM180-400h160v-160H180v160Zm440 0h160v-160H620v160ZM180-180h160v-160H180v160Zm440 0h160v-160H620v160Z\"/>\n",
              "  </svg>\n",
              "    </button>\n",
              "\n",
              "  <style>\n",
              "    .colab-df-container {\n",
              "      display:flex;\n",
              "      gap: 12px;\n",
              "    }\n",
              "\n",
              "    .colab-df-convert {\n",
              "      background-color: #E8F0FE;\n",
              "      border: none;\n",
              "      border-radius: 50%;\n",
              "      cursor: pointer;\n",
              "      display: none;\n",
              "      fill: #1967D2;\n",
              "      height: 32px;\n",
              "      padding: 0 0 0 0;\n",
              "      width: 32px;\n",
              "    }\n",
              "\n",
              "    .colab-df-convert:hover {\n",
              "      background-color: #E2EBFA;\n",
              "      box-shadow: 0px 1px 2px rgba(60, 64, 67, 0.3), 0px 1px 3px 1px rgba(60, 64, 67, 0.15);\n",
              "      fill: #174EA6;\n",
              "    }\n",
              "\n",
              "    .colab-df-buttons div {\n",
              "      margin-bottom: 4px;\n",
              "    }\n",
              "\n",
              "    [theme=dark] .colab-df-convert {\n",
              "      background-color: #3B4455;\n",
              "      fill: #D2E3FC;\n",
              "    }\n",
              "\n",
              "    [theme=dark] .colab-df-convert:hover {\n",
              "      background-color: #434B5C;\n",
              "      box-shadow: 0px 1px 3px 1px rgba(0, 0, 0, 0.15);\n",
              "      filter: drop-shadow(0px 1px 2px rgba(0, 0, 0, 0.3));\n",
              "      fill: #FFFFFF;\n",
              "    }\n",
              "  </style>\n",
              "\n",
              "    <script>\n",
              "      const buttonEl =\n",
              "        document.querySelector('#df-4af9dbcc-52ac-4c60-94a2-9f743d5910e0 button.colab-df-convert');\n",
              "      buttonEl.style.display =\n",
              "        google.colab.kernel.accessAllowed ? 'block' : 'none';\n",
              "\n",
              "      async function convertToInteractive(key) {\n",
              "        const element = document.querySelector('#df-4af9dbcc-52ac-4c60-94a2-9f743d5910e0');\n",
              "        const dataTable =\n",
              "          await google.colab.kernel.invokeFunction('convertToInteractive',\n",
              "                                                    [key], {});\n",
              "        if (!dataTable) return;\n",
              "\n",
              "        const docLinkHtml = 'Like what you see? Visit the ' +\n",
              "          '<a target=\"_blank\" href=https://colab.research.google.com/notebooks/data_table.ipynb>data table notebook</a>'\n",
              "          + ' to learn more about interactive tables.';\n",
              "        element.innerHTML = '';\n",
              "        dataTable['output_type'] = 'display_data';\n",
              "        await google.colab.output.renderOutput(dataTable, element);\n",
              "        const docLink = document.createElement('div');\n",
              "        docLink.innerHTML = docLinkHtml;\n",
              "        element.appendChild(docLink);\n",
              "      }\n",
              "    </script>\n",
              "  </div>\n",
              "\n",
              "\n",
              "    <div id=\"df-fcf507cd-0188-4a79-a37c-aec0764236b1\">\n",
              "      <button class=\"colab-df-quickchart\" onclick=\"quickchart('df-fcf507cd-0188-4a79-a37c-aec0764236b1')\"\n",
              "                title=\"Suggest charts\"\n",
              "                style=\"display:none;\">\n",
              "\n",
              "<svg xmlns=\"http://www.w3.org/2000/svg\" height=\"24px\"viewBox=\"0 0 24 24\"\n",
              "     width=\"24px\">\n",
              "    <g>\n",
              "        <path d=\"M19 3H5c-1.1 0-2 .9-2 2v14c0 1.1.9 2 2 2h14c1.1 0 2-.9 2-2V5c0-1.1-.9-2-2-2zM9 17H7v-7h2v7zm4 0h-2V7h2v10zm4 0h-2v-4h2v4z\"/>\n",
              "    </g>\n",
              "</svg>\n",
              "      </button>\n",
              "\n",
              "<style>\n",
              "  .colab-df-quickchart {\n",
              "      --bg-color: #E8F0FE;\n",
              "      --fill-color: #1967D2;\n",
              "      --hover-bg-color: #E2EBFA;\n",
              "      --hover-fill-color: #174EA6;\n",
              "      --disabled-fill-color: #AAA;\n",
              "      --disabled-bg-color: #DDD;\n",
              "  }\n",
              "\n",
              "  [theme=dark] .colab-df-quickchart {\n",
              "      --bg-color: #3B4455;\n",
              "      --fill-color: #D2E3FC;\n",
              "      --hover-bg-color: #434B5C;\n",
              "      --hover-fill-color: #FFFFFF;\n",
              "      --disabled-bg-color: #3B4455;\n",
              "      --disabled-fill-color: #666;\n",
              "  }\n",
              "\n",
              "  .colab-df-quickchart {\n",
              "    background-color: var(--bg-color);\n",
              "    border: none;\n",
              "    border-radius: 50%;\n",
              "    cursor: pointer;\n",
              "    display: none;\n",
              "    fill: var(--fill-color);\n",
              "    height: 32px;\n",
              "    padding: 0;\n",
              "    width: 32px;\n",
              "  }\n",
              "\n",
              "  .colab-df-quickchart:hover {\n",
              "    background-color: var(--hover-bg-color);\n",
              "    box-shadow: 0 1px 2px rgba(60, 64, 67, 0.3), 0 1px 3px 1px rgba(60, 64, 67, 0.15);\n",
              "    fill: var(--button-hover-fill-color);\n",
              "  }\n",
              "\n",
              "  .colab-df-quickchart-complete:disabled,\n",
              "  .colab-df-quickchart-complete:disabled:hover {\n",
              "    background-color: var(--disabled-bg-color);\n",
              "    fill: var(--disabled-fill-color);\n",
              "    box-shadow: none;\n",
              "  }\n",
              "\n",
              "  .colab-df-spinner {\n",
              "    border: 2px solid var(--fill-color);\n",
              "    border-color: transparent;\n",
              "    border-bottom-color: var(--fill-color);\n",
              "    animation:\n",
              "      spin 1s steps(1) infinite;\n",
              "  }\n",
              "\n",
              "  @keyframes spin {\n",
              "    0% {\n",
              "      border-color: transparent;\n",
              "      border-bottom-color: var(--fill-color);\n",
              "      border-left-color: var(--fill-color);\n",
              "    }\n",
              "    20% {\n",
              "      border-color: transparent;\n",
              "      border-left-color: var(--fill-color);\n",
              "      border-top-color: var(--fill-color);\n",
              "    }\n",
              "    30% {\n",
              "      border-color: transparent;\n",
              "      border-left-color: var(--fill-color);\n",
              "      border-top-color: var(--fill-color);\n",
              "      border-right-color: var(--fill-color);\n",
              "    }\n",
              "    40% {\n",
              "      border-color: transparent;\n",
              "      border-right-color: var(--fill-color);\n",
              "      border-top-color: var(--fill-color);\n",
              "    }\n",
              "    60% {\n",
              "      border-color: transparent;\n",
              "      border-right-color: var(--fill-color);\n",
              "    }\n",
              "    80% {\n",
              "      border-color: transparent;\n",
              "      border-right-color: var(--fill-color);\n",
              "      border-bottom-color: var(--fill-color);\n",
              "    }\n",
              "    90% {\n",
              "      border-color: transparent;\n",
              "      border-bottom-color: var(--fill-color);\n",
              "    }\n",
              "  }\n",
              "</style>\n",
              "\n",
              "      <script>\n",
              "        async function quickchart(key) {\n",
              "          const quickchartButtonEl =\n",
              "            document.querySelector('#' + key + ' button');\n",
              "          quickchartButtonEl.disabled = true;  // To prevent multiple clicks.\n",
              "          quickchartButtonEl.classList.add('colab-df-spinner');\n",
              "          try {\n",
              "            const charts = await google.colab.kernel.invokeFunction(\n",
              "                'suggestCharts', [key], {});\n",
              "          } catch (error) {\n",
              "            console.error('Error during call to suggestCharts:', error);\n",
              "          }\n",
              "          quickchartButtonEl.classList.remove('colab-df-spinner');\n",
              "          quickchartButtonEl.classList.add('colab-df-quickchart-complete');\n",
              "        }\n",
              "        (() => {\n",
              "          let quickchartButtonEl =\n",
              "            document.querySelector('#df-fcf507cd-0188-4a79-a37c-aec0764236b1 button');\n",
              "          quickchartButtonEl.style.display =\n",
              "            google.colab.kernel.accessAllowed ? 'block' : 'none';\n",
              "        })();\n",
              "      </script>\n",
              "    </div>\n",
              "    </div>\n",
              "  </div>\n"
            ],
            "application/vnd.google.colaboratory.intrinsic+json": {
              "type": "dataframe",
              "variable_name": "conn_df",
              "summary": "{\n  \"name\": \"conn_df\",\n  \"rows\": 4468,\n  \"fields\": [\n    {\n      \"column\": \"conn\",\n      \"properties\": {\n        \"dtype\": \"number\",\n        \"std\": 0,\n        \"min\": 0,\n        \"max\": 2,\n        \"num_unique_values\": 3,\n        \"samples\": [\n          1,\n          2,\n          0\n        ],\n        \"semantic_type\": \"\",\n        \"description\": \"\"\n      }\n    },\n    {\n      \"column\": \"marked_text\",\n      \"properties\": {\n        \"dtype\": \"string\",\n        \"num_unique_values\": 4465,\n        \"samples\": [\n          \"\\u0435\\u0441\\u043b\\u0438 \\u0438 \\u043d\\u0430\\u0437\\u044b\\u0432\\u0430\\u044e\\u0442, \\u0442\\u043e \\u043a\\u0430\\u043a\\u0438\\u0445-\\u0442\\u043e \\u0431\\u043e\\u043b\\u0435\\u0435 \\u0430\\u0433\\u0440\\u0435\\u0441\\u0441\\u0438\\u0432\\u043d\\u044b\\u0445 [TGT]\\u043f\\u0430\\u0446\\u0430\\u043d\\u043e\\u0432[/TGT].<\\u2026\",\n          \"\\u0441 \\u043e\\u0434\\u043d\\u043e\\u0439 \\u0441\\u0442\\u043e\\u0440\\u043e\\u043d\\u044b \\u0432 \\u043a\\u0430\\u043a\\u0438\\u0445-\\u0442\\u043e \\u043a\\u043d\\u0438\\u0436\\u043e\\u043d\\u043a\\u0430\\u0445 \\u043c\\u043e\\u0436\\u043d\\u043e \\u0432\\u0441\\u0442\\u0440\\u0435\\u0442\\u0438\\u0442\\u044c \\u0446\\u0435\\u043b\\u044b\\u0435 \\u043e\\u0434\\u044b \\u043f\\u0438\\u0432\\u0443, \\u0437\\u0430\\u043a\\u0430\\u043d\\u0447\\u0438\\u0432\\u0430\\u044e\\u0449\\u0438\\u0435\\u0441\\u044f \\u0440\\u0435\\u043a\\u043e\\u043c\\u0435\\u043d\\u0434\\u0430\\u0446\\u0438\\u044f\\u043c\\u0438 \\u0443\\u043f\\u043e\\u0442\\u0440\\u0435\\u0431\\u043b\\u044f\\u0442\\u044c \\u043f\\u0438\\u0432\\u043e \\u0431\\u0435\\u0440\\u0435\\u043c\\u0435\\u043d\\u043d\\u044b\\u043c [TGT]\\u0436\\u0435\\u043d\\u0449\\u0438\\u043d\\u0430\\u043c[/TGT]\",\n          \"(\\u0441\\u0442\\u0430\\u043d\\u043e\\u0432\\u0438\\u0442\\u044c\\u0441\\u044f) give-gave-given [TGT]\\u0434\\u0435\\u0434[/TGT] \\u0435\\u043c\\u0443 (\\u0434\\u0430\\u0432\\u0430\\u0442\\u044c) \\u0434\\u043e\\u0440\\u043e\\u0433\\u0443\\u044e \\u0431\\u0430\\u0441\\u0442\\u0443\\u0440\\u043c\\u0443 \\u2014 \\u043d\\u0430\\u0434\\u043e \\u0436 \\u043f\\u0441\\u0438\\u043d\\u0443 feed-fed-fed (\\u043a\\u043e\\u0440\\u043c\\u0438\\u0442\\u044c) \\u0447\\u0435\\u043c-\\u0442\\u043e \\u0432\\u043a\\u0443\\u0441\\u043d\\u044b\\u043c \\u043d\\u0430 \\u043e\\u0431\\u0435\\u0434.\"\n        ],\n        \"semantic_type\": \"\",\n        \"description\": \"\"\n      }\n    }\n  ]\n}"
            }
          },
          "metadata": {},
          "execution_count": 17
        }
      ]
    },
    {
      "cell_type": "code",
      "source": [
        "num_labels_conn =  len(set(conn_df[\"conn\"]))\n",
        "num_labels_conn"
      ],
      "metadata": {
        "colab": {
          "base_uri": "https://localhost:8080/"
        },
        "id": "AjSj1zeZreSK",
        "outputId": "aab2df15-f02d-445e-9478-62476e2fb2cd"
      },
      "execution_count": null,
      "outputs": [
        {
          "output_type": "execute_result",
          "data": {
            "text/plain": [
              "3"
            ]
          },
          "metadata": {},
          "execution_count": 10
        }
      ]
    },
    {
      "cell_type": "code",
      "source": [
        "def split_data_conn():\n",
        "  X_train, X, y_train, y = train_test_split(conn_df['marked_text'],\n",
        "                                                  conn_df['conn'],   #столбец, значения в котором хотим  предсказать\n",
        "                                                  test_size = 0.3,  #доля тестовой выборки от общего числа данных\n",
        "                                                  random_state = 42,\n",
        "                                                  stratify = conn_df['conn'])  #столбец,  по которому стратифицируем данные\n",
        "\n",
        "  X_test, X_val, y_test, y_val = train_test_split(X, y,\n",
        "                                                test_size = 0.5,\n",
        "                                                random_state = 42,\n",
        "                                                stratify=y)\n",
        "  return (\n",
        "        Dataset.from_dict({\"text\": X_train.tolist(), \"labels\": y_train.tolist()}),\n",
        "        Dataset.from_dict({\"text\": X_val.tolist(), \"labels\": y_val.tolist()}),\n",
        "        Dataset.from_dict({\"text\": X_test.tolist(), \"labels\": y_test.tolist()})\n",
        "    )"
      ],
      "metadata": {
        "id": "U2LRor44rpSK"
      },
      "execution_count": null,
      "outputs": []
    },
    {
      "cell_type": "code",
      "source": [
        "device = torch.device(\"cuda\" if torch.cuda.is_available() else \"cpu\")"
      ],
      "metadata": {
        "id": "b4-ZI-8uVFUM"
      },
      "execution_count": null,
      "outputs": []
    },
    {
      "cell_type": "code",
      "source": [
        "class CustomTrainer(Trainer):\n",
        "    def __init__(self, *args, sampler=None, **kwargs):\n",
        "        super().__init__(*args, **kwargs)\n",
        "        self.sampler = sampler\n",
        "\n",
        "    def get_train_dataloader(self):\n",
        "        if self.train_dataset is None:\n",
        "            raise ValueError(\"Trainer: training requires a train_dataset.\")\n",
        "\n",
        "        if self.sampler is not None:\n",
        "            return torch.utils.data.DataLoader(\n",
        "                self.train_dataset,\n",
        "                batch_size=self.args.train_batch_size,\n",
        "                sampler=self.sampler,\n",
        "                collate_fn=self.data_collator,\n",
        "                drop_last=self.args.dataloader_drop_last,\n",
        "                num_workers=self.args.dataloader_num_workers,\n",
        "                pin_memory=self.args.dataloader_pin_memory,\n",
        "            )\n",
        "        else:\n",
        "            return super().get_train_dataloader()"
      ],
      "metadata": {
        "id": "ayYKcTUZWJdl"
      },
      "execution_count": null,
      "outputs": []
    },
    {
      "cell_type": "code",
      "source": [
        "def main():\n",
        "  X_train, X_val, X_test = split_data_conn()\n",
        "  labels = np.array(X_train[\"labels\"])\n",
        "\n",
        "  class_weights = compute_class_weight(\n",
        "        class_weight=\"balanced\",\n",
        "        classes=np.unique(labels),\n",
        "        y=labels)\n",
        "\n",
        "  class_weights = torch.tensor(class_weights, dtype=torch.float).to(device)\n",
        "\n",
        "  model_name = \"DeepPavlov/rubert-base-cased-conversational\"\n",
        "  tokenizer = AutoTokenizer.from_pretrained(model_name)\n",
        "  model_conn = AutoModelForSequenceClassification.from_pretrained(model_name,\n",
        "                                                                  num_labels=3,\n",
        "    problem_type=\"single_label_classification\")\n",
        "\n",
        "  model_conn.classifier = nn.Linear(model_conn.config.hidden_size, 3)\n",
        "  model_conn.loss_fct = nn.CrossEntropyLoss(weight=class_weights)\n",
        "\n",
        "  sampler = WeightedRandomSampler(weights=class_weights[labels],\n",
        "                                  num_samples=len(labels),\n",
        "                                  replacement=True)\n",
        "\n",
        "\n",
        "  tokenized_train = X_train.map(\n",
        "        lambda x: tokenize(x, tokenizer),\n",
        "        batched=True)\n",
        "\n",
        "\n",
        "  tokenized_val = X_val.map(\n",
        "        lambda x: tokenize(x, tokenizer),\n",
        "        batched=True)\n",
        "\n",
        "\n",
        "  tokenized_test = X_test.map(\n",
        "        lambda x: tokenize(x, tokenizer),\n",
        "        batched=True)\n",
        "\n",
        "  training_args = TrainingArguments(\n",
        "    output_dir=\"./balanced_results\",\n",
        "    per_device_train_batch_size=32,\n",
        "    learning_rate=2e-5,\n",
        "    num_train_epochs=3,\n",
        "    eval_strategy=\"epoch\",\n",
        "    save_strategy=\"no\",\n",
        "    logging_steps=50)\n",
        "\n",
        "  trainer = CustomTrainer(\n",
        "        model=model_conn,\n",
        "        args=training_args,\n",
        "        train_dataset=tokenized_train,\n",
        "        eval_dataset=tokenized_val,\n",
        "        compute_metrics=compute_metrics,\n",
        "        sampler=sampler)\n",
        "\n",
        "  print(\"происходит файнтюнинг\")\n",
        "  trainer.train()\n",
        "\n",
        "  print(\"результаты на валидационной выборке\")\n",
        "  val_results = trainer.evaluate()\n",
        "  for key, value in val_results.items():\n",
        "      if key.startswith('eval_'):\n",
        "          print(f\"{key[5:]}: {value:.4f}\")\n",
        "\n",
        "\n",
        "  model_conn.save_pretrained(\"./fine_tuned_conn_model_sampling\")\n",
        "  tokenizer.save_pretrained(\"./fine_tuned_conn_model_sampling\")\n",
        "  print(\"Модель сохранена в fine_tuned_conn_model_sampling/\")\n",
        "\n",
        "\n",
        "if __name__ == \"__main__\":\n",
        "    main()"
      ],
      "metadata": {
        "colab": {
          "base_uri": "https://localhost:8080/",
          "height": 724,
          "referenced_widgets": [
            "d3660656237e428db85c5f4e6709350b",
            "51a3de01dbbf4bb4b0a981ae6b8b339d",
            "a1a0946100e04263a7a433284240bf6e",
            "99a55624124745c7b4b2b19f150711ef",
            "5c6eccf1a9594b9eb671bc6caf540e3d",
            "6ee0014af138401d840d0b3e71947893",
            "852a1a29901b4a159d57567d681655db",
            "b077485b507e4d45b54651db8f0eda6e",
            "da112f8a0e834cb1877032ba8b9b38b5",
            "5178a9cd24624e27a4c77fe4cec35c35",
            "8eb581cc53644ef5becb53b4395d81e2",
            "9eebfe349e7246b6ad79d4d3bf55eb7b",
            "7bcf37e25f1144adb3973fdd15ce80de",
            "0621173240914084a62e2be1d55c3404",
            "3d0b68f2f5e74c67b93ab990dbe6f5ee",
            "ade79882aa42414cb8ee9e13a8df9301",
            "f870043a998a42c596276515ea2a6fad",
            "272cd2c6c3b944fa8c012903d784a47c",
            "62154bc6390a456396904b1b1efe7c1d",
            "791034008dea41c09c18aa90c428745f",
            "ed709381dee048b0a10b0d7e28765e29",
            "aea8faede26e45e88239f2694e771f3d",
            "2be6d3d7fe5f4e0eabcfadaeb820fd73",
            "520b7ebe11fc4daea13a3bcf96646142",
            "d4ec6eb9e7bb4d6db941e02205466585",
            "0a3e53050c70446ca6d152338b6d95fc",
            "a805c94ca77d4d61ad0d1699717f2944",
            "3b53d9313652402688b58c5c08cd6a7a",
            "67458d9c8aa9492a95f7cc46254778e4",
            "887ca59c3cf64ab396e8a04b4ae55588",
            "65eff5ebe47340e392a2e126e621f8cd",
            "74a99b9346d6470485599ece6a8bd34c",
            "39db76f27cc84ec681785c076abc4868"
          ]
        },
        "outputId": "069a52e8-be66-494c-ac64-92ee797b987c",
        "collapsed": true,
        "id": "wsxJfKTtHZ2K"
      },
      "execution_count": null,
      "outputs": [
        {
          "output_type": "stream",
          "name": "stderr",
          "text": [
            "Some weights of BertForSequenceClassification were not initialized from the model checkpoint at DeepPavlov/rubert-base-cased-conversational and are newly initialized: ['classifier.bias', 'classifier.weight']\n",
            "You should probably TRAIN this model on a down-stream task to be able to use it for predictions and inference.\n"
          ]
        },
        {
          "output_type": "display_data",
          "data": {
            "text/plain": [
              "Map:   0%|          | 0/3127 [00:00<?, ? examples/s]"
            ],
            "application/vnd.jupyter.widget-view+json": {
              "version_major": 2,
              "version_minor": 0,
              "model_id": "d3660656237e428db85c5f4e6709350b"
            }
          },
          "metadata": {}
        },
        {
          "output_type": "display_data",
          "data": {
            "text/plain": [
              "Map:   0%|          | 0/671 [00:00<?, ? examples/s]"
            ],
            "application/vnd.jupyter.widget-view+json": {
              "version_major": 2,
              "version_minor": 0,
              "model_id": "9eebfe349e7246b6ad79d4d3bf55eb7b"
            }
          },
          "metadata": {}
        },
        {
          "output_type": "display_data",
          "data": {
            "text/plain": [
              "Map:   0%|          | 0/670 [00:00<?, ? examples/s]"
            ],
            "application/vnd.jupyter.widget-view+json": {
              "version_major": 2,
              "version_minor": 0,
              "model_id": "2be6d3d7fe5f4e0eabcfadaeb820fd73"
            }
          },
          "metadata": {}
        },
        {
          "output_type": "stream",
          "name": "stdout",
          "text": [
            "происходит файнтюнинг\n"
          ]
        },
        {
          "output_type": "display_data",
          "data": {
            "text/plain": [
              "<IPython.core.display.HTML object>"
            ],
            "text/html": [
              "\n",
              "    <div>\n",
              "      \n",
              "      <progress value='294' max='294' style='width:300px; height:20px; vertical-align: middle;'></progress>\n",
              "      [294/294 3:35:32, Epoch 3/3]\n",
              "    </div>\n",
              "    <table border=\"1\" class=\"dataframe\">\n",
              "  <thead>\n",
              " <tr style=\"text-align: left;\">\n",
              "      <th>Epoch</th>\n",
              "      <th>Training Loss</th>\n",
              "      <th>Validation Loss</th>\n",
              "      <th>Accuracy</th>\n",
              "      <th>Precision</th>\n",
              "      <th>Recall</th>\n",
              "      <th>F1</th>\n",
              "      <th>Precision Class 0</th>\n",
              "      <th>Recall Class 0</th>\n",
              "      <th>F1 Class 0</th>\n",
              "      <th>Precision Class 1</th>\n",
              "      <th>Recall Class 1</th>\n",
              "      <th>F1 Class 1</th>\n",
              "      <th>Precision Class 2</th>\n",
              "      <th>Recall Class 2</th>\n",
              "      <th>F1 Class 2</th>\n",
              "    </tr>\n",
              "  </thead>\n",
              "  <tbody>\n",
              "    <tr>\n",
              "      <td>1</td>\n",
              "      <td>0.877700</td>\n",
              "      <td>0.615160</td>\n",
              "      <td>0.777943</td>\n",
              "      <td>0.849382</td>\n",
              "      <td>0.777943</td>\n",
              "      <td>0.797624</td>\n",
              "      <td>0.382353</td>\n",
              "      <td>0.590909</td>\n",
              "      <td>0.464286</td>\n",
              "      <td>0.953704</td>\n",
              "      <td>0.777358</td>\n",
              "      <td>0.856549</td>\n",
              "      <td>0.491228</td>\n",
              "      <td>0.865979</td>\n",
              "      <td>0.626866</td>\n",
              "    </tr>\n",
              "    <tr>\n",
              "      <td>2</td>\n",
              "      <td>0.286600</td>\n",
              "      <td>0.491746</td>\n",
              "      <td>0.847988</td>\n",
              "      <td>0.856587</td>\n",
              "      <td>0.847988</td>\n",
              "      <td>0.850997</td>\n",
              "      <td>0.454545</td>\n",
              "      <td>0.454545</td>\n",
              "      <td>0.454545</td>\n",
              "      <td>0.927308</td>\n",
              "      <td>0.890566</td>\n",
              "      <td>0.908566</td>\n",
              "      <td>0.652542</td>\n",
              "      <td>0.793814</td>\n",
              "      <td>0.716279</td>\n",
              "    </tr>\n",
              "    <tr>\n",
              "      <td>3</td>\n",
              "      <td>0.126500</td>\n",
              "      <td>0.539781</td>\n",
              "      <td>0.842027</td>\n",
              "      <td>0.855803</td>\n",
              "      <td>0.842027</td>\n",
              "      <td>0.847535</td>\n",
              "      <td>0.396226</td>\n",
              "      <td>0.477273</td>\n",
              "      <td>0.432990</td>\n",
              "      <td>0.928571</td>\n",
              "      <td>0.883019</td>\n",
              "      <td>0.905222</td>\n",
              "      <td>0.666667</td>\n",
              "      <td>0.783505</td>\n",
              "      <td>0.720379</td>\n",
              "    </tr>\n",
              "  </tbody>\n",
              "</table><p>"
            ]
          },
          "metadata": {}
        },
        {
          "output_type": "stream",
          "name": "stdout",
          "text": [
            "результаты на валидационной выборке\n"
          ]
        },
        {
          "output_type": "display_data",
          "data": {
            "text/plain": [
              "<IPython.core.display.HTML object>"
            ],
            "text/html": [
              "\n",
              "    <div>\n",
              "      \n",
              "      <progress value='84' max='84' style='width:300px; height:20px; vertical-align: middle;'></progress>\n",
              "      [84/84 04:26]\n",
              "    </div>\n",
              "    "
            ]
          },
          "metadata": {}
        },
        {
          "output_type": "stream",
          "name": "stdout",
          "text": [
            "loss: 0.5398\n",
            "accuracy: 0.8420\n",
            "precision: 0.8558\n",
            "recall: 0.8420\n",
            "f1: 0.8475\n",
            "precision_class_0: 0.3962\n",
            "recall_class_0: 0.4773\n",
            "f1_class_0: 0.4330\n",
            "precision_class_1: 0.9286\n",
            "recall_class_1: 0.8830\n",
            "f1_class_1: 0.9052\n",
            "precision_class_2: 0.6667\n",
            "recall_class_2: 0.7835\n",
            "f1_class_2: 0.7204\n",
            "runtime: 271.0245\n",
            "samples_per_second: 2.4760\n",
            "steps_per_second: 0.3100\n",
            "Модель сохранена в fine_tuned_conn_model_sampling/\n"
          ]
        }
      ]
    },
    {
      "cell_type": "code",
      "source": [
        "!cp -r /content/fine_tuned_conn_model_sampling /content/drive/MyDrive/conn_sampling__model"
      ],
      "metadata": {
        "id": "EXrlLW2kWsON"
      },
      "execution_count": null,
      "outputs": []
    },
    {
      "cell_type": "code",
      "source": [
        "ft_conn_model_path = \"/content/drive/MyDrive/conn_sampling__model\"\n",
        "ft_conn_tokenizer_path = \"/content/drive/MyDrive/conn_sampling__model\"\n",
        "ft_conn_model = AutoModelForSequenceClassification.from_pretrained(ft_conn_model_path)\n",
        "ft_conn_tokenizer = AutoTokenizer.from_pretrained(ft_conn_tokenizer_path)"
      ],
      "metadata": {
        "colab": {
          "base_uri": "https://localhost:8080/"
        },
        "id": "_qypmmKsY0qd",
        "outputId": "853f29ab-28e4-4f74-a9eb-8cefd0a78546"
      },
      "execution_count": null,
      "outputs": [
        {
          "output_type": "stream",
          "name": "stderr",
          "text": [
            "Some weights of the model checkpoint at /content/drive/MyDrive/conn_sampling__model were not used when initializing BertForSequenceClassification: ['loss_fct.weight']\n",
            "- This IS expected if you are initializing BertForSequenceClassification from the checkpoint of a model trained on another task or with another architecture (e.g. initializing a BertForSequenceClassification model from a BertForPreTraining model).\n",
            "- This IS NOT expected if you are initializing BertForSequenceClassification from the checkpoint of a model that you expect to be exactly identical (initializing a BertForSequenceClassification model from a BertForSequenceClassification model).\n"
          ]
        }
      ]
    },
    {
      "cell_type": "code",
      "source": [
        "def plot_confusion_matrix(test_dataset):\n",
        "    trainer = Trainer(model=ft_conn_model)\n",
        "    predictions = trainer.predict(test_dataset)\n",
        "    preds = np.argmax(predictions.predictions, axis=1)\n",
        "    labels = test_dataset[\"labels\"]\n",
        "\n",
        "    cm = confusion_matrix(labels, preds)\n",
        "    cm_normalized = cm.astype('float') / cm.sum(axis=1)[:, np.newaxis]\n",
        "\n",
        "    plt.figure(figsize=(10, 8))\n",
        "    sns.heatmap(cm_normalized, annot=True, fmt=\".2f\", cmap=\"Blues\",\n",
        "                xticklabels=[\"Class 0\", \"Class 1\", \"Class 2\"],\n",
        "                yticklabels=[\"Class 0\", \"Class 1\", \"Class 2\"])\n",
        "    plt.title(\"Normalized Confusion Matrix\")\n",
        "    plt.xlabel(\"Predicted\")\n",
        "    plt.ylabel(\"True\")\n",
        "    plt.savefig(\"/content/drive/MyDrive/conn_sampling__model/confusion_matrix.png\")\n",
        "    plt.show()\n",
        "\n",
        "    print(classification_report(labels, preds, target_names=[\"Class 0\", \"Class 1\", \"Class 2\"]))"
      ],
      "metadata": {
        "id": "AZnjSzfpD0xe"
      },
      "execution_count": null,
      "outputs": []
    },
    {
      "cell_type": "code",
      "source": [
        "X_train, X_val, X_test = split_data_conn()\n",
        "\n",
        "tokenized_test = X_test.map(\n",
        "        lambda x: tokenize(x, ft_conn_tokenizer),\n",
        "        batched=True)"
      ],
      "metadata": {
        "colab": {
          "base_uri": "https://localhost:8080/",
          "height": 49,
          "referenced_widgets": [
            "051ae3da40e241c898527fe892912d11",
            "0f06e4e634334f088e089644e6e703a2",
            "bae9370d303d4c8c91bc39cc8e577e55",
            "ccc7fed1ee354fd9b3fe3b96fe0d5448",
            "4151d1cba39449e2ae142c70b27972a0",
            "90030558f4844fb5850114cda0e976bb",
            "2225adee54444e05901e0a0103cc523c",
            "621b7c19ee004cd483612bf39d969cbc",
            "6136f1093dfd4e829c644a3e8d560002",
            "07a26e776b4f49799f25ade88b05ff05",
            "5663203d965c4ad5b1a1530599443159"
          ]
        },
        "id": "vsDOfoWqXgDL",
        "outputId": "2657b3ef-e5b0-4f73-e27a-e1c345f4005f"
      },
      "execution_count": null,
      "outputs": [
        {
          "output_type": "display_data",
          "data": {
            "text/plain": [
              "Map:   0%|          | 0/670 [00:00<?, ? examples/s]"
            ],
            "application/vnd.jupyter.widget-view+json": {
              "version_major": 2,
              "version_minor": 0,
              "model_id": "051ae3da40e241c898527fe892912d11"
            }
          },
          "metadata": {}
        }
      ]
    },
    {
      "cell_type": "code",
      "source": [
        "plot_confusion_matrix(tokenized_test)"
      ],
      "metadata": {
        "colab": {
          "base_uri": "https://localhost:8080/",
          "height": 1000
        },
        "id": "HeiSuSoCENRZ",
        "outputId": "d6c7732a-e54b-488f-86ae-323acceda16c"
      },
      "execution_count": null,
      "outputs": [
        {
          "output_type": "display_data",
          "data": {
            "text/plain": [
              "<IPython.core.display.HTML object>"
            ],
            "text/html": []
          },
          "metadata": {}
        },
        {
          "output_type": "stream",
          "name": "stderr",
          "text": [
            "\u001b[34m\u001b[1mwandb\u001b[0m: \u001b[33mWARNING\u001b[0m The `run_name` is currently set to the same value as `TrainingArguments.output_dir`. If this was not intended, please specify a different run name by setting the `TrainingArguments.run_name` parameter.\n"
          ]
        },
        {
          "output_type": "display_data",
          "data": {
            "text/plain": [
              "<IPython.core.display.Javascript object>"
            ],
            "application/javascript": [
              "\n",
              "        window._wandbApiKey = new Promise((resolve, reject) => {\n",
              "            function loadScript(url) {\n",
              "            return new Promise(function(resolve, reject) {\n",
              "                let newScript = document.createElement(\"script\");\n",
              "                newScript.onerror = reject;\n",
              "                newScript.onload = resolve;\n",
              "                document.body.appendChild(newScript);\n",
              "                newScript.src = url;\n",
              "            });\n",
              "            }\n",
              "            loadScript(\"https://cdn.jsdelivr.net/npm/postmate/build/postmate.min.js\").then(() => {\n",
              "            const iframe = document.createElement('iframe')\n",
              "            iframe.style.cssText = \"width:0;height:0;border:none\"\n",
              "            document.body.appendChild(iframe)\n",
              "            const handshake = new Postmate({\n",
              "                container: iframe,\n",
              "                url: 'https://wandb.ai/authorize'\n",
              "            });\n",
              "            const timeout = setTimeout(() => reject(\"Couldn't auto authenticate\"), 5000)\n",
              "            handshake.then(function(child) {\n",
              "                child.on('authorize', data => {\n",
              "                    clearTimeout(timeout)\n",
              "                    resolve(data)\n",
              "                });\n",
              "            });\n",
              "            })\n",
              "        });\n",
              "    "
            ]
          },
          "metadata": {}
        },
        {
          "output_type": "stream",
          "name": "stderr",
          "text": [
            "\u001b[34m\u001b[1mwandb\u001b[0m: \u001b[33mWARNING\u001b[0m If you're specifying your api key in code, ensure this code is not shared publicly.\n",
            "\u001b[34m\u001b[1mwandb\u001b[0m: \u001b[33mWARNING\u001b[0m Consider setting the WANDB_API_KEY environment variable, or running `wandb login` from the command line.\n",
            "\u001b[34m\u001b[1mwandb\u001b[0m: No netrc file found, creating one.\n",
            "\u001b[34m\u001b[1mwandb\u001b[0m: Appending key for api.wandb.ai to your netrc file: /root/.netrc\n",
            "\u001b[34m\u001b[1mwandb\u001b[0m: Currently logged in as: \u001b[33mkristinanigamedzanova\u001b[0m (\u001b[33mkristinanigamedzanova-higher-school-of-economics\u001b[0m) to \u001b[32mhttps://api.wandb.ai\u001b[0m. Use \u001b[1m`wandb login --relogin`\u001b[0m to force relogin\n"
          ]
        },
        {
          "output_type": "display_data",
          "data": {
            "text/plain": [
              "<IPython.core.display.HTML object>"
            ],
            "text/html": [
              "Tracking run with wandb version 0.19.11"
            ]
          },
          "metadata": {}
        },
        {
          "output_type": "display_data",
          "data": {
            "text/plain": [
              "<IPython.core.display.HTML object>"
            ],
            "text/html": [
              "Run data is saved locally in <code>/content/wandb/run-20250521_140847-61b3u7p3</code>"
            ]
          },
          "metadata": {}
        },
        {
          "output_type": "display_data",
          "data": {
            "text/plain": [
              "<IPython.core.display.HTML object>"
            ],
            "text/html": [
              "Syncing run <strong><a href='https://wandb.ai/kristinanigamedzanova-higher-school-of-economics/huggingface/runs/61b3u7p3' target=\"_blank\">tmp_trainer</a></strong> to <a href='https://wandb.ai/kristinanigamedzanova-higher-school-of-economics/huggingface' target=\"_blank\">Weights & Biases</a> (<a href='https://wandb.me/developer-guide' target=\"_blank\">docs</a>)<br>"
            ]
          },
          "metadata": {}
        },
        {
          "output_type": "display_data",
          "data": {
            "text/plain": [
              "<IPython.core.display.HTML object>"
            ],
            "text/html": [
              " View project at <a href='https://wandb.ai/kristinanigamedzanova-higher-school-of-economics/huggingface' target=\"_blank\">https://wandb.ai/kristinanigamedzanova-higher-school-of-economics/huggingface</a>"
            ]
          },
          "metadata": {}
        },
        {
          "output_type": "display_data",
          "data": {
            "text/plain": [
              "<IPython.core.display.HTML object>"
            ],
            "text/html": [
              " View run at <a href='https://wandb.ai/kristinanigamedzanova-higher-school-of-economics/huggingface/runs/61b3u7p3' target=\"_blank\">https://wandb.ai/kristinanigamedzanova-higher-school-of-economics/huggingface/runs/61b3u7p3</a>"
            ]
          },
          "metadata": {}
        },
        {
          "output_type": "display_data",
          "data": {
            "text/plain": [
              "<Figure size 1000x800 with 2 Axes>"
            ],
            "image/png": "[encoded data removed]"
          },
          "metadata": {}
        },
        {
          "output_type": "stream",
          "name": "stdout",
          "text": [
            "              precision    recall  f1-score   support\n",
            "\n",
            "     Class 0       0.59      0.55      0.56        44\n",
            "     Class 1       0.94      0.90      0.92       529\n",
            "     Class 2       0.67      0.84      0.74        97\n",
            "\n",
            "    accuracy                           0.87       670\n",
            "   macro avg       0.73      0.76      0.74       670\n",
            "weighted avg       0.88      0.87      0.87       670\n",
            "\n"
          ]
        }
      ]
    },
    {
      "cell_type": "markdown",
      "source": [
        "## Проверяю работу модели на отдельных примерах"
      ],
      "metadata": {
        "id": "Gkiae1H7yMZq"
      }
    },
    {
      "cell_type": "code",
      "source": [
        "conn = predict_meaning(\"Какой ты гениальный мальчик, я бы ведь мама не догадалась так сделать!\", \"мальчик\", ft_conn_model, ft_conn_tokenizer)\n",
        "conn"
      ],
      "metadata": {
        "colab": {
          "base_uri": "https://localhost:8080/",
          "height": 146
        },
        "id": "kSECCQEr0SC5",
        "outputId": "cac4ed69-2e9b-419c-e001-0faeca082a1d"
      },
      "execution_count": null,
      "outputs": [
        {
          "output_type": "error",
          "ename": "NameError",
          "evalue": "name 'conn' is not defined",
          "traceback": [
            "\u001b[0;31m---------------------------------------------------------------------------\u001b[0m",
            "\u001b[0;31mNameError\u001b[0m                                 Traceback (most recent call last)",
            "\u001b[0;32m<ipython-input-21-ddae60ba9c88>\u001b[0m in \u001b[0;36m<cell line: 0>\u001b[0;34m()\u001b[0m\n\u001b[0;32m----> 1\u001b[0;31m \u001b[0mconn\u001b[0m\u001b[0;34m\u001b[0m\u001b[0;34m\u001b[0m\u001b[0m\n\u001b[0m",
            "\u001b[0;31mNameError\u001b[0m: name 'conn' is not defined"
          ]
        }
      ]
    },
    {
      "cell_type": "code",
      "source": [
        "conn = predict_meaning(\"ну что ты как девочка? Реши хоть что-то сам и не ной!\", \"девочка\", ft_conn_model, ft_conn_tokenizer)\n",
        "conn"
      ],
      "metadata": {
        "colab": {
          "base_uri": "https://localhost:8080/"
        },
        "id": "fk1oxZKA1tb8",
        "outputId": "9a9bdcbf-0581-4602-8f36-ecab7b28ecad"
      },
      "execution_count": null,
      "outputs": [
        {
          "output_type": "execute_result",
          "data": {
            "text/plain": [
              "{'lexeme': 'девочка',\n",
              " 'context': 'ну что ты как [TGT]девочка[/TGT]? Реши хоть что-то сам и не ной!',\n",
              " 'predicted_class': 1,\n",
              " 'confidence': 0.4121318757534027,\n",
              " 'all_probs': [0.36489707231521606, 0.4121318757534027, 0.222971111536026]}"
            ]
          },
          "metadata": {},
          "execution_count": 16
        }
      ]
    },
    {
      "cell_type": "code",
      "source": [
        "conn = predict_meaning(\"моя герл - огонь, с ней не соскучишься!\", \"герл\", ft_conn_model, ft_conn_tokenizer)\n",
        "conn"
      ],
      "metadata": {
        "colab": {
          "base_uri": "https://localhost:8080/"
        },
        "id": "z1pHXqUFVtCQ",
        "outputId": "c6688fd0-5aac-462d-cb3b-c1d66f815f8a"
      },
      "execution_count": null,
      "outputs": [
        {
          "output_type": "execute_result",
          "data": {
            "text/plain": [
              "{'lexeme': 'герл',\n",
              " 'context': 'моя [TGT]герл[/TGT] - огонь, с ней не соскучишься!',\n",
              " 'predicted_class': 2,\n",
              " 'confidence': 0.9786319732666016,\n",
              " 'all_probs': [0.004063241183757782, 0.017304852604866028, 0.9786319732666016]}"
            ]
          },
          "metadata": {},
          "execution_count": 6
        }
      ]
    },
    {
      "cell_type": "code",
      "source": [
        "conn = predict_meaning(\"Чел реально заморочился\", \"чел\", ft_conn_model, ft_conn_tokenizer)\n",
        "conn"
      ],
      "metadata": {
        "colab": {
          "base_uri": "https://localhost:8080/"
        },
        "id": "0g9W3xynX1st",
        "outputId": "d619012a-b35b-48fa-9fa6-839512d9c330"
      },
      "execution_count": null,
      "outputs": [
        {
          "output_type": "execute_result",
          "data": {
            "text/plain": [
              "{'lexeme': 'чел',\n",
              " 'context': 'Чел реально заморочился',\n",
              " 'predicted_class': 1,\n",
              " 'confidence': 0.5936833024024963,\n",
              " 'all_probs': [0.05415108799934387, 0.5936833024024963, 0.3521656394004822]}"
            ]
          },
          "metadata": {},
          "execution_count": 8
        }
      ]
    },
    {
      "cell_type": "markdown",
      "source": [
        "# Бейзлайн"
      ],
      "metadata": {
        "id": "2RY1jmhyKJbl"
      }
    },
    {
      "cell_type": "code",
      "source": [
        "X_train, X_val, X_test, y_train, y_test = split_data()"
      ],
      "metadata": {
        "id": "ZF-ndZ52tftD"
      },
      "execution_count": null,
      "outputs": []
    },
    {
      "cell_type": "code",
      "source": [
        "class_counts = np.bincount(y_train)\n",
        "class_probabilities = class_counts / len(y_train)\n",
        "y_pred_baseline = np.random.choice(len(class_probabilities), size=len(y_test), p=class_probabilities)\n",
        "baseline_precision = precision_score(y_test, y_pred_baseline, average=\"weighted\")\n",
        "baseline_f1 = f1_score(y_test, y_pred_baseline, average=\"weighted\")\n",
        "baseline_recall = recall_score(y_test, y_pred_baseline, average=\"weighted\")\n",
        "\n",
        "print(f\"Precision бейзлайна: {baseline_precision}: Recall {baseline_recall}; f1: {baseline_f1}\")"
      ],
      "metadata": {
        "id": "iB0on1uDKNdt",
        "colab": {
          "base_uri": "https://localhost:8080/"
        },
        "outputId": "3a66c844-532e-4e87-f33e-67ddaa0e2d75"
      },
      "execution_count": null,
      "outputs": [
        {
          "output_type": "stream",
          "name": "stdout",
          "text": [
            "Precision бейзлайна: 0.1771108018829144: Recall 0.1746268656716418; f1: 0.17557638395047473\n"
          ]
        }
      ]
    },
    {
      "cell_type": "code",
      "source": [
        "X_train, X_val, X_test, y_train, y_test = split_data_conn()"
      ],
      "metadata": {
        "id": "unX_43h0wm9P"
      },
      "execution_count": null,
      "outputs": []
    },
    {
      "cell_type": "code",
      "source": [
        "class_counts = np.bincount(y_train)\n",
        "class_probabilities = class_counts / len(y_train)\n",
        "y_pred_baseline = np.random.choice(len(class_probabilities), size=len(y_test), p=class_probabilities)\n",
        "baseline_precision = precision_score(y_test, y_pred_baseline, average=\"weighted\")\n",
        "baseline_f1 = f1_score(y_test, y_pred_baseline, average=\"weighted\")\n",
        "baseline_recall = recall_score(y_test, y_pred_baseline, average=\"weighted\")\n",
        "\n",
        "print(f\"Precision бейзлайна: {baseline_precision}: Recall {baseline_recall}; f1: {baseline_f1}\")"
      ],
      "metadata": {
        "colab": {
          "base_uri": "https://localhost:8080/"
        },
        "id": "eaXmtuHzwsWY",
        "outputId": "035d9f3b-255f-4572-f14e-f9813212f38e"
      },
      "execution_count": null,
      "outputs": [
        {
          "output_type": "stream",
          "name": "stdout",
          "text": [
            "Precision бейзлайна: 0.6557164967020104: Recall 0.6462686567164179; f1: 0.6509263061082889\n"
          ]
        }
      ]
    }
  ]
}